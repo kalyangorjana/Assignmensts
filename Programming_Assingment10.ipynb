{
  "nbformat": 4,
  "nbformat_minor": 0,
  "metadata": {
    "colab": {
      "provenance": [],
      "collapsed_sections": [],
      "authorship_tag": "ABX9TyNXj32EfWVYqAlGrxdFaoNz",
      "include_colab_link": true
    },
    "kernelspec": {
      "name": "python3",
      "display_name": "Python 3"
    },
    "language_info": {
      "name": "python"
    }
  },
  "cells": [
    {
      "cell_type": "markdown",
      "metadata": {
        "id": "view-in-github",
        "colab_type": "text"
      },
      "source": [
        "<a href=\"https://colab.research.google.com/github/kalyangorjana/Assignmensts/blob/main/Programming_Assingment10.ipynb\" target=\"_parent\"><img src=\"https://colab.research.google.com/assets/colab-badge.svg\" alt=\"Open In Colab\"/></a>"
      ]
    },
    {
      "cell_type": "markdown",
      "source": [
        "1.Write a Python program to find sum of elements in list?"
      ],
      "metadata": {
        "id": "hmvH75Zpetul"
      }
    },
    {
      "cell_type": "code",
      "source": [
        "li = [34, 78, 95, 34, 56, 24, 69]\n",
        "sum = 0\n",
        "for i in li:\n",
        "  sum += i\n",
        "print(f\"Sum of the elements in list {sum}\")"
      ],
      "metadata": {
        "id": "Gt99OTmucMpt"
      },
      "execution_count": null,
      "outputs": []
    },
    {
      "cell_type": "markdown",
      "source": [
        "2.Write a Python program to Multiply all numbers in the list?\n"
      ],
      "metadata": {
        "id": "OKZpdFElet0C"
      }
    },
    {
      "cell_type": "code",
      "source": [
        "li = [3, 8, 5, 4, 6, 4, 6]\n",
        "sum = 1\n",
        "for i in li:\n",
        "  sum *= i\n",
        "print(f\"Multiplication of the elements in list {sum}\")"
      ],
      "metadata": {
        "colab": {
          "base_uri": "https://localhost:8080/"
        },
        "id": "6iokpSdycsYh",
        "outputId": "e04f6732-703f-4b57-b389-c1433b5a8855"
      },
      "execution_count": 30,
      "outputs": [
        {
          "output_type": "stream",
          "name": "stdout",
          "text": [
            "Multiplication of the elements in list 69120\n"
          ]
        }
      ]
    },
    {
      "cell_type": "markdown",
      "source": [
        "3.Write a Python program to find smallest number in a list?"
      ],
      "metadata": {
        "id": "yO-XFsBzet2Y"
      }
    },
    {
      "cell_type": "code",
      "source": [
        "li = [34, 78, 95, 34, 56, 24, 69]\n",
        "small = li[0]\n",
        "for i in li:\n",
        "  if i < small:\n",
        "    small = i\n",
        "print(f\"Smallest number in the list {small}\")"
      ],
      "metadata": {
        "id": "SrMnI4gBdDMe"
      },
      "execution_count": null,
      "outputs": []
    },
    {
      "cell_type": "markdown",
      "source": [
        "4.Write a Python program to find largest number in a list?"
      ],
      "metadata": {
        "id": "p7nT606pet4_"
      }
    },
    {
      "cell_type": "code",
      "source": [
        "li = [34, 78, 95, 34, 56, 24, 69]\n",
        "large = li[0]\n",
        "for i in li:\n",
        "  if i > large:\n",
        "    large = i\n",
        "print(f\"largest number in the list {large}\")"
      ],
      "metadata": {
        "id": "4OV38WgMexiy"
      },
      "execution_count": null,
      "outputs": []
    },
    {
      "cell_type": "markdown",
      "source": [
        "5.Write a Python program to find second largest number in a list?\n"
      ],
      "metadata": {
        "id": "hhmlD9nufOmi"
      }
    },
    {
      "cell_type": "code",
      "source": [
        "li = [34, 78, 95, 34, 56, 24, 69]\n",
        "li.sort()\n",
        "print(f\"second largest number in the list {li[len(li)-2]}\")"
      ],
      "metadata": {
        "colab": {
          "base_uri": "https://localhost:8080/"
        },
        "id": "5_Tut3n-f_UT",
        "outputId": "80e37dc3-a584-414e-f6b9-83114165eb35"
      },
      "execution_count": 34,
      "outputs": [
        {
          "output_type": "stream",
          "name": "stdout",
          "text": [
            "second largest number in the list 78\n"
          ]
        }
      ]
    },
    {
      "cell_type": "markdown",
      "source": [
        "6.Write a Python program to find N largest elements from a list?"
      ],
      "metadata": {
        "id": "YWees3L2fOfx"
      }
    },
    {
      "cell_type": "code",
      "source": [
        "li = [34, 78, 95, 34, 56, 24, 69]\n",
        "n = int(input(\"Enter the n value: \"))\n",
        "li.sort()\n",
        "print(f\"{n} largest number in the list {li[len(li)-n]}\")"
      ],
      "metadata": {
        "id": "g3hrpxG9gWJi"
      },
      "execution_count": null,
      "outputs": []
    },
    {
      "cell_type": "markdown",
      "source": [
        "7.Write a Python program to print even numbers in a list?\n"
      ],
      "metadata": {
        "id": "BZESxg_UfOXL"
      }
    },
    {
      "cell_type": "code",
      "source": [
        "li = [34, 73, 95, 34, 56, 24, 69]\n",
        "for i in li:\n",
        "  if i % 2 == 0:\n",
        "    print(i)"
      ],
      "metadata": {
        "id": "N_jyQywuhLgA"
      },
      "execution_count": null,
      "outputs": []
    },
    {
      "cell_type": "markdown",
      "source": [
        "8.Write a Python program to print odd numbers in a List?"
      ],
      "metadata": {
        "id": "TBx0VU8WfOMg"
      }
    },
    {
      "cell_type": "code",
      "source": [
        "li = [34, 73, 95, 34, 56, 24, 69]\n",
        "for i in li:\n",
        "  if i % 2 != 0:\n",
        "    print(i)"
      ],
      "metadata": {
        "id": "i1H0e8hphdBq"
      },
      "execution_count": null,
      "outputs": []
    },
    {
      "cell_type": "markdown",
      "source": [
        "9.Write a Python program to Remove empty List from List?\n"
      ],
      "metadata": {
        "id": "Vb_3qNDqfOCF"
      }
    },
    {
      "cell_type": "code",
      "source": [
        "li = [[34, 73], [], [95, 34, 56], [], [24, 69]]\n",
        "for i in li:\n",
        "  if len(i) == 0:\n",
        "    li.remove(i)\n",
        "print(f\"After removing the empty list: {li}\")"
      ],
      "metadata": {
        "id": "sK8Mwv0Khxcv"
      },
      "execution_count": null,
      "outputs": []
    },
    {
      "cell_type": "markdown",
      "source": [
        "10.Write a Python program to Cloning or Copying a list?"
      ],
      "metadata": {
        "id": "RPSkxLv1fN6A"
      }
    },
    {
      "cell_type": "code",
      "source": [
        "li = [[34, 73], [95, 34, 56], [24, 69]]\n",
        "li2 = li.copy()\n",
        "print(f\"The copied list is : {li2}\")"
      ],
      "metadata": {
        "id": "HIJ8DEzHig8d"
      },
      "execution_count": null,
      "outputs": []
    },
    {
      "cell_type": "markdown",
      "source": [
        "11.Write a Python program to Count occurrences of an element in a list?"
      ],
      "metadata": {
        "id": "o-E9bQHxfNwp"
      }
    },
    {
      "cell_type": "code",
      "source": [
        "li = [34, 73, 95, 34, 56, 24, 73, 34]\n",
        "li2 = []\n",
        "for i in li:\n",
        "  if i not in li2:\n",
        "    li2.append(i)\n",
        "for i in li2:\n",
        "  print(f\"{i} Occurance : {li.count(i)}\")"
      ],
      "metadata": {
        "id": "JJkOXUyki9JG"
      },
      "execution_count": null,
      "outputs": []
    }
  ]
}