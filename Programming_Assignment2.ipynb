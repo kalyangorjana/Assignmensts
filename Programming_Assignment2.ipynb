{
  "nbformat": 4,
  "nbformat_minor": 0,
  "metadata": {
    "colab": {
      "provenance": [],
      "authorship_tag": "ABX9TyNRZQoCAB/e3Aj3bzxzso79",
      "include_colab_link": true
    },
    "kernelspec": {
      "name": "python3",
      "display_name": "Python 3"
    },
    "language_info": {
      "name": "python"
    }
  },
  "cells": [
    {
      "cell_type": "markdown",
      "metadata": {
        "id": "view-in-github",
        "colab_type": "text"
      },
      "source": [
        "<a href=\"https://colab.research.google.com/github/kalyangorjana/Assignmensts/blob/main/Programming_Assignment2.ipynb\" target=\"_parent\"><img src=\"https://colab.research.google.com/assets/colab-badge.svg\" alt=\"Open In Colab\"/></a>"
      ]
    },
    {
      "cell_type": "markdown",
      "source": [
        "1.Write a Python program to convert kilometers to miles?\n",
        "\n",
        "\n",
        "```\n",
        "Answer:\n",
        "  # Taking kilometers input from the user\n",
        "  kilometers = float(input(\"Enter value in kilometers: \"))\n",
        "\n",
        "  # conversion factor\n",
        "  conv_fac = 0.621371\n",
        "\n",
        "  # calculate miles\n",
        "  miles = kilometers * conv_fac\n",
        "  print(f\"{kilometers} kilometers is equal to {miles} miles\")\n",
        "```\n",
        "\n"
      ],
      "metadata": {
        "id": "oQHvcK7nojBP"
      }
    },
    {
      "cell_type": "markdown",
      "source": [
        "2.Write a Python program to convert Celsius to Fahrenheit?\n",
        "\n",
        "\n",
        "```\n",
        "Answer:\n",
        "  # Taking celsius input from the user\n",
        "  celsius = float(input(\"Enter value in celsius: \"))\n",
        "\n",
        "  # calculate fahrenheit\n",
        "  fahrenheit = (celsius * 1.8) + 32\n",
        "  print(f\"{celsius} celsius is equal to {fahrenheit} fahrenheit\")\n",
        "```\n",
        "\n"
      ],
      "metadata": {
        "id": "FBgsDiu_ojIB"
      }
    },
    {
      "cell_type": "markdown",
      "source": [
        "3.Write a Python program to display calendar?\n",
        "\n",
        "\n",
        "```\n",
        "Answer:\n",
        "  import calendar\n",
        "  # Taling inputs from the user\n",
        "  year = int(input(\"Enter Year: \"))\n",
        "  month = int(input(\"Enter Month: \"))\n",
        "\n",
        "  # display the calendar\n",
        "  print(calendar.month(year, month))\n",
        "```\n",
        "\n"
      ],
      "metadata": {
        "id": "HpA66DnJojOV"
      }
    },
    {
      "cell_type": "markdown",
      "source": [
        "4.Write a Python program to solve quadratic equation?\n",
        "\n",
        "\n",
        "```\n",
        "Answer:\n",
        "  # Solve the quadratic equation ax**2 + bx + c = 0\n",
        "  a = 1\n",
        "  b = 5\n",
        "  c = 6\n",
        "\n",
        "  # find two solutions\n",
        "  sol_1 = (-b + (b ** 2 - 4 * a * c) ** 0.5) / (2 * a)\n",
        "  sol_2 = (-b - (b ** 2 - 4 * a * c) ** 0.5) / (2 * a)\n",
        "\n",
        "  print(f\"The solution are {sol_1} and {sol_2}\")\n",
        "```\n",
        "\n"
      ],
      "metadata": {
        "id": "46TUR7-fojXP"
      }
    },
    {
      "cell_type": "markdown",
      "source": [
        "5.Write a Python program to swap two variables without temp variable?\n",
        "\n",
        "\n",
        "```\n",
        "Answer:\n",
        "  a = 10 \n",
        "  b = 5\n",
        "  # before swap\n",
        "  print(f\"Before swap {a, b}\")\n",
        "\n",
        "  #swapping\n",
        "  a = a+b\n",
        "  b = a-b \n",
        "  a = a-b\n",
        "\n",
        "  # after swaping\n",
        "  print(f\"After swap {a, b}\")\n",
        "```\n",
        "\n"
      ],
      "metadata": {
        "id": "NsY7LlynojfI"
      }
    }
  ]
}