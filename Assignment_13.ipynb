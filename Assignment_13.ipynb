{
  "nbformat": 4,
  "nbformat_minor": 0,
  "metadata": {
    "colab": {
      "provenance": [],
      "authorship_tag": "ABX9TyOs5+S9aBS24egA2EZNua1a",
      "include_colab_link": true
    },
    "kernelspec": {
      "name": "python3",
      "display_name": "Python 3"
    },
    "language_info": {
      "name": "python"
    }
  },
  "cells": [
    {
      "cell_type": "markdown",
      "metadata": {
        "id": "view-in-github",
        "colab_type": "text"
      },
      "source": [
        "<a href=\"https://colab.research.google.com/github/kalyangorjana/Assignmensts/blob/main/Assignment_13.ipynb\" target=\"_parent\"><img src=\"https://colab.research.google.com/assets/colab-badge.svg\" alt=\"Open In Colab\"/></a>"
      ]
    },
    {
      "cell_type": "markdown",
      "source": [
        "1.What advantages do Excel spreadsheets have over CSV spreadsheets?\n",
        "\n",
        "\n",
        "```\n",
        "Answer:\n",
        "1.It is a binary file that holds information about all the worksheets in a workbook\n",
        "2.An Excel not only stores data but can also do operations on the data\n",
        "3.Files saved in excel cannot be opened or edited by text editors\n",
        "4.large files user is much easier in Excel for the end user. Also, you can have additional functions like selecting individual cells \n",
        "  for import, convert dates and time automatically, reading formulas and their results, filters, sorting, etc\n",
        "5.Apart from text, data can also be stored in form of charts and graphs\n",
        "\n",
        "```\n",
        "\n"
      ],
      "metadata": {
        "id": "DFa9aRcerui1"
      }
    },
    {
      "cell_type": "markdown",
      "source": [
        "2.What do you pass to csv.reader() and csv.writer() to create reader and writer objects?"
      ],
      "metadata": {
        "id": "PeemiNUqr9fc"
      }
    },
    {
      "cell_type": "code",
      "source": [
        "#we need to pass a File object, obtained from a call to open().\n",
        "import csv\n",
        "file_csv = open('address.csv')\n",
        "filereader = csv.reader(file_csv)\n",
        "fileData = list(filereader)\n",
        "fileData\n",
        "\n",
        "# csvwriter = csv.writer(csvfile)"
      ],
      "metadata": {
        "id": "Vp9t670-KQ5V"
      },
      "execution_count": null,
      "outputs": []
    },
    {
      "cell_type": "markdown",
      "source": [
        "3.What modes do File objects for reader and writer objects need to be opened in?\n",
        "\n",
        "\n",
        "```\n",
        "Answer:\n",
        "File objects need to be opened in read-binary ('rb') for Reader objects and write-binary ('wb') for Writer objects\n",
        "```\n",
        "\n"
      ],
      "metadata": {
        "id": "nAIYkBiJr7p2"
      }
    },
    {
      "cell_type": "markdown",
      "source": [
        "4.What method takes a list argument and writes it to a CSV file?"
      ],
      "metadata": {
        "id": "bAb6lKiNr5pE"
      }
    },
    {
      "cell_type": "code",
      "source": [
        "#The writerow() method\n",
        "File_abc = open('names.csv','w')\n",
        "File_Writer = csv.writer(File_abc)\n",
        "File_Writer.writerow(['Nikhil', 'COE', '2', '9.0'])"
      ],
      "metadata": {
        "id": "yi0PK93nK9iR"
      },
      "execution_count": null,
      "outputs": []
    },
    {
      "cell_type": "markdown",
      "source": [
        "5.What do the keyword arguments delimiter and line terminator do?\n",
        "\n",
        "\n",
        "```\n",
        "Answer:\n",
        "The delimiter argument changes the string used to separate cells in a row.\n",
        "The line terminator argument changes the string used to separate rows.\n",
        "```\n",
        "\n"
      ],
      "metadata": {
        "id": "zYPb93Lmr3kn"
      }
    },
    {
      "cell_type": "markdown",
      "source": [
        "6.What function takes a string of JSON data and returns a Python data structure?\n",
        "\n",
        "\n",
        "```\n",
        "Answer:\n",
        "json.loads()\n",
        "```\n",
        "\n"
      ],
      "metadata": {
        "id": "KDyT2Fenr10B"
      }
    },
    {
      "cell_type": "markdown",
      "source": [
        "7.What function takes a Python data structure and returns a string of JSON data?\n",
        "\n",
        "\n",
        "```\n",
        "Answer:\n",
        "json.dumps()\n",
        "```\n",
        "\n"
      ],
      "metadata": {
        "id": "wekiqpwprzoq"
      }
    }
  ]
}