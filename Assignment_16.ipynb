{
  "nbformat": 4,
  "nbformat_minor": 0,
  "metadata": {
    "colab": {
      "provenance": [],
      "authorship_tag": "ABX9TyOoPmBpkuLKRjjm1XjW/4M9",
      "include_colab_link": true
    },
    "kernelspec": {
      "name": "python3",
      "display_name": "Python 3"
    },
    "language_info": {
      "name": "python"
    }
  },
  "cells": [
    {
      "cell_type": "markdown",
      "metadata": {
        "id": "view-in-github",
        "colab_type": "text"
      },
      "source": [
        "<a href=\"https://colab.research.google.com/github/kalyangorjana/Assignmensts/blob/main/Assignment_16.ipynb\" target=\"_parent\"><img src=\"https://colab.research.google.com/assets/colab-badge.svg\" alt=\"Open In Colab\"/></a>"
      ]
    },
    {
      "cell_type": "markdown",
      "source": [
        "1. Create a list called years_list, starting with the year of your birth, and each year thereafter until\n",
        "the year of your fifth birthday. For example, if you were born in 1980. the list would be years_list =\n",
        "[1980, 1981, 1982, 1983, 1984, 1985]."
      ],
      "metadata": {
        "id": "6xUfeYO0T5KA"
      }
    },
    {
      "cell_type": "code",
      "source": [
        "years_list = [1999, 2000, 2001, 2002, 2003, 2004]\n",
        "print(years_list)"
      ],
      "metadata": {
        "colab": {
          "base_uri": "https://localhost:8080/"
        },
        "id": "732wTyq2UrUl",
        "outputId": "343faca4-9e1a-4692-e41e-8f0d8c86f48c"
      },
      "execution_count": 4,
      "outputs": [
        {
          "output_type": "stream",
          "name": "stdout",
          "text": [
            "[1999, 2000, 2001, 2002, 2003, 2004]\n"
          ]
        }
      ]
    },
    {
      "cell_type": "markdown",
      "source": [
        "2. In which year in years_list was your third birthday? Remember, you were 0 years of age for your\n",
        "first year."
      ],
      "metadata": {
        "id": "wAsykvbkUeLh"
      }
    },
    {
      "cell_type": "code",
      "source": [
        "years_list[3]"
      ],
      "metadata": {
        "colab": {
          "base_uri": "https://localhost:8080/"
        },
        "id": "vRUqetEyVLMb",
        "outputId": "2fd3eb56-ee5b-462f-a068-34b563739ff4"
      },
      "execution_count": 5,
      "outputs": [
        {
          "output_type": "execute_result",
          "data": {
            "text/plain": [
              "2002"
            ]
          },
          "metadata": {},
          "execution_count": 5
        }
      ]
    },
    {
      "cell_type": "markdown",
      "source": [
        "3. In the years list, which year were you the oldest?"
      ],
      "metadata": {
        "id": "705yBHQwUcb1"
      }
    },
    {
      "cell_type": "code",
      "source": [
        "years_list[len(years_list)-1]"
      ],
      "metadata": {
        "colab": {
          "base_uri": "https://localhost:8080/"
        },
        "id": "xNWD1HY_VRwO",
        "outputId": "eeeb0131-7836-4676-e906-34a919ace4fc"
      },
      "execution_count": 6,
      "outputs": [
        {
          "output_type": "execute_result",
          "data": {
            "text/plain": [
              "2004"
            ]
          },
          "metadata": {},
          "execution_count": 6
        }
      ]
    },
    {
      "cell_type": "markdown",
      "source": [
        "4. Make a list called things with these three strings as elements: &quot;mozzarella&quot;, &quot;cinderella&quot;,\n",
        "&quot;salmonella&quot;."
      ],
      "metadata": {
        "id": "MtHvFRhvUa0b"
      }
    },
    {
      "cell_type": "code",
      "source": [
        "things = [\"mozzarella\", \"cinderella\", \"salmonella\"]"
      ],
      "metadata": {
        "id": "NUslJhc-VaLU"
      },
      "execution_count": 7,
      "outputs": []
    },
    {
      "cell_type": "markdown",
      "source": [
        "5. Capitalize the element in things that refers to a person and then print the list. Did it change the\n",
        "element in the list?"
      ],
      "metadata": {
        "id": "XOMPo5hEUZOm"
      }
    },
    {
      "cell_type": "code",
      "source": [
        "person = []\n",
        "for i in things:\n",
        "  person.append(i.upper())\n",
        "print(person)"
      ],
      "metadata": {
        "colab": {
          "base_uri": "https://localhost:8080/"
        },
        "id": "O5a6DZUSV1Gu",
        "outputId": "6fc6c488-ad90-4459-f811-52a983c646cb"
      },
      "execution_count": 10,
      "outputs": [
        {
          "output_type": "stream",
          "name": "stdout",
          "text": [
            "['MOZZARELLA', 'CINDERELLA', 'SALMONELLA']\n"
          ]
        }
      ]
    },
    {
      "cell_type": "markdown",
      "source": [
        "6. Make a surprise list with the elements &quot;Groucho,&quot; &quot;Chico,&quot; and &quot;Harpo.&quot;"
      ],
      "metadata": {
        "id": "TmrV-5rLUXmM"
      }
    },
    {
      "cell_type": "code",
      "source": [
        "surprise_list = [\"Groucho\", \"Chico\", \"Harpo\"]"
      ],
      "metadata": {
        "id": "tDUM2trLWVQz"
      },
      "execution_count": 17,
      "outputs": []
    },
    {
      "cell_type": "markdown",
      "source": [
        "7. Lowercase the last element of the surprise list, reverse it, and then capitalize it."
      ],
      "metadata": {
        "id": "TrU7UPHqUVUW"
      }
    },
    {
      "cell_type": "code",
      "source": [
        "string = surprise_list[2].lower()\n",
        "print(string)\n",
        "string =string[::-1]\n",
        "print(string)\n",
        "string = string.capitalize()\n",
        "print(string)"
      ],
      "metadata": {
        "colab": {
          "base_uri": "https://localhost:8080/"
        },
        "id": "PTWOfTttWcuJ",
        "outputId": "09029cdb-40f4-4671-c82a-091ba5bfdab4"
      },
      "execution_count": 24,
      "outputs": [
        {
          "output_type": "stream",
          "name": "stdout",
          "text": [
            "harpo\n",
            "oprah\n",
            "Oprah\n"
          ]
        }
      ]
    },
    {
      "cell_type": "markdown",
      "source": [
        "8. Make an English-to-French dictionary called e2f and print it. Here are your starter words: dog is\n",
        "chien, cat is chat, and walrus is morse."
      ],
      "metadata": {
        "id": "ArWsRtV2URVJ"
      }
    },
    {
      "cell_type": "code",
      "source": [
        "e2f = {\"dog\":\"chien\", \"cat\":\"chat\", \"walrus\":\"morse\"}\n",
        "print(e2f)"
      ],
      "metadata": {
        "colab": {
          "base_uri": "https://localhost:8080/"
        },
        "id": "oV5-hUhNYWJU",
        "outputId": "10932dac-9831-4cc3-fecb-523b09d52d44"
      },
      "execution_count": 25,
      "outputs": [
        {
          "output_type": "stream",
          "name": "stdout",
          "text": [
            "{'dog': 'chien', 'cat': 'chat', 'walrus': 'morse'}\n"
          ]
        }
      ]
    },
    {
      "cell_type": "markdown",
      "source": [
        "9. Write the French word for walrus in your three-word dictionary e2f."
      ],
      "metadata": {
        "id": "CMMB5oZcUPi1"
      }
    },
    {
      "cell_type": "code",
      "source": [
        "print(e2f.get(\"walrus\"))"
      ],
      "metadata": {
        "colab": {
          "base_uri": "https://localhost:8080/"
        },
        "id": "xoz9M6gLZK5m",
        "outputId": "c2551cd1-db48-46ef-dd7c-209fe0d96a37"
      },
      "execution_count": 26,
      "outputs": [
        {
          "output_type": "stream",
          "name": "stdout",
          "text": [
            "morse\n"
          ]
        }
      ]
    },
    {
      "cell_type": "markdown",
      "source": [
        "10. Make a French-to-English dictionary called f2e from e2f. Use the items method."
      ],
      "metadata": {
        "id": "v5GcJ0LtUKRU"
      }
    },
    {
      "cell_type": "code",
      "source": [
        "f2e = {\"chien\":\"dog\", \"chat\":\"cat\", \"morse\":\"walrus\"}\n",
        "print(f2e.items())"
      ],
      "metadata": {
        "colab": {
          "base_uri": "https://localhost:8080/"
        },
        "id": "CRC84cy4ZiqL",
        "outputId": "fe310590-0097-4aa9-daaa-cb9ff8ff1fc7"
      },
      "execution_count": 28,
      "outputs": [
        {
          "output_type": "stream",
          "name": "stdout",
          "text": [
            "dict_items([('chien', 'dog'), ('chat', 'cat'), ('morse', 'walrus')])\n"
          ]
        }
      ]
    },
    {
      "cell_type": "markdown",
      "source": [
        "11. Print the English version of the French word chien using f2e.\n"
      ],
      "metadata": {
        "id": "mjxoDlUzUHzP"
      }
    },
    {
      "cell_type": "code",
      "source": [
        "print(f2e.get(\"chien\"))"
      ],
      "metadata": {
        "colab": {
          "base_uri": "https://localhost:8080/"
        },
        "id": "1Jp2e9Ktawad",
        "outputId": "44060e03-726a-4b66-b89d-18c88d114ca5"
      },
      "execution_count": 29,
      "outputs": [
        {
          "output_type": "stream",
          "name": "stdout",
          "text": [
            "dog\n"
          ]
        }
      ]
    },
    {
      "cell_type": "markdown",
      "source": [
        "12. Make and print a set of English words from the keys in e2f."
      ],
      "metadata": {
        "id": "gZq6jkM2UF0a"
      }
    },
    {
      "cell_type": "code",
      "source": [
        "english_words = e2f.keys()\n",
        "print(english_words)"
      ],
      "metadata": {
        "colab": {
          "base_uri": "https://localhost:8080/"
        },
        "id": "8GCsPmAGbG3c",
        "outputId": "e5bb0b19-6e02-4542-df5e-71aaf70ee3af"
      },
      "execution_count": 30,
      "outputs": [
        {
          "output_type": "stream",
          "name": "stdout",
          "text": [
            "dict_keys(['dog', 'cat', 'walrus'])\n"
          ]
        }
      ]
    },
    {
      "cell_type": "markdown",
      "source": [
        "13. Make a multilevel dictionary called life. Use these strings for the topmost keys: &#39;animals&#39;, &#39;plants&#39;,\n",
        "and &#39;other&#39;. Make the &#39;animals&#39; key refer to another dictionary with the keys &#39;cats&#39;, &#39;octopi&#39;, and\n",
        "&#39;emus&#39;. Make the &#39;cats&#39; key refer to a list of strings with the values &#39;Henri&#39;, &#39;Grumpy&#39;, and &#39;Lucy&#39;.\n",
        "Make all the other keys refer to empty dictionaries."
      ],
      "metadata": {
        "id": "z9Qh7MOPUDme"
      }
    },
    {
      "cell_type": "code",
      "source": [
        "life = {'animals':{ 'cats':{'Henri', 'Grumpy', 'Lucy'}, 'octopi':{}, 'emus':{}},'plants':{},'other':{}}"
      ],
      "metadata": {
        "id": "kyYeBBk2bY1b"
      },
      "execution_count": 32,
      "outputs": []
    },
    {
      "cell_type": "markdown",
      "source": [
        "14. Print the top-level keys of life."
      ],
      "metadata": {
        "id": "3Ohnw9TYUAHk"
      }
    },
    {
      "cell_type": "code",
      "source": [
        "print(life.keys())"
      ],
      "metadata": {
        "colab": {
          "base_uri": "https://localhost:8080/"
        },
        "id": "DAWu-L9FcHj3",
        "outputId": "e2835de8-e008-4c90-824b-3b9421d3963b"
      },
      "execution_count": 33,
      "outputs": [
        {
          "output_type": "stream",
          "name": "stdout",
          "text": [
            "dict_keys(['animals', 'plants', 'other'])\n"
          ]
        }
      ]
    },
    {
      "cell_type": "markdown",
      "source": [
        "15. Print the keys for life[&#39;animals&#39;]."
      ],
      "metadata": {
        "id": "C53ITj3-T-L3"
      }
    },
    {
      "cell_type": "code",
      "source": [
        "print(life['animals'].keys())"
      ],
      "metadata": {
        "colab": {
          "base_uri": "https://localhost:8080/"
        },
        "id": "XmNHBKRhc1xq",
        "outputId": "2dc89c84-cbfa-4fce-accb-76673cecf446"
      },
      "execution_count": 34,
      "outputs": [
        {
          "output_type": "stream",
          "name": "stdout",
          "text": [
            "dict_keys(['cats', 'octopi', 'emus'])\n"
          ]
        }
      ]
    },
    {
      "cell_type": "markdown",
      "source": [
        "16. Print the values for life[&#39;animals&#39;][&#39;cats&#39;]"
      ],
      "metadata": {
        "id": "pBQxLy3mT68U"
      }
    },
    {
      "cell_type": "code",
      "source": [
        "print(life['animals']['cats'])"
      ],
      "metadata": {
        "colab": {
          "base_uri": "https://localhost:8080/"
        },
        "id": "o_ewu2sPc97A",
        "outputId": "79227350-e813-4626-8af8-c2524acfaa6e"
      },
      "execution_count": 38,
      "outputs": [
        {
          "output_type": "stream",
          "name": "stdout",
          "text": [
            "{'Grumpy', 'Henri', 'Lucy'}\n"
          ]
        }
      ]
    }
  ]
}