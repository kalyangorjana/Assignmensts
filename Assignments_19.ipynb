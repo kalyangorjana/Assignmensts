{
  "nbformat": 4,
  "nbformat_minor": 0,
  "metadata": {
    "colab": {
      "provenance": [],
      "authorship_tag": "ABX9TyOhWtwMJk8HHkJ6zHtnvph8",
      "include_colab_link": true
    },
    "kernelspec": {
      "name": "python3",
      "display_name": "Python 3"
    },
    "language_info": {
      "name": "python"
    }
  },
  "cells": [
    {
      "cell_type": "markdown",
      "metadata": {
        "id": "view-in-github",
        "colab_type": "text"
      },
      "source": [
        "<a href=\"https://colab.research.google.com/github/kalyangorjana/Assignmensts/blob/main/Assignments_19.ipynb\" target=\"_parent\"><img src=\"https://colab.research.google.com/assets/colab-badge.svg\" alt=\"Open In Colab\"/></a>"
      ]
    },
    {
      "cell_type": "markdown",
      "source": [
        "1.Make a class called Thing with no contents and print it. Then, create an object called example\n",
        "from this class and also print it. Are the printed values the same or different?"
      ],
      "metadata": {
        "id": "_r599i6_T3f7"
      }
    },
    {
      "cell_type": "code",
      "source": [
        "class Thing:\n",
        "  pass"
      ],
      "metadata": {
        "id": "Ht_z7Misevui"
      },
      "execution_count": 1,
      "outputs": []
    },
    {
      "cell_type": "code",
      "source": [
        "print(Thing)"
      ],
      "metadata": {
        "colab": {
          "base_uri": "https://localhost:8080/"
        },
        "id": "vF1VjtZUe0Qs",
        "outputId": "7a77e1e4-9765-474e-96b2-ce4e11e1697b"
      },
      "execution_count": 3,
      "outputs": [
        {
          "output_type": "stream",
          "name": "stdout",
          "text": [
            "<class '__main__.Thing'>\n"
          ]
        }
      ]
    },
    {
      "cell_type": "code",
      "source": [
        "example = Thing()\n",
        "print(example)"
      ],
      "metadata": {
        "colab": {
          "base_uri": "https://localhost:8080/"
        },
        "id": "VYMTMMaAfHS6",
        "outputId": "b8c1fb81-6203-4a93-bf37-376e677b293b"
      },
      "execution_count": 4,
      "outputs": [
        {
          "output_type": "stream",
          "name": "stdout",
          "text": [
            "<__main__.Thing object at 0x7fa2d55180d0>\n"
          ]
        }
      ]
    },
    {
      "cell_type": "code",
      "source": [
        "# The Printed values are different"
      ],
      "metadata": {
        "id": "UAittWeafSNt"
      },
      "execution_count": 5,
      "outputs": []
    },
    {
      "cell_type": "markdown",
      "source": [
        "2.Create a new class called Thing2 and add the value &#39;abc&#39; to the letters class attribute. Letters\n",
        "should be printed."
      ],
      "metadata": {
        "id": "GrKPdz_CUkcO"
      }
    },
    {
      "cell_type": "code",
      "source": [
        "class Thing2:\n",
        "  letters = 'abc'\n",
        "print(Thing2.letters)"
      ],
      "metadata": {
        "colab": {
          "base_uri": "https://localhost:8080/"
        },
        "id": "VuJ9MClYfglI",
        "outputId": "1806e034-2ef6-41b2-9212-184fd83eaf55"
      },
      "execution_count": 7,
      "outputs": [
        {
          "output_type": "stream",
          "name": "stdout",
          "text": [
            "abc\n"
          ]
        }
      ]
    },
    {
      "cell_type": "markdown",
      "source": [
        "3.Make yet another class called, of course, Thing3. This time, assign the value &#39;xyz&#39; to an instance\n",
        "(object) attribute called letters. Print letters. Do you need to make an object from the class to do\n",
        "this?"
      ],
      "metadata": {
        "id": "ROBJvl_LUejh"
      }
    },
    {
      "cell_type": "code",
      "source": [
        "class Thing3:\n",
        "  pass\n",
        "\n",
        "thing3 = Thing3()\n",
        "thing3.letters = 'xyz'\n",
        "print(thing3.letters)"
      ],
      "metadata": {
        "colab": {
          "base_uri": "https://localhost:8080/"
        },
        "id": "-dvKqk4ofv0r",
        "outputId": "32caca80-b5f6-4ffa-ee30-0a2349f962f9"
      },
      "execution_count": 9,
      "outputs": [
        {
          "output_type": "stream",
          "name": "stdout",
          "text": [
            "xyz\n"
          ]
        }
      ]
    },
    {
      "cell_type": "markdown",
      "source": [
        "4.Create an Element class with the instance attributes name, symbol, and number. Create a class\n",
        "object with the values &#39;Hydrogen,&#39; &#39;H,&#39; and 1."
      ],
      "metadata": {
        "id": "j2V-tp-kUcjZ"
      }
    },
    {
      "cell_type": "code",
      "source": [
        "class Element:\n",
        "  def __init__(self,name, symbol, number):\n",
        "    self.name = name\n",
        "    self.symbol = symbol\n",
        "    self.number = number\n",
        "    \n",
        "element = Element('Hydrogen', 'H', 1)"
      ],
      "metadata": {
        "id": "ZToW0zXMgKuc"
      },
      "execution_count": 12,
      "outputs": []
    },
    {
      "cell_type": "markdown",
      "source": [
        "5.Make a dictionary with these keys and values: &#39;name&#39;: &#39;Hydrogen&#39;, &#39;symbol&#39;: &#39;H&#39;, &#39;number&#39;: 1. Then,\n",
        "create an object called hydrogen from class Element using this dictionary."
      ],
      "metadata": {
        "id": "WYA6p4ffUY20"
      }
    },
    {
      "cell_type": "code",
      "source": [
        "dic = {'name': 'Hydrogen', 'symbol': 'H', 'number': 1}\n",
        "hydrogen = Element(**dic)"
      ],
      "metadata": {
        "id": "_neUPcFBhiam"
      },
      "execution_count": 14,
      "outputs": []
    },
    {
      "cell_type": "markdown",
      "source": [
        "6.For the Element class, define a method called dump() that prints the values of the object’s\n",
        "attributes (name, symbol, and number). Create the hydrogen object from this new definition and\n",
        "use dump() to print its attributes.\n"
      ],
      "metadata": {
        "id": "STCthgiNUUiP"
      }
    },
    {
      "cell_type": "code",
      "source": [
        "class Element:\n",
        "  def __init__(self,name, symbol, number):\n",
        "    self.name = name\n",
        "    self.symbol = symbol\n",
        "    self.number = number\n",
        "  \n",
        "  def dump(self):\n",
        "    print(f\"Name:{self.name}, Symbol:{self.symbol}, Number:{self.number}\")\n",
        "\n",
        "hydrogen = Element('Hydrogen', 'H', 1)\n",
        "hydrogen.dump()"
      ],
      "metadata": {
        "colab": {
          "base_uri": "https://localhost:8080/"
        },
        "id": "kpWDWsNLh4nX",
        "outputId": "51022aac-4d31-47e8-ee67-3c069682b6c6"
      },
      "execution_count": 15,
      "outputs": [
        {
          "output_type": "stream",
          "name": "stdout",
          "text": [
            "Name:Hydrogen, Symbol:H, Number:1\n"
          ]
        }
      ]
    },
    {
      "cell_type": "markdown",
      "source": [
        "7.Call print(hydrogen). In the definition of Element, change the name of method dump to __str__,\n",
        "create a new hydrogen object, and call print(hydrogen) again."
      ],
      "metadata": {
        "id": "Bi6jIJKaURnP"
      }
    },
    {
      "cell_type": "code",
      "source": [
        "print(hydrogen)"
      ],
      "metadata": {
        "colab": {
          "base_uri": "https://localhost:8080/"
        },
        "id": "IovFHSEYi7Yq",
        "outputId": "fd41bbfa-2dcd-4e4b-b4be-d0c45caa7a93"
      },
      "execution_count": 16,
      "outputs": [
        {
          "output_type": "stream",
          "name": "stdout",
          "text": [
            "<__main__.Element object at 0x7fa2d556ad60>\n"
          ]
        }
      ]
    },
    {
      "cell_type": "code",
      "source": [
        "class Element:\n",
        "  def __init__(self,name, symbol, number):\n",
        "    self.name = name\n",
        "    self.symbol = symbol\n",
        "    self.number = number\n",
        "  \n",
        "  def __str__(self):\n",
        "    return f\"Name:{self.name}, Symbol:{self.symbol}, Number:{self.number}\"\n",
        "  \n",
        "hydrogen = Element('Hydrogen', 'H', 1)\n",
        "print(hydrogen)"
      ],
      "metadata": {
        "colab": {
          "base_uri": "https://localhost:8080/"
        },
        "id": "xWPgo4YkjMER",
        "outputId": "be980e36-2a3b-4f5e-b3c9-987eb3acff61"
      },
      "execution_count": 18,
      "outputs": [
        {
          "output_type": "stream",
          "name": "stdout",
          "text": [
            "Name:Hydrogen, Symbol:H, Number:1\n"
          ]
        }
      ]
    },
    {
      "cell_type": "markdown",
      "source": [
        "8.Modify Element to make the attributes name, symbol, and number private. Define a getter\n",
        "property for each to return its value."
      ],
      "metadata": {
        "id": "3sexAxtVULpK"
      }
    },
    {
      "cell_type": "code",
      "source": [
        "class Element:\n",
        "  def __init__(self,name, symbol, number):\n",
        "    self.__name = name\n",
        "    self.__symbol = symbol\n",
        "    self.__number = number\n",
        "  \n",
        "  @property\n",
        "  def name(self):\n",
        "    return self.__name\n",
        "  \n",
        "  @property\n",
        "  def symbol(self):\n",
        "    return self.__symbol\n",
        "  \n",
        "  @property\n",
        "  def number(self):\n",
        "    return self.__number\n",
        "\n",
        "hydrogen = Element('Hydrogen', 'H', 1)\n",
        "print(f\"Name:{hydrogen.name}, Symbol:{hydrogen.symbol}, Number:{hydrogen.number}\")"
      ],
      "metadata": {
        "colab": {
          "base_uri": "https://localhost:8080/"
        },
        "id": "xqGPpyDnjiTV",
        "outputId": "5bb29246-8f88-42a0-d6e1-44d63f99d93a"
      },
      "execution_count": 21,
      "outputs": [
        {
          "output_type": "stream",
          "name": "stdout",
          "text": [
            "Name:Hydrogen, Symbol:H, Number:1\n"
          ]
        }
      ]
    },
    {
      "cell_type": "markdown",
      "source": [
        "9.Define three classes: Bear, Rabbit, and Octothorpe. For each, define only one method: eats(). This\n",
        "should return &#39;berries&#39; (Bear), &#39;clover&#39; (Rabbit), or &#39;campers&#39; (Octothorpe). Create one object from\n",
        "each and print what it eats."
      ],
      "metadata": {
        "id": "MSAfyXxuUIjI"
      }
    },
    {
      "cell_type": "code",
      "source": [
        "class Bear:\n",
        "  def eats(self):\n",
        "    return 'berries'\n",
        "\n",
        "class Rabbit:\n",
        "  def eats(self):\n",
        "    return 'clover'\n",
        "\n",
        "class Octothorpe:\n",
        "  def eats(self):\n",
        "    return 'campers'\n",
        "\n",
        "bear = Bear()\n",
        "print(bear.eats())\n",
        "\n",
        "rabbit = Rabbit()\n",
        "print(rabbit.eats())\n",
        "\n",
        "octothorpe = Octothorpe()\n",
        "print(octothorpe.eats())"
      ],
      "metadata": {
        "colab": {
          "base_uri": "https://localhost:8080/"
        },
        "id": "MUzIIUSXlzAJ",
        "outputId": "53b0f6f3-100d-485e-be66-d3b55bb00d12"
      },
      "execution_count": 23,
      "outputs": [
        {
          "output_type": "stream",
          "name": "stdout",
          "text": [
            "berries\n",
            "clover\n",
            "campers\n"
          ]
        }
      ]
    },
    {
      "cell_type": "markdown",
      "source": [
        "10.Define these classes: Laser, Claw, and SmartPhone. Each has only one method: does(). This\n",
        "returns &#39;disintegrate&#39; (Laser), &#39;crush&#39; (Claw), or &#39;ring&#39; (SmartPhone). Then, define the class Robot that\n",
        "has one instance (object) of each of these. Define a does() method for the Robot that prints what its\n",
        "component objects do."
      ],
      "metadata": {
        "id": "FbIKCn3QUEox"
      }
    },
    {
      "cell_type": "code",
      "source": [
        "class Laser:\n",
        "  def does(self):\n",
        "    return 'disintegrate'\n",
        "\n",
        "class Claw:\n",
        "  def does(self):\n",
        "    return 'crush'\n",
        "\n",
        "class SmartPhone:\n",
        "  def does(self):\n",
        "    return 'ring'\n",
        "  \n",
        "class Robot:\n",
        "  def __init__(self,laser,claw,smartphone):\n",
        "    self.laser = laser\n",
        "    self.claw = claw\n",
        "    self.smartphone = smartphone\n",
        "  \n",
        "  def does(self):\n",
        "    print(self.laser.does(),self.claw.does(),self.smartphone.does())\n",
        "\n",
        "laser = Laser()\n",
        "claw = Claw()\n",
        "samrtphone = SmartPhone()\n",
        "robot = Robot(laser,claw,samrtphone)\n",
        "robot.does()"
      ],
      "metadata": {
        "colab": {
          "base_uri": "https://localhost:8080/"
        },
        "id": "-jb61W41nFsq",
        "outputId": "b0942f4c-66df-4390-afb4-09fa079c46e9"
      },
      "execution_count": 25,
      "outputs": [
        {
          "output_type": "stream",
          "name": "stdout",
          "text": [
            "disintegrate crush ring\n"
          ]
        }
      ]
    },
    {
      "cell_type": "code",
      "source": [],
      "metadata": {
        "id": "ylT8VNWnpDKF"
      },
      "execution_count": null,
      "outputs": []
    }
  ]
}