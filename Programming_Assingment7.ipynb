{
  "nbformat": 4,
  "nbformat_minor": 0,
  "metadata": {
    "colab": {
      "provenance": [],
      "collapsed_sections": [],
      "authorship_tag": "ABX9TyMD4j8k/Qp6rPo3sU3WMP1s",
      "include_colab_link": true
    },
    "kernelspec": {
      "name": "python3",
      "display_name": "Python 3"
    },
    "language_info": {
      "name": "python"
    }
  },
  "cells": [
    {
      "cell_type": "markdown",
      "metadata": {
        "id": "view-in-github",
        "colab_type": "text"
      },
      "source": [
        "<a href=\"https://colab.research.google.com/github/kalyangorjana/Assignmensts/blob/main/Programming_Assingment7.ipynb\" target=\"_parent\"><img src=\"https://colab.research.google.com/assets/colab-badge.svg\" alt=\"Open In Colab\"/></a>"
      ]
    },
    {
      "cell_type": "markdown",
      "source": [
        "1.Write a Python Program to find sum of array?\n",
        "\n",
        "\n",
        "```\n",
        "Answer:\n",
        "  arr = [12, 32, 56, 78, 34, 4, 8, 67]\n",
        "  sum = 0\n",
        "  for i in arr:\n",
        "    sum += i\n",
        "  print(f\"sum of the array: {sum}\")\n",
        "```\n",
        "\n"
      ],
      "metadata": {
        "id": "uElSLQCSdJRd"
      }
    },
    {
      "cell_type": "markdown",
      "source": [
        "2.Write a Python Program to find largest element in an array?\n",
        "\n",
        "\n",
        "```\n",
        "Answer:\n",
        "  arr = [12, 32, 56, 78, 34, 4, 8, 67]\n",
        "  large = 0\n",
        "  for i in arr:\n",
        "    if i > large:\n",
        "      large = i\n",
        "  print(f\"largest element in an array: {large}\")\n",
        "```\n",
        "\n"
      ],
      "metadata": {
        "id": "h6Db1mQhdKv-"
      }
    },
    {
      "cell_type": "markdown",
      "source": [
        "3.Write a Python Program for array rotation?\n",
        "\n",
        "\n",
        "```\n",
        "Answer:\n",
        "  arr = [12, 32, 56, 78, 34, 4, 8, 67]\n",
        "  rotation = int(input(\"Enter the rotation position:\"))\n",
        "  print(f\"after rotation {arr[rotation:] + arr[:rotation]}\")\n",
        "```\n",
        "\n"
      ],
      "metadata": {
        "id": "4fk7bJpvdLLE"
      }
    },
    {
      "cell_type": "markdown",
      "source": [
        "4.Write a Python Program to Split the array and add the first part to the end?\n",
        "\n",
        "\n",
        "```\n",
        "Answer:\n",
        "  arr = [12, 32, 56, 78, 34, 4, 8, 67]\n",
        "  div = int(len(arr)/2)\n",
        "  part1 = arr[:div]\n",
        "  part2 = arr[div:]\n",
        "  print(f\"After Split the part 1: {part1} and part 2 : {part2}\")\n",
        "  print(f\"final arry :{part2 + part1}\")\n",
        "```\n",
        "\n"
      ],
      "metadata": {
        "id": "PWiVVbDEdLvS"
      }
    },
    {
      "cell_type": "markdown",
      "source": [
        "5.Write a Python Program to check if given array is Monotonic?\n",
        "\n",
        "\n",
        "```\n",
        "Answer:\n",
        "  def isMonotonic(A):\n",
        "    return (all(A[i] <= A[i + 1] for i in range(len(A) - 1)) or all(A[i] >= A[i + 1] for i in range(len(A) - 1)))\n",
        "    \n",
        "  A = [1,2,3,4,7,8]\n",
        "  print(isMonotonic(A))\n",
        "```\n",
        "\n"
      ],
      "metadata": {
        "id": "TtfsYl0YdL4Y"
      }
    }
  ]
}