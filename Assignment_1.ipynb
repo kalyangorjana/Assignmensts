{
  "nbformat": 4,
  "nbformat_minor": 0,
  "metadata": {
    "colab": {
      "provenance": [],
      "collapsed_sections": [],
      "authorship_tag": "ABX9TyMfXyzpUGrtnIfHRfCf5YwN",
      "include_colab_link": true
    },
    "kernelspec": {
      "name": "python3",
      "display_name": "Python 3"
    },
    "language_info": {
      "name": "python"
    }
  },
  "cells": [
    {
      "cell_type": "markdown",
      "metadata": {
        "id": "view-in-github",
        "colab_type": "text"
      },
      "source": [
        "<a href=\"https://colab.research.google.com/github/kalyangorjana/Assignmensts/blob/main/Assignment_1.ipynb\" target=\"_parent\"><img src=\"https://colab.research.google.com/assets/colab-badge.svg\" alt=\"Open In Colab\"/></a>"
      ]
    },
    {
      "cell_type": "markdown",
      "source": [
        "1.In the below elements which of them are values or an expression? eg:- values can be\n",
        "integer or string and expressions will be mathematical operators.\n",
        "\n",
        "*\n",
        "\n",
        "&#39;hello&#39;\n",
        "\n",
        "-87.8\n",
        "\n",
        "-\n",
        "\n",
        "/\n",
        "\n",
        "+\n",
        "\n",
        "6"
      ],
      "metadata": {
        "id": "KKyVf5PPy6O4"
      }
    },
    {
      "cell_type": "markdown",
      "source": [
        "2.What is the difference between string and variable?"
      ],
      "metadata": {
        "id": "-ksiYnypy6Hm"
      }
    },
    {
      "cell_type": "markdown",
      "source": [
        "3.Describe three different data types."
      ],
      "metadata": {
        "id": "VyF9xOG2y5-N"
      }
    },
    {
      "cell_type": "markdown",
      "source": [
        "4.What is an expression made up of? What do all expressions do?"
      ],
      "metadata": {
        "id": "l9QKoehly50l"
      }
    },
    {
      "cell_type": "markdown",
      "source": [
        "5.This assignment statements, like spam = 10. What is the difference between an\n",
        "expression and a statement?"
      ],
      "metadata": {
        "id": "fX7ZJ5dEy5r_"
      }
    },
    {
      "cell_type": "markdown",
      "source": [
        "6.After running the following code, what does the variable bacon contain?\n",
        "\n",
        "bacon = 22\n",
        "\n",
        "bacon + 1"
      ],
      "metadata": {
        "id": "ullMEGrxy5in"
      }
    },
    {
      "cell_type": "markdown",
      "source": [
        "7.What should the values of the following two terms be?\n",
        "\n",
        "&#39;spam&#39; + &#39;spamspam&#39;\n",
        "\n",
        "&#39;spam&#39; * 3"
      ],
      "metadata": {
        "id": "6yspnEuZy5Y-"
      }
    },
    {
      "cell_type": "markdown",
      "source": [
        "8.Why is eggs a valid variable name while 100 is invalid?"
      ],
      "metadata": {
        "id": "tUlvgu5ey5QH"
      }
    },
    {
      "cell_type": "markdown",
      "source": [
        "9.What three functions can be used to get the integer, floating-point number, or string\n",
        "version of a value?"
      ],
      "metadata": {
        "id": "3Ui5SZkmy5F9"
      }
    },
    {
      "cell_type": "markdown",
      "source": [
        "10.Why does this expression cause an error? How can you fix it?\n",
        "\n",
        "&#39;I have eaten &#39; + 99 + &#39; burritos.&#39;"
      ],
      "metadata": {
        "id": "yPvqhzrCy44s"
      }
    }
  ]
}