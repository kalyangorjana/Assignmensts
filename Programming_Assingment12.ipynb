{
  "nbformat": 4,
  "nbformat_minor": 0,
  "metadata": {
    "colab": {
      "provenance": [],
      "authorship_tag": "ABX9TyP/YpXxVR+mVawhG4EPVH1Z",
      "include_colab_link": true
    },
    "kernelspec": {
      "name": "python3",
      "display_name": "Python 3"
    },
    "language_info": {
      "name": "python"
    }
  },
  "cells": [
    {
      "cell_type": "markdown",
      "metadata": {
        "id": "view-in-github",
        "colab_type": "text"
      },
      "source": [
        "<a href=\"https://colab.research.google.com/github/kalyangorjana/Assignmensts/blob/main/Programming_Assingment12.ipynb\" target=\"_parent\"><img src=\"https://colab.research.google.com/assets/colab-badge.svg\" alt=\"Open In Colab\"/></a>"
      ]
    },
    {
      "cell_type": "markdown",
      "source": [
        "1.Write a Python program to Extract Unique values dictionary values?"
      ],
      "metadata": {
        "id": "psd7o80Tl34W"
      }
    },
    {
      "cell_type": "code",
      "source": [
        "dic = {\"Kalyan\": \"UK\", \"Ganesh\": \"France\", \"Sai\": \"India\", \"Praveen\": \"France\", \"Siva\": \"USA\"}\n",
        "values = list(dic.values())\n",
        "unique = []\n",
        "for i in values:\n",
        "  if values.count(i) == 1:\n",
        "    unique.append(i)\n",
        "print(f\"Unique values {unique}\")"
      ],
      "metadata": {
        "id": "JQ_AZhU8yypS"
      },
      "execution_count": null,
      "outputs": []
    },
    {
      "cell_type": "markdown",
      "source": [
        "2.Write a Python program to find the sum of all items in a dictionary?"
      ],
      "metadata": {
        "id": "HqwE8LIM0kaw"
      }
    },
    {
      "cell_type": "code",
      "source": [
        "dic = {\"Kalyan\": 100, \"Ganesh\": 235, \"Sai\": 213, \"Praveen\": 453, \"Siva\": 543}\n",
        "values = list(dic.values())\n",
        "print(f\"Sum of the items: {sum(values)}\")"
      ],
      "metadata": {
        "id": "kKDsYhQN1OJ4"
      },
      "execution_count": null,
      "outputs": []
    },
    {
      "cell_type": "markdown",
      "source": [
        "3.Write a Python program to Merging two Dictionaries?"
      ],
      "metadata": {
        "id": "ryXMXFhL0fBL"
      }
    },
    {
      "cell_type": "code",
      "source": [
        "dic = {\"Kalyan\": \"UK\", \"Ganesh\": \"France\", \"Sai\": \"India\", \"Praveen\": \"France\", \"Siva\": \"USA\"}\n",
        "dic1 = {\"Rasi\": 100, \"Hema\": 235, \"SaiK\": 213, \"Rupa\": 453, \"Sivap\": 543}\n",
        "dic.update(dic1)\n",
        "print(f\"After merging two dictionaries: {dic}\")"
      ],
      "metadata": {
        "id": "_43qok-K1-XM"
      },
      "execution_count": null,
      "outputs": []
    },
    {
      "cell_type": "markdown",
      "source": [
        "4.Write a Python program to convert key-values list to flat dictionary?"
      ],
      "metadata": {
        "id": "Rj5doeRamBWV"
      }
    },
    {
      "cell_type": "code",
      "source": [
        "dic = [['Kalyan', 'UK'], ['Ganesh', 'France'], ['Sai', 'India'], ['Praveen', 'France'], ['Siva', 'USA']]\n",
        "print(f\"After convert the list into dictionary {dict(dic)}\")"
      ],
      "metadata": {
        "colab": {
          "base_uri": "https://localhost:8080/"
        },
        "id": "yBM3PDcC4e4U",
        "outputId": "14fc6489-5c9d-471b-f7bf-dd8f1c9da927"
      },
      "execution_count": 7,
      "outputs": [
        {
          "output_type": "stream",
          "name": "stdout",
          "text": [
            "After convert the list into dictionary {'Kalyan': 'UK', 'Ganesh': 'France', 'Sai': 'India', 'Praveen': 'France', 'Siva': 'USA'}\n"
          ]
        }
      ]
    },
    {
      "cell_type": "markdown",
      "source": [
        "5.Write a Python program to insertion at the beginning in OrderedDict?"
      ],
      "metadata": {
        "id": "K2c4c1Hml_ym"
      }
    },
    {
      "cell_type": "code",
      "source": [
        "from collections import OrderedDict\n",
        "iniordered_dict = OrderedDict([('kalyan', '1'), ('Sai', '2')])\n",
        "\n",
        "iniordered_dict.update({'Gani':'3'})\n",
        "iniordered_dict.move_to_end('Gani', last = False)\n",
        " \n",
        "print (\"Resultant Dictionary : \"+str(iniordered_dict))"
      ],
      "metadata": {
        "id": "8_VjKHRr4edr"
      },
      "execution_count": null,
      "outputs": []
    },
    {
      "cell_type": "markdown",
      "source": [
        "6.Write a Python program to check order of character in string using OrderedDict()?"
      ],
      "metadata": {
        "id": "9H9pBFi5l9Qn"
      }
    },
    {
      "cell_type": "code",
      "source": [
        "from collections import OrderedDict \n",
        "def checkOrder(string, pattern): \n",
        "    dic = OrderedDict.fromkeys(string) \n",
        "    ptr = 0\n",
        "    for key,value in dic.items(): \n",
        "        if (key == pattern[ptr]): \n",
        "            ptr = ptr + 1\n",
        "        if (ptr == (len(pattern))): \n",
        "            return 'True'\n",
        "    return 'False'\n",
        "\n",
        "string = 'Study tonight'\n",
        "pattern = 'stu'\n",
        "print (checkOrder(string,pattern))"
      ],
      "metadata": {
        "colab": {
          "base_uri": "https://localhost:8080/"
        },
        "id": "8Q5fHK3tofaQ",
        "outputId": "70075a68-a279-475a-feab-347ebc96e49a"
      },
      "execution_count": 18,
      "outputs": [
        {
          "output_type": "stream",
          "name": "stdout",
          "text": [
            "False\n"
          ]
        }
      ]
    },
    {
      "cell_type": "markdown",
      "source": [
        "7.Write a Python program to sort Python Dictionaries by Key or Value?"
      ],
      "metadata": {
        "id": "RbyY5gXHl7Xx"
      }
    },
    {
      "cell_type": "code",
      "source": [
        "from collections import OrderedDict\n",
        "dict = {'Kalyan': 'UK', 'Ganesh': 'France', 'Sai': 'India', 'Praveen': 'France', 'Siva': 'USA'}\n",
        "dict1 = OrderedDict(sorted(dict.items()))\n",
        "print(dict1)"
      ],
      "metadata": {
        "id": "FTt6c3_jmRtK"
      },
      "execution_count": null,
      "outputs": []
    }
  ]
}