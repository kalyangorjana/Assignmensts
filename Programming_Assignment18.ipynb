{
  "nbformat": 4,
  "nbformat_minor": 0,
  "metadata": {
    "colab": {
      "provenance": [],
      "authorship_tag": "ABX9TyP+RhBwSrpsKnqvRwGrop0A",
      "include_colab_link": true
    },
    "kernelspec": {
      "name": "python3",
      "display_name": "Python 3"
    },
    "language_info": {
      "name": "python"
    }
  },
  "cells": [
    {
      "cell_type": "markdown",
      "metadata": {
        "id": "view-in-github",
        "colab_type": "text"
      },
      "source": [
        "<a href=\"https://colab.research.google.com/github/kalyangorjana/Assignmensts/blob/main/Programming_Assignment18.ipynb\" target=\"_parent\"><img src=\"https://colab.research.google.com/assets/colab-badge.svg\" alt=\"Open In Colab\"/></a>"
      ]
    },
    {
      "cell_type": "markdown",
      "source": [
        "Question 1\n",
        "\n",
        "Create a function that takes a list of non-negative integers and strings and return a new list\n",
        "without the strings.\n",
        "\n",
        "Examples\n",
        "\n",
        "filter_list([1, 2, &quot;a&quot;, &quot;b&quot;]) ➞ [1, 2]\n",
        "\n",
        "filter_list([1, &quot;a&quot;, &quot;b&quot;, 0, 15]) ➞ [1, 0, 15]\n",
        "\n",
        "filter_list([1, 2, &quot;aasf&quot;, &quot;1&quot;, &quot;123&quot;, 123]) ➞ [1, 2, 123]"
      ],
      "metadata": {
        "id": "egQQRARnRAxv"
      }
    },
    {
      "cell_type": "code",
      "source": [
        "def filter_list(a):\n",
        "  new_li = []\n",
        "  for i in a:\n",
        "    if type(i) == int:\n",
        "      new_li.append(i)\n",
        "  return new_li\n",
        "\n",
        "filter_list([1, 2, \"a\", \"b\"])"
      ],
      "metadata": {
        "colab": {
          "base_uri": "https://localhost:8080/"
        },
        "id": "89Bqwy7mGMZ3",
        "outputId": "600a1894-55d0-443d-9e8b-e71538e999b4"
      },
      "execution_count": 12,
      "outputs": [
        {
          "output_type": "execute_result",
          "data": {
            "text/plain": [
              "[1, 2]"
            ]
          },
          "metadata": {},
          "execution_count": 12
        }
      ]
    },
    {
      "cell_type": "markdown",
      "source": [
        "Question 2\n",
        "\n",
        "The &quot;Reverser&quot; takes a string as input and returns that string in reverse order, with the\n",
        "opposite case.\n",
        "\n",
        "Examples\n",
        "\n",
        "reverse(&quot;Hello World&quot;) ➞ &quot;DLROw OLLEh&quot;\n",
        "\n",
        "reverse(&quot;ReVeRsE&quot;) ➞ &quot;eSrEvEr&quot;\n",
        "\n",
        "reverse(&quot;Radar&quot;) ➞ &quot;RADAr&quot;"
      ],
      "metadata": {
        "id": "N5s9FQ1qRdjK"
      }
    },
    {
      "cell_type": "code",
      "source": [
        "def reverse(string):\n",
        "  x = string.swapcase()\n",
        "  return x[::-1]\n",
        "\n",
        "reverse(\"ReVeRsE\")"
      ],
      "metadata": {
        "colab": {
          "base_uri": "https://localhost:8080/",
          "height": 35
        },
        "id": "4H7DohqALDP7",
        "outputId": "db096c5a-ea06-403d-94d6-a38ca1862d58"
      },
      "execution_count": 32,
      "outputs": [
        {
          "output_type": "execute_result",
          "data": {
            "text/plain": [
              "'eSrEvEr'"
            ],
            "application/vnd.google.colaboratory.intrinsic+json": {
              "type": "string"
            }
          },
          "metadata": {},
          "execution_count": 32
        }
      ]
    },
    {
      "cell_type": "markdown",
      "source": [
        "Question 3\n",
        "\n",
        "You can assign variables from lists like this:\n",
        "\n",
        "lst = [1, 2, 3, 4, 5, 6]\n",
        "\n",
        "first = lst[0]\n",
        "\n",
        "middle = lst[1:-1]\n",
        "\n",
        "last = lst[-1]\n",
        "\n",
        "print(first) ➞ outputs 1\n",
        "\n",
        "print(middle) ➞ outputs [2, 3, 4, 5]\n",
        "\n",
        "print(last) ➞ outputs 6\n",
        "\n",
        "With Python 3, you can assign variables from lists in a much more succinct way. \n",
        "Create\n",
        "variables first, middle and last from the given list using destructuring assignment\n",
        "(check the Resources tab for some examples), where:\n",
        "\n",
        "first ➞ 1\n",
        "\n",
        "middle ➞ [2, 3, 4, 5]\n",
        "\n",
        "last ➞ 6\n",
        "\n",
        "Your task is to unpack the list writeyourcodehere into three variables, being first,\n",
        "middle, and last, with middle being everything in between the first and last element. Then\n",
        "print all three variables.\n"
      ],
      "metadata": {
        "id": "l30oLIiyRPuP"
      }
    },
    {
      "cell_type": "code",
      "source": [
        "lst = [1, 2, 3, 4, 5, 6]\n",
        "first,*middle,last = lst"
      ],
      "metadata": {
        "id": "lRosdBwPNCuZ"
      },
      "execution_count": 36,
      "outputs": []
    },
    {
      "cell_type": "code",
      "source": [
        "first"
      ],
      "metadata": {
        "colab": {
          "base_uri": "https://localhost:8080/"
        },
        "id": "EQ4dXIgPNSwf",
        "outputId": "de4e3148-383e-4655-8ea5-897fd7a894b8"
      },
      "execution_count": 37,
      "outputs": [
        {
          "output_type": "execute_result",
          "data": {
            "text/plain": [
              "1"
            ]
          },
          "metadata": {},
          "execution_count": 37
        }
      ]
    },
    {
      "cell_type": "code",
      "source": [
        "middle"
      ],
      "metadata": {
        "colab": {
          "base_uri": "https://localhost:8080/"
        },
        "id": "cOyqRWrSNUyy",
        "outputId": "8c5b0137-6e27-4352-f429-9440240a2351"
      },
      "execution_count": 38,
      "outputs": [
        {
          "output_type": "execute_result",
          "data": {
            "text/plain": [
              "[2, 3, 4, 5]"
            ]
          },
          "metadata": {},
          "execution_count": 38
        }
      ]
    },
    {
      "cell_type": "code",
      "source": [
        "last"
      ],
      "metadata": {
        "colab": {
          "base_uri": "https://localhost:8080/"
        },
        "id": "k9zQbp4LNWkv",
        "outputId": "130a0e73-7d70-44b0-f08f-c62b14216074"
      },
      "execution_count": 39,
      "outputs": [
        {
          "output_type": "execute_result",
          "data": {
            "text/plain": [
              "6"
            ]
          },
          "metadata": {},
          "execution_count": 39
        }
      ]
    },
    {
      "cell_type": "markdown",
      "source": [
        "Question 4\n",
        "\n",
        "Write a function that calculates the factorial of a number recursively.\n",
        "\n",
        "Examples\n",
        "\n",
        "factorial(5) ➞ 120\n",
        "\n",
        "factorial(3) ➞ 6\n",
        "\n",
        "factorial(1) ➞ 1\n",
        "\n",
        "factorial(0) ➞ 1\n"
      ],
      "metadata": {
        "id": "ZB1_OqghRKaW"
      }
    },
    {
      "cell_type": "code",
      "source": [
        "def factorial(n):     \n",
        "    if n == 0:\n",
        "        return 1    \n",
        "    return n * factorial(n-1)\n",
        "\n",
        "factorial(5)"
      ],
      "metadata": {
        "colab": {
          "base_uri": "https://localhost:8080/"
        },
        "id": "39eY7UZVNgAx",
        "outputId": "dcd46f94-d187-4e63-fba7-bc1b5bc373c8"
      },
      "execution_count": 40,
      "outputs": [
        {
          "output_type": "execute_result",
          "data": {
            "text/plain": [
              "120"
            ]
          },
          "metadata": {},
          "execution_count": 40
        }
      ]
    },
    {
      "cell_type": "markdown",
      "source": [
        "Question 5\n",
        "\n",
        "Write a function that moves all elements of one type to the end of the list.\n",
        "\n",
        "Examples\n",
        "\n",
        "move_to_end([1, 3, 2, 4, 4, 1], 1) ➞ [3, 2, 4, 4, 1, 1]\n",
        "\n",
        "Move all the 1s to the end of the array.\n",
        "\n",
        "move_to_end([7, 8, 9, 1, 2, 3, 4], 9) ➞ [7, 8, 1, 2, 3, 4, 9]\n",
        "\n",
        "move_to_end([&quot;a&quot;, &quot;a&quot;, &quot;a&quot;, &quot;b&quot;], &quot;a&quot;) ➞ [&quot;b&quot;, &quot;a&quot;, &quot;a&quot;, &quot;a&quot;]"
      ],
      "metadata": {
        "id": "o5t1JipTRDBp"
      }
    },
    {
      "cell_type": "code",
      "source": [
        "def move_to_end(a,b):\n",
        "  li = []\n",
        "  li2 = []\n",
        "  for i in a:\n",
        "    if i == b:\n",
        "      li.append(i)\n",
        "    else:\n",
        "      li2.append(i)\n",
        "  li2.extend(li)\n",
        "  print(li2)\n",
        "\n",
        "move_to_end([1, 3, 2, 4, 4, 1], 1)"
      ],
      "metadata": {
        "colab": {
          "base_uri": "https://localhost:8080/"
        },
        "id": "ygJLbqFZOJDn",
        "outputId": "610163fb-eae9-428e-cf38-5451e629e2fe"
      },
      "execution_count": 60,
      "outputs": [
        {
          "output_type": "stream",
          "name": "stdout",
          "text": [
            "[3, 2, 4, 4, 1, 1]\n"
          ]
        }
      ]
    },
    {
      "cell_type": "code",
      "source": [],
      "metadata": {
        "id": "S2jX0z_QRWIb"
      },
      "execution_count": null,
      "outputs": []
    }
  ]
}