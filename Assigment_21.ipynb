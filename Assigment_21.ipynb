{
  "nbformat": 4,
  "nbformat_minor": 0,
  "metadata": {
    "colab": {
      "provenance": [],
      "authorship_tag": "ABX9TyMnvmxljtkUkPC0VH0Oxpf5",
      "include_colab_link": true
    },
    "kernelspec": {
      "name": "python3",
      "display_name": "Python 3"
    },
    "language_info": {
      "name": "python"
    }
  },
  "cells": [
    {
      "cell_type": "markdown",
      "metadata": {
        "id": "view-in-github",
        "colab_type": "text"
      },
      "source": [
        "<a href=\"https://colab.research.google.com/github/kalyangorjana/Assignmensts/blob/main/Assigment_21.ipynb\" target=\"_parent\"><img src=\"https://colab.research.google.com/assets/colab-badge.svg\" alt=\"Open In Colab\"/></a>"
      ]
    },
    {
      "cell_type": "markdown",
      "source": [
        "1.Add the current date to the text file today.txt as a string."
      ],
      "metadata": {
        "id": "7Pn_QDfHmQdp"
      }
    },
    {
      "cell_type": "code",
      "source": [
        "from datetime import datetime\n",
        "from datetime import date\n",
        "with open('today.txt','w') as f:\n",
        "  f.write(str(date.today()))"
      ],
      "metadata": {
        "id": "ZG8wWZ2gmYF4"
      },
      "execution_count": null,
      "outputs": []
    },
    {
      "cell_type": "markdown",
      "source": [
        "2.Read the text file today.txt into the string today_string"
      ],
      "metadata": {
        "id": "RynlB3QJmPKk"
      }
    },
    {
      "cell_type": "code",
      "source": [
        "with open('today.txt','r') as f:\n",
        "  today_string = f.read()\n",
        "  print(today_string)"
      ],
      "metadata": {
        "colab": {
          "base_uri": "https://localhost:8080/"
        },
        "id": "tsEtXn56nIbV",
        "outputId": "158931ab-5afe-42d0-dc79-3b43e8213f4d"
      },
      "execution_count": null,
      "outputs": [
        {
          "output_type": "stream",
          "name": "stdout",
          "text": [
            "2022-12-14\n"
          ]
        }
      ]
    },
    {
      "cell_type": "markdown",
      "source": [
        "3.Parse the date from today_string."
      ],
      "metadata": {
        "id": "Fr9KtGAcmNIg"
      }
    },
    {
      "cell_type": "code",
      "source": [
        "date_parse = datetime.strptime(today_string, '%Y-%m-%d').date()\n",
        "print(date_parse)"
      ],
      "metadata": {
        "colab": {
          "base_uri": "https://localhost:8080/"
        },
        "id": "TF44JYKNn-6Z",
        "outputId": "fed5e574-a275-49b6-ea8c-fb21545e1b87"
      },
      "execution_count": null,
      "outputs": [
        {
          "output_type": "stream",
          "name": "stdout",
          "text": [
            "2022-12-14\n"
          ]
        }
      ]
    },
    {
      "cell_type": "markdown",
      "source": [
        "4.List the files in your current directory"
      ],
      "metadata": {
        "id": "JtBBcQsFmMB0"
      }
    },
    {
      "cell_type": "code",
      "source": [
        "import os\n",
        "os.listdir('.')"
      ],
      "metadata": {
        "colab": {
          "base_uri": "https://localhost:8080/"
        },
        "id": "frsxcCFUpQNr",
        "outputId": "54e8de1d-d07b-4bfd-e995-4bf85caa229f"
      },
      "execution_count": 48,
      "outputs": [
        {
          "output_type": "execute_result",
          "data": {
            "text/plain": [
              "['.config',\n",
              " 'today4.txt',\n",
              " 'today.txt',\n",
              " 'today2.txt',\n",
              " 'sample_data',\n",
              " 'today1.txt',\n",
              " 'today5.txt',\n",
              " 'today3.txt']"
            ]
          },
          "metadata": {},
          "execution_count": 48
        }
      ]
    },
    {
      "cell_type": "markdown",
      "source": [
        "5.Create a list of all of the files in your parent directory (minimum five files should be available)."
      ],
      "metadata": {
        "id": "5r_F-uKMmK3y"
      }
    },
    {
      "cell_type": "code",
      "source": [
        "import os\n",
        "list_file = os.listdir()\n",
        "print(list_file)"
      ],
      "metadata": {
        "colab": {
          "base_uri": "https://localhost:8080/"
        },
        "id": "g670Vo8SqTGK",
        "outputId": "e1cb61a8-7a26-4919-8520-3e9fdb3e8c1e"
      },
      "execution_count": 26,
      "outputs": [
        {
          "output_type": "stream",
          "name": "stdout",
          "text": [
            "['.config', 'today4.txt', 'today.txt', 'today2.txt', 'sample_data', 'today1.txt', 'today5.txt', 'today3.txt']\n"
          ]
        }
      ]
    },
    {
      "cell_type": "markdown",
      "source": [
        "6.Use multiprocessing to create three separate processes. Make each one wait a random number of\n",
        "seconds between one and five, print the current time, and then exit."
      ],
      "metadata": {
        "id": "RmLVtNB9mJvB"
      }
    },
    {
      "cell_type": "code",
      "source": [
        "import multiprocessing\n",
        "from datetime import datetime\n",
        "from time import sleep\n",
        "import random\n",
        "\n",
        "def printsec(seconds):\n",
        "    sleep(seconds)\n",
        "    print('wait', seconds, 'seconds, time is', datetime.utcnow())\n",
        "    \n",
        "if __name__ == '__main__':\n",
        "    for n in range(3):\n",
        "        seconds = random.random()\n",
        "        proc = multiprocessing.Process(target=printsec, args=(seconds,))\n",
        "        proc.start()"
      ],
      "metadata": {
        "colab": {
          "base_uri": "https://localhost:8080/"
        },
        "id": "Mt41tKverIze",
        "outputId": "c12f0a94-4e43-4e2e-c8ec-8fe7deb54cdb"
      },
      "execution_count": 43,
      "outputs": [
        {
          "output_type": "stream",
          "name": "stdout",
          "text": [
            "wait 0.21549337635262833 seconds, time is 2022-12-14 08:13:56.700540\n",
            "wait 0.37381334640440556 seconds, time is 2022-12-14 08:13:56.879577\n",
            "wait 0.6316591107194218 seconds, time is 2022-12-14 08:13:57.128249\n"
          ]
        }
      ]
    },
    {
      "cell_type": "markdown",
      "source": [
        "7.Create a date object of your day of birth."
      ],
      "metadata": {
        "id": "KLiZPwxQmIfS"
      }
    },
    {
      "cell_type": "code",
      "source": [
        "dob = date(1999,10,2)\n",
        "dob"
      ],
      "metadata": {
        "colab": {
          "base_uri": "https://localhost:8080/"
        },
        "id": "o1ogA6_asrGt",
        "outputId": "788d842a-3b88-4fc9-faf4-8ec24e508283"
      },
      "execution_count": 45,
      "outputs": [
        {
          "output_type": "execute_result",
          "data": {
            "text/plain": [
              "datetime.date(1999, 10, 2)"
            ]
          },
          "metadata": {},
          "execution_count": 45
        }
      ]
    },
    {
      "cell_type": "markdown",
      "source": [
        "8.What day of the week was your day of birth?"
      ],
      "metadata": {
        "id": "s6TBApHEmHMH"
      }
    },
    {
      "cell_type": "code",
      "source": [
        "dob.weekday()"
      ],
      "metadata": {
        "colab": {
          "base_uri": "https://localhost:8080/"
        },
        "id": "0R4BHNmYs4DS",
        "outputId": "10efdf1a-8409-4a8c-ef43-2c71d370ae88"
      },
      "execution_count": 46,
      "outputs": [
        {
          "output_type": "execute_result",
          "data": {
            "text/plain": [
              "5"
            ]
          },
          "metadata": {},
          "execution_count": 46
        }
      ]
    },
    {
      "cell_type": "markdown",
      "source": [
        "9.When will you be (or when were you) 10,000 days old?"
      ],
      "metadata": {
        "id": "DVsXuunbmEiS"
      }
    },
    {
      "cell_type": "code",
      "source": [
        "from datetime import timedelta\n",
        "day10000 = dob + timedelta(days=10000)\n",
        "day10000"
      ],
      "metadata": {
        "colab": {
          "base_uri": "https://localhost:8080/"
        },
        "id": "fDTWSKdStBGC",
        "outputId": "507a6e9c-de6d-4619-ebc9-c2fd01cd68c3"
      },
      "execution_count": 47,
      "outputs": [
        {
          "output_type": "execute_result",
          "data": {
            "text/plain": [
              "datetime.date(2027, 2, 17)"
            ]
          },
          "metadata": {},
          "execution_count": 47
        }
      ]
    }
  ]
}