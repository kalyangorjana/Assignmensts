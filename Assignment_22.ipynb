{
  "nbformat": 4,
  "nbformat_minor": 0,
  "metadata": {
    "colab": {
      "provenance": [],
      "authorship_tag": "ABX9TyN4vaVAJLyfjM8XX06MYvZQ",
      "include_colab_link": true
    },
    "kernelspec": {
      "name": "python3",
      "display_name": "Python 3"
    },
    "language_info": {
      "name": "python"
    }
  },
  "cells": [
    {
      "cell_type": "markdown",
      "metadata": {
        "id": "view-in-github",
        "colab_type": "text"
      },
      "source": [
        "<a href=\"https://colab.research.google.com/github/kalyangorjana/Assignmensts/blob/main/Assignment_22.ipynb\" target=\"_parent\"><img src=\"https://colab.research.google.com/assets/colab-badge.svg\" alt=\"Open In Colab\"/></a>"
      ]
    },
    {
      "cell_type": "markdown",
      "source": [
        "1.What is the result of the code, and explain?\n",
        "\n",
        "&gt;&gt;&gt; X = &#39;iNeuron&#39;\n",
        "\n",
        "&gt;&gt;&gt; def func():\n",
        "\n",
        "print(X)\n",
        "\n",
        "&gt;&gt;&gt; func()\n",
        "\n",
        "\n",
        "\n",
        "```\n",
        "Answer:\n",
        "This code will print the string \"iNeuron\".\n",
        "1.Creating a variable called X and assigning a string called 'iNeuron'\n",
        "2.Then,creating a function called func() and add print() statement in \n",
        "  it which prints the value of the x varible when the function called.\n",
        "3.calling the function func() by the name.\n",
        "\n",
        "```\n",
        "\n"
      ],
      "metadata": {
        "id": "toFEUw2C4ZaK"
      }
    },
    {
      "cell_type": "markdown",
      "source": [
        "2.What is the result of the code, and explain?\n",
        "\n",
        "&gt;&gt;&gt; X = &#39;iNeuron&#39;\n",
        "\n",
        "&gt;&gt;&gt; def func():\n",
        "\n",
        "X = &#39;NI!&#39;\n",
        "\n",
        "&gt;&gt;&gt; func()\n",
        "\n",
        "&gt;&gt;&gt; print(X)\n",
        "\n",
        "\n",
        "\n",
        "```\n",
        "Answer:\n",
        "The result of the code is 'iNeuron'.\n",
        "1.we are assigning a new value to the variable X but it is in the function level.\n",
        "2.The global varible will not effect if you assign a value to it, in the function level.\n",
        "  \n",
        "```\n",
        "\n"
      ],
      "metadata": {
        "id": "OVJ7TVEe4zld"
      }
    },
    {
      "cell_type": "markdown",
      "source": [
        "3.What does this code print, and why?\n",
        "\n",
        "&gt;&gt;&gt; X = &#39;iNeuron&#39;\n",
        "\n",
        "&gt;&gt;&gt; def func():\n",
        "\n",
        "X = &#39;NI&#39;\n",
        "\n",
        "print(X)\n",
        "\n",
        "&gt;&gt;&gt; func()\n",
        "\n",
        "&gt;&gt;&gt; print(X)\n",
        "\n",
        "\n",
        "\n",
        "```\n",
        "Answer:\n",
        "The output will be 'NI!' and 'iNeuron'.\n",
        "1.We are assigning a new value to the variable in the function level,because of \n",
        "  that the print statement in the function is printing the new value.\n",
        "2.The new assignment won't effect the global variable,because of that the \n",
        "  outter print() statement printing the first value.\n",
        "```\n",
        "\n"
      ],
      "metadata": {
        "id": "An3vfkwO4zhi"
      }
    },
    {
      "cell_type": "markdown",
      "source": [
        "4.What output does this code produce? Why?\n",
        "\n",
        "&gt;&gt;&gt; X = &#39;iNeuron&#39;\n",
        "\n",
        "&gt;&gt;&gt; def func():\n",
        "\n",
        "global X\n",
        "\n",
        "X = &#39;NI&#39;\n",
        "\n",
        "\n",
        "&gt;&gt;&gt; func()\n",
        "\n",
        "&gt;&gt;&gt; print(X)\n",
        "\n",
        "\n",
        "```\n",
        "Answer:\n",
        "The output will be 'NI!'\n",
        "1. We are making the X varible as global in the function because of that the \n",
        "   new assignment of the varibale in the function effecting the value of the \n",
        "   global varible.\n",
        "```\n",
        "\n"
      ],
      "metadata": {
        "id": "7auSUKKX4zdG"
      }
    },
    {
      "cell_type": "markdown",
      "source": [
        "5.What about this code—what’s the output, and why?\n",
        "\n",
        "&gt;&gt;&gt; X = &#39;iNeuron&#39;\n",
        "\n",
        "&gt;&gt;&gt; def func():\n",
        "\n",
        "X = &#39;NI&#39;\n",
        "\n",
        "def nested():\n",
        "\n",
        "print(X)\n",
        "\n",
        "nested()\n",
        "\n",
        "&gt;&gt;&gt; func()\n",
        "\n",
        "&gt;&gt;&gt; X"
      ],
      "metadata": {
        "id": "8uhJyEHI4tGd"
      }
    },
    {
      "cell_type": "code",
      "source": [
        "X = 'iNeuron'\n",
        "def func():\n",
        "    X = 'NI'\n",
        "def nested():\n",
        "    print(X)\n",
        "    \n",
        "nested()\n",
        "func()\n",
        "X\n",
        "# Anw: The nested() will print 'iNeuron', the func() does not display anyting\n",
        "# The X varible assignment in func() not accessible to outside of the funtion.\n",
        "# X will print : 'iNeuron'"
      ],
      "metadata": {
        "colab": {
          "base_uri": "https://localhost:8080/",
          "height": 53
        },
        "id": "VreuBlkn_FR9",
        "outputId": "e3a5e0c5-518b-4471-dbfc-3a8662a0cb29"
      },
      "execution_count": 5,
      "outputs": [
        {
          "output_type": "stream",
          "name": "stdout",
          "text": [
            "iNeuron\n"
          ]
        },
        {
          "output_type": "execute_result",
          "data": {
            "text/plain": [
              "'iNeuron'"
            ],
            "application/vnd.google.colaboratory.intrinsic+json": {
              "type": "string"
            }
          },
          "metadata": {},
          "execution_count": 5
        }
      ]
    },
    {
      "cell_type": "markdown",
      "source": [
        "6.How about this code: what is its output in Python 3, and explain?\n",
        "\n",
        "&gt;&gt;&gt; def func():\n",
        "\n",
        "X = &#39;NI&#39;\n",
        "\n",
        "def nested():\n",
        "\n",
        "nonlocal X\n",
        "\n",
        "X = &#39;Spam&#39;\n",
        "\n",
        "nested()\n",
        "\n",
        "print(X)\n",
        "\n",
        "&gt;&gt;&gt; func()"
      ],
      "metadata": {
        "id": "MIo672VS4d6k"
      }
    },
    {
      "cell_type": "code",
      "source": [
        "def func():\n",
        "  X = 'NI'\n",
        "  def nested():\n",
        "    nonlocal X\n",
        "    X = 'Spam'\n",
        "  nested()\n",
        "  print(X)\n",
        "\n",
        "func()\n",
        "\n",
        "# output:Spam\n",
        "# Nonlocal variable are used in nested function whose local scope is not defined. \n",
        "# This means that the variable can be neither in the local nor the global scope. \n",
        "# it print the updated value from nested function"
      ],
      "metadata": {
        "colab": {
          "base_uri": "https://localhost:8080/"
        },
        "id": "1YX4t7LSBPpK",
        "outputId": "25aa8691-e84b-4a36-cbe1-f21c520109dc"
      },
      "execution_count": 6,
      "outputs": [
        {
          "output_type": "stream",
          "name": "stdout",
          "text": [
            "Spam\n"
          ]
        }
      ]
    }
  ]
}