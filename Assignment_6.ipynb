{
  "nbformat": 4,
  "nbformat_minor": 0,
  "metadata": {
    "colab": {
      "provenance": [],
      "authorship_tag": "ABX9TyN2lezifwjcBVHrK38+5Pkj",
      "include_colab_link": true
    },
    "kernelspec": {
      "name": "python3",
      "display_name": "Python 3"
    },
    "language_info": {
      "name": "python"
    }
  },
  "cells": [
    {
      "cell_type": "markdown",
      "metadata": {
        "id": "view-in-github",
        "colab_type": "text"
      },
      "source": [
        "<a href=\"https://colab.research.google.com/github/kalyangorjana/Assignmensts/blob/main/Assignment_6.ipynb\" target=\"_parent\"><img src=\"https://colab.research.google.com/assets/colab-badge.svg\" alt=\"Open In Colab\"/></a>"
      ]
    },
    {
      "cell_type": "markdown",
      "source": [
        "1.What are escape characters, and how do you use them?\n",
        "\n",
        "\n",
        "```\n",
        "Answer:\n",
        " To insert characters that are illegal in a string, use an escape character.\n",
        " An escape character is a backslash \\ followed by the character you want to insert.\n",
        "```\n",
        "\n"
      ],
      "metadata": {
        "id": "DdIG_3JHG5cx"
      }
    },
    {
      "cell_type": "markdown",
      "source": [
        "2.What do the escape characters n and t stand for?\n",
        "\n",
        "```\n",
        "Answer:\n",
        "\\n : New line\n",
        "\\t : Tab\n",
        "```\n",
        "\n"
      ],
      "metadata": {
        "id": "iMy5UnbeG_iU"
      }
    },
    {
      "cell_type": "markdown",
      "source": [
        "3.What is the way to include backslash characters in a string?\n",
        "\n",
        "\n",
        "```\n",
        "Answer: use the double backslash to add backslash in a string\n",
        "  txt = \"we will this way to print \\\\ (backslash).\"\n",
        "print(txt) \n",
        "```\n",
        "\n"
      ],
      "metadata": {
        "id": "vx-AruV4HCmL"
      }
    },
    {
      "cell_type": "markdown",
      "source": [
        "4.The string &quot;Howl&#39;s Moving Castle&quot; is a correct value. Why isn&#39;t the single quote character in the\n",
        "word Howl&#39;s not escaped a problem?\n",
        "\n",
        "\n",
        "```\n",
        "We are using the single quote(') bewtween the double quotes, the entire character set between the double quotes treated as string \n",
        "so its not creating the escaped problem\n",
        "```\n",
        "\n"
      ],
      "metadata": {
        "id": "ZU-6R3tQHFrE"
      }
    },
    {
      "cell_type": "markdown",
      "source": [
        "5.How do you write a string of newlines if you don&#39;t want to use the n character?\n",
        "\n",
        "\n",
        "```\n",
        "Answer:\n",
        "   There is a another way to go to the next line that is \\r.\n",
        "   \\r\t: Carriage Return(moves the cursor to the beginning of the line )\n",
        "  Example:\n",
        "    txt = \"Hello\\rWorld!\"\n",
        "    print(txt) \n",
        "```\n",
        "\n"
      ],
      "metadata": {
        "id": "sgK86QtxHLbn"
      }
    },
    {
      "cell_type": "markdown",
      "source": [
        "6.What are the values of the given expressions?\n",
        "\n",
        "&#39;Hello, world!&#39;[1]\n",
        "\n",
        "&#39;Hello, world!&#39;[0:5]\n",
        "\n",
        "&#39;Hello, world!&#39;[:5]\n",
        "\n",
        "&#39;Hello, world!&#39;[3:]\n",
        "\n",
        "\n",
        "```\n",
        "Answer:\n",
        "  'Hello, world!'[1] : 'e'\n",
        "\n",
        "  'Hello, world!'[0:5] : 'Hello'\n",
        "\n",
        "  'Hello, world!'[:5] :  'Hello'\n",
        "\n",
        "  'Hello, world!'[3:] :  'lo, world!'\n",
        "``` \n",
        "\n"
      ],
      "metadata": {
        "id": "BfSyMUkNHN_v"
      }
    },
    {
      "cell_type": "markdown",
      "source": [
        "7.What are the values of the following expressions?\n",
        "\n",
        "&#39;Hello&#39;.upper()\n",
        "\n",
        "&#39;Hello&#39;.upper().isupper()\n",
        "\n",
        "&#39;Hello&#39;.upper().lower()\n",
        "\n",
        "\n",
        "```\n",
        "Answer:\n",
        "  'Hello'.upper() : 'HELLO'\n",
        "\n",
        "  'Hello'.upper().isupper() : True\n",
        "\n",
        "  'Hello'.upper().lower() : 'hello'\n",
        "```\n",
        "\n"
      ],
      "metadata": {
        "id": "oJ4HC-IFHTay"
      }
    },
    {
      "cell_type": "markdown",
      "source": [
        "8.What are the values of the following expressions?\n",
        "\n",
        "&#39;Remember, remember, the fifth of July.&#39;.split()\n",
        "\n",
        "&#39;-&#39;.join(&#39;There can only one.&#39;.split())\n",
        "\n",
        "\n",
        "```\n",
        "Answer:\n",
        "  'Remember, remember, the fifth of July.'.split() : ['Remember,', 'remember,', 'the', 'fifth', 'of', 'July.']\n",
        "  \n",
        "  '-'.join('There can only one.'.split()): There-can-only-one.\n",
        "```\n",
        "\n"
      ],
      "metadata": {
        "id": "RGB0Hv_zHbks"
      }
    },
    {
      "cell_type": "markdown",
      "source": [
        "9.What are the methods for right-justifying, left-justifying, and centering a string?\n",
        "\n",
        "\n",
        "```\n",
        "Answer:\n",
        "right-justifying: The rjust() method will right align the string, using a specified character (space is default) as the fill character.\n",
        "\n",
        "left-justifying: The ljust() method will left align the string, using a specified character (space is default) as the fill character.\n",
        "\n",
        "centering: The center() method will center align the string, using a specified character (space is default) as the fill character.\n",
        "```\n",
        "\n"
      ],
      "metadata": {
        "id": "6uEtFLndHkW8"
      }
    },
    {
      "cell_type": "markdown",
      "source": [
        "10.What is the best way to remove whitespace characters from the start or end?\n",
        "\n",
        "\n",
        "```\n",
        "Answer:\n",
        "  The strip() method removes any leading (spaces at the beginning) and trailing (spaces at the end) characters (space is the default leading character to remove)\n",
        "  Example:\n",
        "    fruit = \"     banana     \"\n",
        "    x = fruit.strip()\n",
        "```\n",
        "\n"
      ],
      "metadata": {
        "id": "uewaZgv4HlSF"
      }
    }
  ]
}