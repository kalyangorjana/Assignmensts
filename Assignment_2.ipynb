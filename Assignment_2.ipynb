{
  "nbformat": 4,
  "nbformat_minor": 0,
  "metadata": {
    "colab": {
      "provenance": [],
      "authorship_tag": "ABX9TyP3mir6wWNE3UpTotjhCPUI",
      "include_colab_link": true
    },
    "kernelspec": {
      "name": "python3",
      "display_name": "Python 3"
    },
    "language_info": {
      "name": "python"
    }
  },
  "cells": [
    {
      "cell_type": "markdown",
      "metadata": {
        "id": "view-in-github",
        "colab_type": "text"
      },
      "source": [
        "<a href=\"https://colab.research.google.com/github/kalyangorjana/Assignmensts/blob/main/Assignment_2.ipynb\" target=\"_parent\"><img src=\"https://colab.research.google.com/assets/colab-badge.svg\" alt=\"Open In Colab\"/></a>"
      ]
    },
    {
      "cell_type": "markdown",
      "source": [
        "1.What are the two values of the Boolean data type? How do you write them?\n",
        "\n",
        "Answer:\n",
        "\n",
        "The two values for boolean data type are \"True\" and \"False\".\n",
        "We can right like True and Fasle, double quotes not requried"
      ],
      "metadata": {
        "id": "potAPpoi1chY"
      }
    },
    {
      "cell_type": "markdown",
      "source": [
        "2.What are the three different types of Boolean operators?\n",
        "\n",
        "Answer:\n",
        "\n",
        "The Boolean operators are \"and\", \"or\" and \"not\"."
      ],
      "metadata": {
        "id": "OIqePZ6U1h4H"
      }
    },
    {
      "cell_type": "markdown",
      "source": [
        "3.Make a list of each Boolean operator&#39;s truth tables (i.e. every possible combination of Boolean\n",
        "values for the operator and what it evaluate ).\n",
        "\n",
        "Answer:\n",
        "\n",
        "AND Operator\n",
        "\n",
        "\n",
        "\n",
        "```\n",
        "A        B       A and b \n",
        "T        T          T\n",
        "T        F          F\n",
        "F        T          F\n",
        "F        F          F\n",
        "```\n",
        "\n",
        "OR Operator\n",
        "\n",
        "```\n",
        "A        B       A or b \n",
        "T        T          T\n",
        "T        F          T\n",
        "F        T          T\n",
        "F        F          F\n",
        "```\n",
        "\n",
        "Not Operator\n",
        "\n",
        "```\n",
        "A      not A \n",
        "T        F \n",
        "F        T \n",
        "\n",
        "```\n",
        "\n"
      ],
      "metadata": {
        "id": "x03rLUab1mUP"
      }
    },
    {
      "cell_type": "markdown",
      "source": [
        "4.What are the values of the following expressions?\n",
        "\n",
        "(5 &gt; 4) and (3 == 5)\n",
        "\n",
        "not (5 &gt; 4)\n",
        "\n",
        "(5 &gt; 4) or (3 == 5)\n",
        "\n",
        "not ((5 &gt; 4) or (3 == 5))\n",
        "\n",
        "(True and True) and (True == False)\n",
        "\n",
        "(not False) or (not True)\n",
        "\n",
        "\n",
        "```\n",
        "Answer:\n",
        "(5 > 4) and (3 == 5) : False\n",
        "\n",
        "not (5 > 4) : Flase\n",
        "\n",
        "(5 > 4) or (3 == 5) : True\n",
        "\n",
        "not ((5 > 4) or (3 == 5)):False\n",
        "\n",
        "(True and True) and (True == False): False\n",
        "\n",
        "(not False) or (not True): True\n",
        "```\n",
        "\n",
        "\n"
      ],
      "metadata": {
        "id": "Nt3t92zR1smn"
      }
    },
    {
      "cell_type": "markdown",
      "source": [
        "5.What are the six comparison operators?\n",
        "\n",
        "\n",
        "```\n",
        "Answer: These are the six comparison operators\n",
        "== : Equals to\n",
        "<= : Lessthan or equals to\n",
        ">= : Greaterthan or equals to \n",
        "<  : Lessthan\n",
        ">  : Greaterthan\n",
        "!= : Not equals to\n",
        "```\n",
        "\n"
      ],
      "metadata": {
        "id": "h9Ea71bP1y7k"
      }
    },
    {
      "cell_type": "markdown",
      "source": [
        "6.How do you tell the difference between the equal to and assignment operators?Describe a\n",
        "condition and when you would use one.\n",
        "\n",
        "\n",
        "```\n",
        "Answer:\n",
        "The equals to (\"==\") operator is used to compare the two values where as the assignmet operator is used to assigning a value.\n",
        "Example: you can see the both operators usage\n",
        "  a = 10 ## This is called assigning the value\n",
        "  b = 20\n",
        "  if a == b: ## This is called comparing the values\n",
        "    print (\"a is equals to b\")\n",
        "  else:\n",
        "    print(\"a is not equals to b\")\n",
        "\n",
        "\n",
        "```\n",
        "\n"
      ],
      "metadata": {
        "id": "hrN9oveA12cD"
      }
    },
    {
      "cell_type": "markdown",
      "source": [
        "7.Identify the three blocks in this code:\n",
        "\n",
        "spam = 0\n",
        "\n",
        "if spam == 10:\n",
        "\n",
        "print(&#39;eggs&#39;)\n",
        "\n",
        "if spam &gt; 5:\n",
        "\n",
        "print(&#39;bacon&#39;)\n",
        "\n",
        "else:\n",
        "\n",
        "print(&#39;ham&#39;)\n",
        "\n",
        "print(&#39;spam&#39;)\n",
        "\n",
        "print(&#39;spam&#39;)\n",
        "\n",
        "\n",
        "```\n",
        "Answer:\n",
        "spam = 0 # First Block\n",
        "\n",
        "if spam == 10:\n",
        "  print('eggs') # Second Block\n",
        "\n",
        "if spam > 5: # Third Block\n",
        "  print('bacon')\n",
        "else:\n",
        "  print('ham')\n",
        "  print('spam')\n",
        "  print('spam')\n",
        "```\n",
        "\n"
      ],
      "metadata": {
        "id": "1WQa3ML91696"
      }
    },
    {
      "cell_type": "markdown",
      "source": [
        "8.Write code that prints Hello if 1 is stored in spam, prints Howdy if 2 is stored in spam, and prints\n",
        "Greetings! if anything else is stored in spam.\n",
        "\n",
        "\n",
        "```\n",
        "Answer:\n",
        "  spam = int(input())\n",
        "  if spam == 1:\n",
        "    print(\"Hello\")\n",
        "  elif spam == 2:\n",
        "    print(\"Howdy\")\n",
        "  else:\n",
        "    print(\"Greetings!\")\n",
        "```\n",
        "\n"
      ],
      "metadata": {
        "id": "VHtB7bbW2A9i"
      }
    },
    {
      "cell_type": "markdown",
      "source": [
        "9.If your programme is stuck in an endless loop, what keys you’ll press?\n",
        "\n",
        "\n",
        "```\n",
        "Cntl + c\n",
        "```\n",
        "\n"
      ],
      "metadata": {
        "id": "GvtFHykh2D0G"
      }
    },
    {
      "cell_type": "markdown",
      "source": [
        "10.How can you tell the difference between break and continue?\n",
        "\n",
        "\n",
        "```\n",
        "\n",
        "Break statement stops the entire process of the loop. Continue \n",
        "statement only stops the current iteration of the loop. Break\n",
        "also terminates the remaining iterations. Continue \n",
        "doesn't terminate the next iterations\n",
        "```\n",
        "\n"
      ],
      "metadata": {
        "id": "chB5-n0D2GJk"
      }
    },
    {
      "cell_type": "markdown",
      "source": [
        "11.In a for loop, what is the difference between range(10), range(0, 10), and range(0, 10, 1)?\n",
        "Answer:\n",
        "\n",
        "\n",
        "```\n",
        "range(10): It starting from 0 by default, and increments by 1 (by default), and ends at a 9.\n",
        "range(0, 10): which means values from 0 to 10 (but not including 10)\n",
        "range(0, 10, 1) The third parameter specify the increment value, it will increament by the value which is specified \n",
        "in the third parameter\n",
        "```\n",
        "\n"
      ],
      "metadata": {
        "id": "C7ZbfTv02IlU"
      }
    },
    {
      "cell_type": "markdown",
      "source": [
        "12.Write a short program that prints the numbers 1 to 10 using a for loop. Then write an equivalent\n",
        "program that prints the numbers 1 to 10 using a while loop.\n",
        "\n",
        "\n",
        "```\n",
        "Answer\n",
        "# For Loop\n",
        "for i in range(1, 11):\n",
        "  print(i)\n",
        "\n",
        "# While Loop\n",
        "i =1\n",
        "while i <= 10:\n",
        "  print(i)\n",
        "  i += 1\n",
        "\n",
        "```\n",
        "\n"
      ],
      "metadata": {
        "id": "128CVwnJ2LoX"
      }
    },
    {
      "cell_type": "markdown",
      "source": [
        "13.If you had a function named bacon() inside a module named spam, how would you call it after\n",
        "importing spam?\n",
        "\n",
        "\n",
        "```\n",
        "Answer\n",
        "\n",
        "spam.bacon()\n",
        "```\n",
        "\n"
      ],
      "metadata": {
        "id": "lxRQbXdR2QCb"
      }
    }
  ]
}