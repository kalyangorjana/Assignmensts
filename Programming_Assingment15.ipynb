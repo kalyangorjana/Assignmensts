{
  "nbformat": 4,
  "nbformat_minor": 0,
  "metadata": {
    "colab": {
      "provenance": [],
      "authorship_tag": "ABX9TyN+Tjh41FqyF1oxH9FZJcSy",
      "include_colab_link": true
    },
    "kernelspec": {
      "name": "python3",
      "display_name": "Python 3"
    },
    "language_info": {
      "name": "python"
    }
  },
  "cells": [
    {
      "cell_type": "markdown",
      "metadata": {
        "id": "view-in-github",
        "colab_type": "text"
      },
      "source": [
        "<a href=\"https://colab.research.google.com/github/kalyangorjana/Assignmensts/blob/main/Programming_Assingment15.ipynb\" target=\"_parent\"><img src=\"https://colab.research.google.com/assets/colab-badge.svg\" alt=\"Open In Colab\"/></a>"
      ]
    },
    {
      "cell_type": "markdown",
      "source": [
        "Question 1:\n",
        "\n",
        "Please write a program using generator to print the numbers which can be divisible by 5 and\n",
        "7 between 0 and n in comma separated form while n is input by console.\n",
        "\n",
        "Example:\n",
        "\n",
        "If the following n is given as input to the program:\n",
        "\n",
        "100\n",
        "\n",
        "Then, the output of the program should be:\n",
        "\n",
        "0,35,70"
      ],
      "metadata": {
        "id": "Q2AOcISx3X9j"
      }
    },
    {
      "cell_type": "code",
      "source": [
        "def gen(n):\n",
        "  for i in range(0,n):\n",
        "    if i % 5 == 0 and i % 7 == 0:\n",
        "      yield str(i)\n",
        "\n",
        "n = int(input(\"Enter the n value: \"))\n",
        "li = list(gen(n))\n",
        "print(','.join(li))"
      ],
      "metadata": {
        "colab": {
          "base_uri": "https://localhost:8080/"
        },
        "id": "3gfoh-CpEtc-",
        "outputId": "5e65c618-b93b-49ff-e68b-39f6fa092a37"
      },
      "execution_count": 11,
      "outputs": [
        {
          "output_type": "stream",
          "name": "stdout",
          "text": [
            "Enter the n value: 100\n",
            "0,35,70\n"
          ]
        }
      ]
    },
    {
      "cell_type": "markdown",
      "source": [
        "Question 2:\n",
        "\n",
        "Please write a program using generator to print the even numbers between 0 and n in comma\n",
        "separated form while n is input by console.\n",
        "\n",
        "Example:\n",
        "\n",
        "If the following n is given as input to the program:\n",
        "\n",
        "10\n",
        "\n",
        "Then, the output of the program should be:\n",
        "\n",
        "0,2,4,6,8,10"
      ],
      "metadata": {
        "id": "gnclu-iN3ZdH"
      }
    },
    {
      "cell_type": "code",
      "source": [
        "def gen(n):\n",
        "  for i in range(0,n+1):\n",
        "    if i % 2 == 0:\n",
        "      yield str(i)\n",
        "\n",
        "n = int(input(\"Enter the n value: \"))\n",
        "li = list(gen(n))\n",
        "print(','.join(li))"
      ],
      "metadata": {
        "colab": {
          "base_uri": "https://localhost:8080/"
        },
        "id": "jWxX1fpWIfZ5",
        "outputId": "79f0ad75-c7f8-4568-c689-84a7fcf4c050"
      },
      "execution_count": 13,
      "outputs": [
        {
          "output_type": "stream",
          "name": "stdout",
          "text": [
            "Enter the n value: 10\n",
            "0,2,4,6,8,10\n"
          ]
        }
      ]
    },
    {
      "cell_type": "markdown",
      "source": [
        "Question 3:\n",
        "\n",
        "The Fibonacci Sequence is computed based on the following formula:\n",
        "\n",
        "f(n)=0 if n=0\n",
        "\n",
        "f(n)=1 if n=1\n",
        "\n",
        "f(n)=f(n-1)+f(n-2) if n&gt;1\n",
        "\n",
        "Please write a program using list comprehension to print the Fibonacci Sequence in comma\n",
        "separated form with a given n input by console.\n",
        "\n",
        "Example:\n",
        "\n",
        "If the following n is given as input to the program:\n",
        "\n",
        "7\n",
        "\n",
        "Then, the output of the program should be:\n",
        "\n",
        "0,1,1,2,3,5,8,13"
      ],
      "metadata": {
        "id": "nvPcNK0x3eiI"
      }
    },
    {
      "cell_type": "code",
      "source": [
        "def fib(n):\n",
        "  if n == 0:\n",
        "    return 0\n",
        "  elif n == 1:\n",
        "    return 1\n",
        "  elif n < 0:\n",
        "    print(\"Enter the positive integer\")\n",
        "  else:\n",
        "    return fib(n-1) + fib(n-2)\n",
        "  \n",
        "n = int(input(\"Enter the n value: \"))\n",
        "values = [str(fib(x)) for x in range(0,n+1)]\n",
        "print(','.join(values))"
      ],
      "metadata": {
        "colab": {
          "base_uri": "https://localhost:8080/"
        },
        "id": "D7dqx1DDIvn0",
        "outputId": "3dce6842-0004-43ab-bc0c-fbfaf32bface"
      },
      "execution_count": 19,
      "outputs": [
        {
          "output_type": "stream",
          "name": "stdout",
          "text": [
            "Enter the n value: 7\n",
            "0,1,1,2,3,5,8,13\n"
          ]
        }
      ]
    },
    {
      "cell_type": "markdown",
      "source": [
        "Question 4:\n",
        "\n",
        "Assuming that we have some email addresses in the &quot;username@companyname.com&quot; format,\n",
        "please write program to print the user name of a given email address. Both user names and\n",
        "company names are composed of letters only.\n",
        "\n",
        "Example:\n",
        "\n",
        "If the following email address is given as input to the program:\n",
        "\n",
        "john@google.com\n",
        "\n",
        "Then, the output of the program should be:\n",
        "\n",
        "john"
      ],
      "metadata": {
        "id": "FgS2aM-n3nEx"
      }
    },
    {
      "cell_type": "code",
      "source": [
        "email = input(\"Enter the Email address: \").split('@')\n",
        "print(email[0])"
      ],
      "metadata": {
        "colab": {
          "base_uri": "https://localhost:8080/"
        },
        "id": "3tzk3wVMLVuP",
        "outputId": "3bada836-226c-44f0-dad8-5d14c668ee0d"
      },
      "execution_count": 20,
      "outputs": [
        {
          "output_type": "stream",
          "name": "stdout",
          "text": [
            "Enter the Email address: kalyan@gmail.com\n",
            "kalyan\n"
          ]
        }
      ]
    },
    {
      "cell_type": "markdown",
      "source": [
        "Question 5:\n",
        "\n",
        "Define a class named Shape and its subclass Square. The Square class has an init function\n",
        "which takes a length as argument. Both classes have a area function which can print the area\n",
        "of the shape where Shape&#39;s area is 0 by default."
      ],
      "metadata": {
        "id": "AAc8Q_TZ3uNj"
      }
    },
    {
      "cell_type": "code",
      "source": [
        "class Shape():\n",
        "  def __init__(self):\n",
        "    pass\n",
        "  def area(self):\n",
        "    return 0\n",
        "class Square(Shape):\n",
        "  def __init__(self,l):\n",
        "    self.length = l\n",
        "  \n",
        "  def area(self):\n",
        "    return self.length * self.length\n",
        "\n",
        "square = Square(6)\n",
        "print(square.area())"
      ],
      "metadata": {
        "colab": {
          "base_uri": "https://localhost:8080/"
        },
        "id": "6zA2pvhnMFZn",
        "outputId": "de3dc5e8-c2b4-4a2c-ef68-8ae7050c4308"
      },
      "execution_count": 23,
      "outputs": [
        {
          "output_type": "stream",
          "name": "stdout",
          "text": [
            "36\n"
          ]
        }
      ]
    }
  ]
}