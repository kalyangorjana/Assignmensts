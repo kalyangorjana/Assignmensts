{
  "nbformat": 4,
  "nbformat_minor": 0,
  "metadata": {
    "colab": {
      "provenance": [],
      "authorship_tag": "ABX9TyPmU0LuPNQguLmA2Dr1EqNE",
      "include_colab_link": true
    },
    "kernelspec": {
      "name": "python3",
      "display_name": "Python 3"
    },
    "language_info": {
      "name": "python"
    }
  },
  "cells": [
    {
      "cell_type": "markdown",
      "metadata": {
        "id": "view-in-github",
        "colab_type": "text"
      },
      "source": [
        "<a href=\"https://colab.research.google.com/github/kalyangorjana/Assignmensts/blob/main/Assignment_9.ipynb\" target=\"_parent\"><img src=\"https://colab.research.google.com/assets/colab-badge.svg\" alt=\"Open In Colab\"/></a>"
      ]
    },
    {
      "cell_type": "markdown",
      "source": [
        "1.To what does a relative path refer?\n",
        "\n",
        "\n",
        "```\n",
        "Answer:\n",
        "A relative path refers to a location that is relative to a current directory.\n",
        "```\n",
        "\n"
      ],
      "metadata": {
        "id": "5S8ajQsYnsYP"
      }
    },
    {
      "cell_type": "markdown",
      "source": [
        "2.What does an absolute path start with your operating system?\n",
        "\n",
        "\n",
        "```\n",
        "Answer:\n",
        "An absolute path is defined as the specifying the location of a file or directory from the root directory(/). \n",
        "In other words we can say absolute path is a complete path from start of actual filesystem from / directory.\n",
        "```\n",
        "\n"
      ],
      "metadata": {
        "id": "ZIQcNU0nnq-0"
      }
    },
    {
      "cell_type": "markdown",
      "source": [
        "3.What do the functions os.getcwd() and os.chdir() do?\n",
        "\n",
        "\n",
        "```\n",
        "Answer:\n",
        "getcwd() : CWD stands for Current Working Directory. This function allows you to see what your current working directory is. \n",
        "chdir(\"path-to-dir\") : Short for CHange DIRectory, this function allows you to set the current \n",
        "working directory to a path of your choice.\n",
        "```\n",
        "\n",
        "\n"
      ],
      "metadata": {
        "id": "xMEVKOGXnptv"
      }
    },
    {
      "cell_type": "markdown",
      "source": [
        "4.What are the . and .. folders?\n",
        "\n",
        "\n",
        "```\n",
        "Answer:\n",
        "Relative paths make use of two special symbols, a dot (.) and a double-dot (..), which translate into the current \n",
        "directory and the parent directory. Double dots are used for moving up in the hierarchy.\n",
        "```\n",
        "\n"
      ],
      "metadata": {
        "id": "66ryTr1Fnn2T"
      }
    },
    {
      "cell_type": "markdown",
      "source": [
        "5.In C:\\bacon\\eggs\\spam.txt, which part is the dir name, and which part is the base name?\n",
        "\n",
        "\n",
        "```\n",
        "Answer:\n",
        "C:\\bacon\\eggs is the dir name, while spam.txt is the base name.\n",
        "```\n",
        "\n"
      ],
      "metadata": {
        "id": "-vlnqxQUnmU_"
      }
    },
    {
      "cell_type": "markdown",
      "source": [
        "6.What are the three “mode” arguments that can be passed to the open() function?\n",
        "\n",
        "\n",
        "```\n",
        "Answer:\n",
        "'r'\tOpen a file for reading. (default)\n",
        "'w'\tOpen a file for writing. Creates a new file if it does not exist or truncates the file if it exists.\n",
        "'x'\tOpen a file for exclusive creation. If the file already exists, the operation fails.\n",
        "```\n",
        "\n"
      ],
      "metadata": {
        "id": "gukPKAWqnkmf"
      }
    },
    {
      "cell_type": "markdown",
      "source": [
        "7.What happens if an existing file is opened in write mode?\n",
        "\n",
        "\n",
        "```\n",
        "Answer:\n",
        "If a file with the same name already exists, its contents are discarded and the file is treated as a new empty file.\n",
        "```\n",
        "\n"
      ],
      "metadata": {
        "id": "ixqyFvxVnhzI"
      }
    },
    {
      "cell_type": "markdown",
      "source": [
        "8.How do you tell the difference between read() and readlines()?\n",
        "\n",
        "\n",
        "```\n",
        "Answer:\n",
        "Read is used to read only single character from the standard output device, while Console. ReadLine is used to read a \n",
        "line or string from the standard output device.\n",
        "```\n",
        "\n"
      ],
      "metadata": {
        "id": "uN71lsprngYf"
      }
    },
    {
      "cell_type": "markdown",
      "source": [
        "9.What data structure does a shelf value resemble?\n",
        "\n",
        "\n",
        "```\n",
        "Answer:\n",
        "A shelf value resembles a dictionary value; it has keys and values, along with keys() and values() methods that work similarly \n",
        "to the dictionary methods of the same names.\n",
        "```\n",
        "\n"
      ],
      "metadata": {
        "id": "6Dd5No8QneyS"
      }
    }
  ]
}