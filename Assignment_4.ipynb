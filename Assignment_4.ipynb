{
  "nbformat": 4,
  "nbformat_minor": 0,
  "metadata": {
    "colab": {
      "provenance": [],
      "authorship_tag": "ABX9TyPZEYS8HGd95qy4A/I+Pg6H",
      "include_colab_link": true
    },
    "kernelspec": {
      "name": "python3",
      "display_name": "Python 3"
    },
    "language_info": {
      "name": "python"
    }
  },
  "cells": [
    {
      "cell_type": "markdown",
      "metadata": {
        "id": "view-in-github",
        "colab_type": "text"
      },
      "source": [
        "<a href=\"https://colab.research.google.com/github/kalyangorjana/Assignmensts/blob/main/Assignment_4.ipynb\" target=\"_parent\"><img src=\"https://colab.research.google.com/assets/colab-badge.svg\" alt=\"Open In Colab\"/></a>"
      ]
    },
    {
      "cell_type": "markdown",
      "source": [
        "1.What exactly is []?\n",
        "\n",
        "\n",
        "```\n",
        "Answer\n",
        "\n",
        " In python index brackets([]) are used to define the list and its content in the program.\n",
        "```\n",
        "\n"
      ],
      "metadata": {
        "id": "MOqEMGMjYjhO"
      }
    },
    {
      "cell_type": "markdown",
      "source": [
        "2.In a list of values stored in a variable called spam, how would you assign the value &#39;hello&#39; as the\n",
        "third value? (Assume [2, 4, 6, 8, 10] are in spam.)\n",
        "\n",
        "\n",
        "\n",
        "```\n",
        "Answer:\n",
        "We can add the 'hello' to the list in two ways\n",
        "1. spam[2] = 'hello'\n",
        "2. spam.insert(2,'hello')\n",
        "```\n",
        "\n"
      ],
      "metadata": {
        "id": "uhMPJY5xYk3D"
      }
    },
    {
      "cell_type": "markdown",
      "source": [
        "Let&#39;s pretend the spam includes the list [&#39;a&#39;, &#39;b&#39;, &#39;c&#39;, &#39;d&#39;] for the next three queries.\n"
      ],
      "metadata": {
        "id": "DqEVExrtY7QI"
      }
    },
    {
      "cell_type": "markdown",
      "source": [
        "3.What is the value of spam[int(int(&#39;3&#39; * 2) / 11)]?\n",
        "\n",
        "\n",
        "```\n",
        "Answer:\n",
        "d\n",
        "```\n",
        "\n"
      ],
      "metadata": {
        "id": "781OuCRlYphC"
      }
    },
    {
      "cell_type": "markdown",
      "source": [
        "4.What is the value of spam[-1]?\n",
        "```\n",
        "Answer:\n",
        "d\n",
        "```"
      ],
      "metadata": {
        "id": "h8qXzcpmYw0C"
      }
    },
    {
      "cell_type": "markdown",
      "source": [
        "5.What is the value of spam[:2]?\n",
        "```\n",
        "Answer:\n",
        "['a', 'b']\n",
        "```"
      ],
      "metadata": {
        "id": "FTPoZVx5Yzw5"
      }
    },
    {
      "cell_type": "markdown",
      "source": [
        "Let&#39;s pretend bacon has the list [3.14, &#39;cat&#39;, 11, &#39;cat&#39;, True] for the next three questions."
      ],
      "metadata": {
        "id": "0_wdj6j_Y4k4"
      }
    },
    {
      "cell_type": "markdown",
      "source": [
        "6.What is the value of bacon.index(&#39;cat&#39;)?\n",
        "\n",
        "\n",
        "```\n",
        "Answer:\n",
        "1\n",
        "```\n",
        "\n"
      ],
      "metadata": {
        "id": "Wke6AVEYY5cR"
      }
    },
    {
      "cell_type": "markdown",
      "source": [
        "7.How does bacon.append(99) change the look of the list value in bacon?\n",
        "\n",
        "```\n",
        "Answer:\n",
        "the append function will add the item at last item of the list,\n",
        "the 99 will append at the last of the lise.\n",
        "after appending the 99 the list will be:\n",
        "  [3.14, 'cat', 11, 'cat', True, 99]\n",
        "```\n",
        "\n"
      ],
      "metadata": {
        "id": "iotWzqHjZAmD"
      }
    },
    {
      "cell_type": "markdown",
      "source": [
        "8.How does bacon.remove(&#39;cat&#39;) change the look of the list in bacon?\n",
        "\n",
        "\n",
        "```\n",
        "Answer:\n",
        "The remove() function will remove the first occurance value which is metioned in the bractes. \n",
        "after executing the bacon.remove('cat') the list will be\n",
        "[3.14, 11, 'cat', True]\n",
        "```\n",
        "\n"
      ],
      "metadata": {
        "id": "4ydWF2WbZC2J"
      }
    },
    {
      "cell_type": "markdown",
      "source": [
        "9.What are the list concatenation and list replication operators?\n",
        "\n",
        "\n",
        "```\n",
        "Answer:\n",
        "Concatenation of lists is an operation where the elements of one list are added at the end of another list.\n",
        "Operators used to concat two list:\n",
        "1. we can use '+' operator to concat.\n",
        "2. \"extend\" function: x.extend(y)\n",
        "\n",
        "You cannot copy a list simply by typing list2 = list1, because: list2 will only be a reference to list1, and changes made \n",
        "in list1 will automatically also be made in list2.\n",
        "There are ways to make a copy, one way is to use the built-in List method copy().\n",
        "1.Make a copy of a list with the copy() method\n",
        "  Exmple:\n",
        "    thislist = [\"apple\", \"banana\", \"cherry\"]\n",
        "    mylist = thislist.copy()\n",
        "    print(mylist)\n",
        "2.Another way to make a copy is to use the built-in method list().\n",
        "  Example:\n",
        "    thislist = [\"apple\", \"banana\", \"cherry\"]\n",
        "    mylist = list(thislist)\n",
        "    print(mylist)\n",
        "```\n",
        "\n"
      ],
      "metadata": {
        "id": "PGH0ZSJjZE0a"
      }
    },
    {
      "cell_type": "markdown",
      "source": [
        "10.What is difference between the list methods append() and insert()?\n",
        "\n",
        "\n",
        "```\n",
        "Answers:\n",
        "The only difference between append() and insert() is that insert function allows us to add a specific element at a specified \n",
        "index of the list unlike append() where we can add the element only at end of the list.\n",
        "```\n",
        "\n"
      ],
      "metadata": {
        "id": "ZPfyiJoDZGsG"
      }
    },
    {
      "cell_type": "markdown",
      "source": [
        "11.What are the two methods for removing items from a list?\n",
        "\n",
        "\n",
        "```\n",
        "Answer:\n",
        "1.remove(): The remove() method removes the specified item.\n",
        "Example:thislist = [\"apple\", \"banana\", \"cherry\"]\n",
        "        thislist.remove(\"banana\")\n",
        "2.pop(): The pop() method removes the specified index.\n",
        "Example: thislist.pop(1)\n",
        "  If you do not specify the index, the pop() method removes the last item.\n",
        "```\n",
        "\n"
      ],
      "metadata": {
        "id": "KVvy8ppqZIXZ"
      }
    },
    {
      "cell_type": "markdown",
      "source": [
        "12.Describe how list values and string values are identical.\n",
        "\n",
        "\n",
        "```\n",
        "Answer:\n",
        "Lists and Strings in Python is that both are sequences. The differences between them are that firstly, \n",
        "Lists are mutable but Strings are immutable. Secondly, elements of a list can be of different types \n",
        "whereas a String only contains characters that are all of String type.\n",
        "```\n",
        "\n"
      ],
      "metadata": {
        "id": "xZHLGaGLZKFX"
      }
    },
    {
      "cell_type": "markdown",
      "source": [
        "13.What&#39;s the difference between tuples and lists?\n",
        "\n",
        "\n",
        "```\n",
        "Answer:\n",
        "  The list is dynamic, whereas the tuple has static characteristics. This means that lists can be modified whereas \n",
        "  tuples cannot be modified, the tuple is faster than the list because of static in nature. Lists are denoted \n",
        "  by the square brackets but tuples are denoted as parenthesis.\n",
        "```\n",
        "\n"
      ],
      "metadata": {
        "id": "LA0kbPvyZMDI"
      }
    },
    {
      "cell_type": "markdown",
      "source": [
        "14.How do you type a tuple value that only contains the integer 42?\n",
        "\n",
        "\n",
        "```\n",
        "Answer:\n",
        "  if we want to create a tuple with one element then we need add a comma after the item.\n",
        "  Example: to create a tuple which contans the integer 42\n",
        "    a = (42,)\n",
        "    print(type(a))\n",
        "  \n",
        "  It will give the type of a is tuple\n",
        "\n",
        "```\n",
        "\n"
      ],
      "metadata": {
        "id": "1K_EteiEZN2G"
      }
    },
    {
      "cell_type": "markdown",
      "source": [
        "15.How do you get a list value&#39;s tuple form? How do you get a tuple value&#39;s list form?\n",
        "\n",
        "\n",
        "```\n",
        "To get a list values to tupele form:\n",
        "  list1 = [1, 2, 3, 4]\n",
        "  tuple1 = tuple(list1)\n",
        "  print(tuple1)\n",
        "  output :\n",
        "    (1, 2, 3, 4)\n",
        "\n",
        "To get a tuple values to list form:\n",
        "  list2 = list(tuple1)\n",
        "  print(list2)\n",
        "  output:\n",
        "    [1, 2, 3, 4]\n",
        "\n",
        "```\n",
        "\n"
      ],
      "metadata": {
        "id": "s1PDuAo0ZPt-"
      }
    },
    {
      "cell_type": "markdown",
      "source": [
        "16.Variables that &quot;contain&quot; list values are not necessarily lists themselves. Instead, what do they\n",
        "contain?\n",
        "\n",
        "\n",
        "```\n",
        "Answer:\n",
        "  Variables will contain references to list values rather than list values themselves. But for strings and integer values, \n",
        "  variables simply contain the string or integer value.\n",
        "```\n",
        "\n"
      ],
      "metadata": {
        "id": "FsdPwTmJZSHE"
      }
    },
    {
      "cell_type": "markdown",
      "source": [
        "17.How do you distinguish between copy.copy() and copy.deepcopy()?\n",
        "\n",
        "\n",
        "```\n",
        "Answer:\n",
        "  .copy() create reference to original object. If you change copied object - that affect to the original object,\n",
        "  where .deepcopy() creates new object and does real copying of original object to new one. \n",
        "  Changing new deepcopied object doesn't affect original object.\n",
        "```\n",
        "\n"
      ],
      "metadata": {
        "id": "i8zmuLzrZT81"
      }
    }
  ]
}