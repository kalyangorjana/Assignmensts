{
  "nbformat": 4,
  "nbformat_minor": 0,
  "metadata": {
    "colab": {
      "provenance": [],
      "authorship_tag": "ABX9TyMcHIuiqwQe6LcChOmUC9re",
      "include_colab_link": true
    },
    "kernelspec": {
      "name": "python3",
      "display_name": "Python 3"
    },
    "language_info": {
      "name": "python"
    }
  },
  "cells": [
    {
      "cell_type": "markdown",
      "metadata": {
        "id": "view-in-github",
        "colab_type": "text"
      },
      "source": [
        "<a href=\"https://colab.research.google.com/github/kalyangorjana/Assignmensts/blob/main/Assignment_25.ipynb\" target=\"_parent\"><img src=\"https://colab.research.google.com/assets/colab-badge.svg\" alt=\"Open In Colab\"/></a>"
      ]
    },
    {
      "cell_type": "markdown",
      "source": [
        "1.What is the difference between enclosing a list comprehension in square brackets and\n",
        "parentheses?"
      ],
      "metadata": {
        "id": "O_dMHtOFzi5J"
      }
    },
    {
      "cell_type": "code",
      "source": [
        "li = [i for i in range(1,10)]\n",
        "print(li)\n",
        "#List Comprehension with square brackets produces list.\n",
        "     \n",
        "li = (i for i in range(1,10))\n",
        "print(li)\n",
        "#List Comprehension with parentheses creates generators"
      ],
      "metadata": {
        "colab": {
          "base_uri": "https://localhost:8080/"
        },
        "id": "y_7mG2lkz-di",
        "outputId": "79dbaca8-28ca-4245-929c-223ea5ad9e6d"
      },
      "execution_count": 2,
      "outputs": [
        {
          "output_type": "stream",
          "name": "stdout",
          "text": [
            "[1, 2, 3, 4, 5, 6, 7, 8, 9]\n",
            "<generator object <genexpr> at 0x7f393bdc74a0>\n"
          ]
        }
      ]
    },
    {
      "cell_type": "markdown",
      "source": [
        "2.What is the relationship between generators and iterators?\n",
        "\n",
        "\n",
        "```\n",
        "Answer:\n",
        "Iterator:\n",
        "An iterator is an object which contains a countable number of values and it is used to iterate over iterable objects like list, \n",
        "tuples etc\n",
        "Using an iterator- iter() keyword is used to create an iterator containing an iterable object. next() keyword is used to \n",
        "call the next element in the iterable object.\n",
        "\n",
        "Generator:\n",
        "It is another way of creating iterators in a simple way where it uses the keyword “yield” instead of returning \n",
        "it in a defined function Generators are implemented using a function Here, the yield function returns the data without \n",
        "affecting or exiting the function. It will return a sequence of data in an iterable format where we need to \n",
        "iterate over the sequence to use the data as they won’t store the entire sequence in the memory By using next() function \n",
        "we can iterate the output of generator function\n",
        "```\n",
        "\n"
      ],
      "metadata": {
        "id": "rnJzrfOYzwID"
      }
    },
    {
      "cell_type": "markdown",
      "source": [
        "3.What are the signs that a function is a generator function?\n",
        "\n",
        "\n",
        "```\n",
        "Answer:\n",
        " If a function contains at least one yield statement (it may contain other yield or return statements), \n",
        " it becomes a generator function. Both yield and return will return some value from a function.\n",
        "```\n",
        "\n"
      ],
      "metadata": {
        "id": "DLYYjZTUzuYi"
      }
    },
    {
      "cell_type": "markdown",
      "source": [
        "4.What is the purpose of a yield statement?\n",
        "\n",
        "\n",
        "```\n",
        "Answer:\n",
        "A yield statement looks much like a return statement, except that instead of stopping execution of the function and\n",
        "returning, yield instead provides a value to the code looping over the generator and pauses execution of the generator function\n",
        "```\n",
        "\n"
      ],
      "metadata": {
        "id": "1lSGnMzSzsRi"
      }
    },
    {
      "cell_type": "markdown",
      "source": [
        "5.What is the relationship between map calls and list comprehensions? Make a comparison and\n",
        "contrast between the two.\n",
        "\n",
        "\n",
        "```\n",
        "Answer:\n",
        "Suppose we have a function and we want to compute this function for different values in a single line of code . \n",
        "This is where map() function plays its role. map() function returns a map object(which is an iterator) of the results \n",
        "after applying the given function to each item of a given iterable (list, tuple etc.)\n",
        "\n",
        "List Comprehension is a substitute for the lambda function, map(), filter() and reduce()\n",
        "\n",
        "Comparision :\n",
        "List comprehension is more concise and easier to read as compared to map\n",
        "List comprehension allows filtering. In map, we have no such facility\n",
        "```\n",
        "\n"
      ],
      "metadata": {
        "id": "w1lOLqwkzp7D"
      }
    }
  ]
}