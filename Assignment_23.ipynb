{
  "nbformat": 4,
  "nbformat_minor": 0,
  "metadata": {
    "colab": {
      "provenance": [],
      "authorship_tag": "ABX9TyMc3J5lwkc63CDGUMCBy0o1",
      "include_colab_link": true
    },
    "kernelspec": {
      "name": "python3",
      "display_name": "Python 3"
    },
    "language_info": {
      "name": "python"
    }
  },
  "cells": [
    {
      "cell_type": "markdown",
      "metadata": {
        "id": "view-in-github",
        "colab_type": "text"
      },
      "source": [
        "<a href=\"https://colab.research.google.com/github/kalyangorjana/Assignmensts/blob/main/Assignment_23.ipynb\" target=\"_parent\"><img src=\"https://colab.research.google.com/assets/colab-badge.svg\" alt=\"Open In Colab\"/></a>"
      ]
    },
    {
      "cell_type": "markdown",
      "source": [
        "1.What is the result of the code, and why?\n",
        "\n",
        "&gt;&gt;&gt; def func(a, b=6, c=8):\n",
        "\n",
        "print(a, b, c)\n",
        "\n",
        "&gt;&gt;&gt; func(1, 2)"
      ],
      "metadata": {
        "id": "ljZyMh0bCgOI"
      }
    },
    {
      "cell_type": "code",
      "source": [
        "def func(a,b=6,c=8):\n",
        "  print(a,b,c)\n",
        "func(1,2)\n",
        "# The result of the code is 1 2 8\n",
        "# we are calling the func() with only two parameters the new values will assign to the first two function parameters only.\n",
        "# for variable 'a' there is no value assigned previously so the new value assign\n",
        "# for variable 'b' the old value replaced with new values and for there is no new value assignment so it will remains the same."
      ],
      "metadata": {
        "colab": {
          "base_uri": "https://localhost:8080/"
        },
        "id": "6zErrwHO-kHt",
        "outputId": "3cb61db0-982d-4aee-8831-446f5bfa2bff"
      },
      "execution_count": 7,
      "outputs": [
        {
          "output_type": "stream",
          "name": "stdout",
          "text": [
            "1 2 8\n"
          ]
        }
      ]
    },
    {
      "cell_type": "markdown",
      "source": [
        "2.What is the result of this code, and why?\n",
        "\n",
        "&gt;&gt;&gt; def func(a, b, c=5):\n",
        "\n",
        "print(a, b, c)\n",
        "\n",
        "&gt;&gt;&gt; func(1, c=3, b=2)"
      ],
      "metadata": {
        "id": "chbsRvEECkGp"
      }
    },
    {
      "cell_type": "code",
      "source": [
        "def func(a,b,c=5):\n",
        "  print(a,b,c)\n",
        "func(1,c=3,b=2)\n",
        "\n",
        "# the result of the this code is 1 2 3\n",
        "# The previous assigned values are reapled with new values of the paramenter\n",
        "# we you pass the parament along with keys, order of the paramenter is does not matters\n",
        "# The values of will assign based on the key."
      ],
      "metadata": {
        "colab": {
          "base_uri": "https://localhost:8080/"
        },
        "id": "gfwkApsWAIBk",
        "outputId": "27a67251-4ec8-49c3-bfdb-6528ba4940f4"
      },
      "execution_count": 9,
      "outputs": [
        {
          "output_type": "stream",
          "name": "stdout",
          "text": [
            "1 2 3\n"
          ]
        }
      ]
    },
    {
      "cell_type": "markdown",
      "source": [
        "3.How about this code: what is its result, and why?\n",
        "\n",
        "&gt;&gt;&gt; def func(a, *pargs):\n",
        "\n",
        "print(a, pargs)\n",
        "\n",
        "&gt;&gt;&gt; func(1, 2, 3)"
      ],
      "metadata": {
        "id": "Uxud3v_wCnsy"
      }
    },
    {
      "cell_type": "code",
      "source": [
        "def func(a,*pargs):\n",
        "  print(a,pargs)\n",
        "func(1,2,3)\n",
        "\n",
        "# The result of the code is 1 (2,3)\n",
        "# The first parameter is directly assign to the 'a'\n",
        "# As a second paramenter there is a Arbitrary Arguments it means the function will receive a tuple of arguments\n",
        "# So the remaining arguments printed in tuple."
      ],
      "metadata": {
        "colab": {
          "base_uri": "https://localhost:8080/"
        },
        "id": "-Ni5U96bA66W",
        "outputId": "7dd24338-8618-41b3-919f-ccf2075f5c5f"
      },
      "execution_count": 10,
      "outputs": [
        {
          "output_type": "stream",
          "name": "stdout",
          "text": [
            "1 (2, 3)\n"
          ]
        }
      ]
    },
    {
      "cell_type": "markdown",
      "source": [
        "4.What does this code print, and why?\n",
        "\n",
        "&gt;&gt;&gt; def func(a, **kargs):\n",
        "\n",
        "print(a, kargs)\n",
        "\n",
        "&gt;&gt;&gt; func(a=1, c=3, b=2)"
      ],
      "metadata": {
        "id": "x3X4uOMnCr5E"
      }
    },
    {
      "cell_type": "code",
      "source": [
        "def func(a, **kargs):\n",
        "  print(a,kargs)\n",
        "func(a=1,c=3,b=3)\n",
        "\n",
        "# The result of the code is 1 {'c': 3, 'b': 3}\n",
        "# The first parameter is directly assign to the 'a'.\n",
        "# As a second paramenter there is a Arbitrary Keyword Arguments it means the function will receive a dictionary of arguments, \n",
        "# and can access the items accordingly\n",
        "# So the remaining arguments printed in dictionary."
      ],
      "metadata": {
        "colab": {
          "base_uri": "https://localhost:8080/"
        },
        "id": "ewPqsc_eB3Wi",
        "outputId": "7c86cd13-c4c1-4573-f04e-343bcf67aa17"
      },
      "execution_count": 11,
      "outputs": [
        {
          "output_type": "stream",
          "name": "stdout",
          "text": [
            "1 {'c': 3, 'b': 3}\n"
          ]
        }
      ]
    },
    {
      "cell_type": "markdown",
      "source": [
        "5.What gets printed by this, and explain?\n",
        "\n",
        "&gt;&gt;&gt; def func(a, b, c=8, d=5): print(a, b, c, d)\n",
        "\n",
        "&gt;&gt;&gt; func(1, *(5, 6))"
      ],
      "metadata": {
        "id": "zSjP9dvLCu8i"
      }
    },
    {
      "cell_type": "code",
      "source": [
        "def func(a, b, c=8, d=5): \n",
        "  print(a, b, c, d)\n",
        "func(1, *(5, 6))\n",
        "\n",
        "# The result of the code is 1 5 6 5\n",
        "# *' is the unpacking operator and are operators that unpack the values from iterable objects in Python. \n",
        "# The single asterisk operator * can be used on any iterable that Python provides, while the double asterisk operator ** can only \n",
        "# be used on dictionaries. In the example the value *(5,6) will be unpacked and will be assigned to b and c and passed \n",
        "# as arguments, d =5 will taken by defaults are keyword arguments.\n"
      ],
      "metadata": {
        "colab": {
          "base_uri": "https://localhost:8080/"
        },
        "id": "6eqCARnwClhX",
        "outputId": "e9b439cd-7e4a-4477-df29-9afa7342cf3f"
      },
      "execution_count": 17,
      "outputs": [
        {
          "output_type": "stream",
          "name": "stdout",
          "text": [
            "1 5 6 5\n"
          ]
        }
      ]
    },
    {
      "cell_type": "markdown",
      "source": [
        "6.what is the result of this, and explain?\n",
        "\n",
        "&gt;&gt;&gt; def func(a, b, c): a = 2; b[0] = &#39;x&#39;; c[&#39;a&#39;] = &#39;y&#39;\n",
        "\n",
        "&gt;&gt;&gt; l=1; m=[1]; n={&#39;a&#39;:0}\n",
        "\n",
        "&gt;&gt;&gt; func(l, m, n)\n",
        "\n",
        "&gt;&gt;&gt; l, m, n"
      ],
      "metadata": {
        "id": "JP5okKGICzvB"
      }
    },
    {
      "cell_type": "code",
      "source": [
        "def func(a, b, c): \n",
        "  a = 2; \n",
        "  b[0] = 'x'; \n",
        "  c['a'] = 'y';\n",
        "l=1; \n",
        "m=[1]; \n",
        "n={'a':0}\n",
        "func(l, m, n)\n",
        "l,m,n\n",
        "\n",
        "#The result will be = 1,['x'],{'a':'y'}\n",
        "# Here in the code, the list and dict are passed as argument, and those are mutable. \n",
        "# Here the list l and parameter b point to the same list in the memory location where as dict n and c point to the same memory location. Any updates to this \n",
        "#list will update in the memory location\n",
        "#l = 1 , integer values it's immutable, m is list it's mutable, n is dict it's mutable."
      ],
      "metadata": {
        "colab": {
          "base_uri": "https://localhost:8080/"
        },
        "id": "QHUn5k4GECr7",
        "outputId": "b0fd2327-3e76-43f2-baa5-1406d3be29f7"
      },
      "execution_count": 23,
      "outputs": [
        {
          "output_type": "execute_result",
          "data": {
            "text/plain": [
              "(1, ['x'], {'a': 'y'})"
            ]
          },
          "metadata": {},
          "execution_count": 23
        }
      ]
    }
  ]
}