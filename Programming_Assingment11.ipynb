{
  "nbformat": 4,
  "nbformat_minor": 0,
  "metadata": {
    "colab": {
      "provenance": [],
      "authorship_tag": "ABX9TyPCIdYRVn7xDrb0uC1lm9XU",
      "include_colab_link": true
    },
    "kernelspec": {
      "name": "python3",
      "display_name": "Python 3"
    },
    "language_info": {
      "name": "python"
    }
  },
  "cells": [
    {
      "cell_type": "markdown",
      "metadata": {
        "id": "view-in-github",
        "colab_type": "text"
      },
      "source": [
        "<a href=\"https://colab.research.google.com/github/kalyangorjana/Assignmensts/blob/main/Programming_Assingment11.ipynb\" target=\"_parent\"><img src=\"https://colab.research.google.com/assets/colab-badge.svg\" alt=\"Open In Colab\"/></a>"
      ]
    },
    {
      "cell_type": "markdown",
      "source": [
        "1.Write a Python program to find words which are greater than given length k?\n",
        "\n",
        "\n",
        "\n",
        "\n",
        "\n"
      ],
      "metadata": {
        "id": "BZlG9rIgk4fr"
      }
    },
    {
      "cell_type": "code",
      "source": [
        "word = input(\"Enter the Word: \")\n",
        "k = int(input(\"Enter the lenght: \"))\n",
        "if len(word) > k:\n",
        "  print(\"Given word length is greter than the given length\")\n",
        "else:\n",
        "  print(\"Given word length is not greter than the given length\")"
      ],
      "metadata": {
        "id": "uHVskd0IHzAj"
      },
      "execution_count": null,
      "outputs": []
    },
    {
      "cell_type": "markdown",
      "source": [
        "2.Write a Python program for removing i-th character from a string?"
      ],
      "metadata": {
        "id": "sql0akiqlFk7"
      }
    },
    {
      "cell_type": "code",
      "source": [
        "string = input(\"Enter the string : \")\n",
        "i = int(input(\"Enter the i-th value: \"))\n",
        "string1 = string[:i-1] + string[i:]\n",
        "print(f\"The string after removing the {i} value : {string1}\")"
      ],
      "metadata": {
        "id": "tMhcuZ5mI6to"
      },
      "execution_count": null,
      "outputs": []
    },
    {
      "cell_type": "markdown",
      "source": [
        "3.Write a Python program to split and join a string?"
      ],
      "metadata": {
        "id": "P74bVChblEE1"
      }
    },
    {
      "cell_type": "code",
      "source": [
        "string = input(\"Enter the string : \")\n",
        "split1 = string.split(\" \")\n",
        "print(f\"After split the string {split1}\")\n",
        "print(f'After join into the string: {\" \".join(split1)}')"
      ],
      "metadata": {
        "id": "WLzD9qHaRcZl"
      },
      "execution_count": null,
      "outputs": []
    },
    {
      "cell_type": "markdown",
      "source": [
        "4.Write a Python to check if a given string is binary string or not?"
      ],
      "metadata": {
        "id": "OOsNk1_klCrx"
      }
    },
    {
      "cell_type": "code",
      "source": [
        "string = input(\"Enter the string: \")\n",
        "val = True\n",
        "for i in string:\n",
        "  if i.isalpha() == False:\n",
        "    if int(i) == 0 or int(i) == 1:\n",
        "      val = True\n",
        "  else:\n",
        "    val = False\n",
        "    break\n",
        "\n",
        "if val == True:\n",
        "  print(\"The Given string is a binary string\")\n",
        "else:\n",
        "  print(\"The Given string is not a binary string\")"
      ],
      "metadata": {
        "id": "WWl8_l0hqJw1"
      },
      "execution_count": null,
      "outputs": []
    },
    {
      "cell_type": "markdown",
      "source": [
        "5.Write a Python program to find uncommon words from two Strings?"
      ],
      "metadata": {
        "id": "jJIQAT0wlBJV"
      }
    },
    {
      "cell_type": "code",
      "source": [
        "string1 = input(\"Enter the string1: \").split(\" \")\n",
        "string2 = input(\"Enter the string2: \").split(\" \")\n",
        "uncommon = []\n",
        "for i in (string1+string2):\n",
        "  if (string1+string2).count(i) == 1:\n",
        "    uncommon.append(i)\n",
        "print(f\"The uncommon words in the two strings: {uncommon}\")"
      ],
      "metadata": {
        "id": "v8_5vOCUtXb6"
      },
      "execution_count": null,
      "outputs": []
    },
    {
      "cell_type": "markdown",
      "source": [
        "6.Write a Python to find all duplicate characters in string?"
      ],
      "metadata": {
        "id": "J10ql0xMk_kB"
      }
    },
    {
      "cell_type": "code",
      "source": [
        "string1 = input(\"Enter the string: \")\n",
        "duplicate = []\n",
        "for i in string1:\n",
        "  if string1.count(i) > 1:\n",
        "    if i not in duplicate:\n",
        "      duplicate.append(i)\n",
        "\n",
        "print(f\"Duplicate characters in the given string: {duplicate}\")"
      ],
      "metadata": {
        "id": "5ixV4zIyv-ws"
      },
      "execution_count": null,
      "outputs": []
    },
    {
      "cell_type": "markdown",
      "source": [
        "7.Write a Python Program to check if a string contains any special character?"
      ],
      "metadata": {
        "id": "iuEYPLkak95Q"
      }
    },
    {
      "cell_type": "code",
      "source": [
        "string1 = input(\"Enter the string: \")\n",
        "value = True\n",
        "for i in string1:\n",
        "  if i.isalpha() or i.isnumeric():\n",
        "    value = True\n",
        "  else:\n",
        "    value = False\n",
        "\n",
        "if value == False:\n",
        "  print(\"The Given string is contains special character\")\n",
        "else:\n",
        "  print(\"The Given string is not contains special character\")"
      ],
      "metadata": {
        "id": "ALqJCBt9w--V"
      },
      "execution_count": null,
      "outputs": []
    }
  ]
}