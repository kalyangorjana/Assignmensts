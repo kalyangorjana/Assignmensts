{
  "nbformat": 4,
  "nbformat_minor": 0,
  "metadata": {
    "colab": {
      "provenance": [],
      "authorship_tag": "ABX9TyOsbSVjwuJ3VKTLfhXY8e8K",
      "include_colab_link": true
    },
    "kernelspec": {
      "name": "python3",
      "display_name": "Python 3"
    },
    "language_info": {
      "name": "python"
    }
  },
  "cells": [
    {
      "cell_type": "markdown",
      "metadata": {
        "id": "view-in-github",
        "colab_type": "text"
      },
      "source": [
        "<a href=\"https://colab.research.google.com/github/kalyangorjana/Assignmensts/blob/main/Programming_Assignment24.ipynb\" target=\"_parent\"><img src=\"https://colab.research.google.com/assets/colab-badge.svg\" alt=\"Open In Colab\"/></a>"
      ]
    },
    {
      "cell_type": "markdown",
      "source": [
        "Question1\n",
        "\n",
        "Create a function that takes an integer and returns a list from 1 to the given number, where:\n",
        "\n",
        "1. If the number can be divided evenly by 4, amplify it by 10 (i.e. return 10 times the\n",
        "number).\n",
        "\n",
        "2. If the number cannot be divided evenly by 4, simply return the number.\n",
        "\n",
        "Examples\n",
        "\n",
        "amplify(4) ➞ [1, 2, 3, 40]\n",
        "\n",
        "amplify(3) ➞ [1, 2, 3]\n",
        "\n",
        "amplify(25) ➞ [1, 2, 3, 40, 5, 6, 7, 80, 9, 10, 11, 120, 13, 14, 15, 160,\n",
        "17, 18, 19, 200, 21, 22, 23, 240, 25]\n",
        "\n",
        "Notes\n",
        "\n",
        " The given integer will always be equal to or greater than 1.\n",
        "\n",
        " Include the number (see example above).\n",
        "\n",
        " To perform this problem with its intended purpose, try doing it with list\n",
        "comprehensions. If that&#39;s too difficult, just solve the challenge any way you can."
      ],
      "metadata": {
        "id": "uHFNnxl4fseT"
      }
    },
    {
      "cell_type": "code",
      "source": [
        "def amplify(n):\n",
        "  return[i*10 if i % n ==0  else i for i in range(1,n+1)]"
      ],
      "metadata": {
        "id": "6z-UNfKYKNic"
      },
      "execution_count": 8,
      "outputs": []
    },
    {
      "cell_type": "code",
      "source": [
        "amplify(4)"
      ],
      "metadata": {
        "colab": {
          "base_uri": "https://localhost:8080/"
        },
        "id": "awNMtlz4KCRm",
        "outputId": "bc59c467-9597-4118-ba98-73c80960b5f1"
      },
      "execution_count": 10,
      "outputs": [
        {
          "output_type": "execute_result",
          "data": {
            "text/plain": [
              "[1, 2, 3, 40]"
            ]
          },
          "metadata": {},
          "execution_count": 10
        }
      ]
    },
    {
      "cell_type": "markdown",
      "source": [
        "Question2\n",
        "\n",
        "Create a function that takes a list of numbers and return the number that&#39;s unique.\n",
        "\n",
        "Examples\n",
        "\n",
        "unique([3, 3, 3, 7, 3, 3]) ➞ 7\n",
        "\n",
        "unique([0, 0, 0.77, 0, 0]) ➞ 0.77\n",
        "\n",
        "unique([0, 1, 1, 1, 1, 1, 1, 1]) ➞ 0\n",
        "\n",
        "Notes\n",
        "Test cases will always have exactly one unique number while all others are the same."
      ],
      "metadata": {
        "id": "1zV227rxgG2k"
      }
    },
    {
      "cell_type": "code",
      "source": [
        "def unique(li):\n",
        "  for i in li:\n",
        "    if li.count(i) == 1:\n",
        "      return i"
      ],
      "metadata": {
        "id": "IsfuEGLELQH2"
      },
      "execution_count": 17,
      "outputs": []
    },
    {
      "cell_type": "code",
      "source": [
        "unique([3, 3, 3, 7, 3, 3])"
      ],
      "metadata": {
        "colab": {
          "base_uri": "https://localhost:8080/"
        },
        "id": "99LEJ1kEMAuO",
        "outputId": "2a14e89f-7760-4dac-f179-234d08d906a9"
      },
      "execution_count": 18,
      "outputs": [
        {
          "output_type": "execute_result",
          "data": {
            "text/plain": [
              "7"
            ]
          },
          "metadata": {},
          "execution_count": 18
        }
      ]
    },
    {
      "cell_type": "markdown",
      "source": [
        "Question3\n",
        "\n",
        "Your task is to create a Circle constructor that creates a circle with a radius provided by an\n",
        "argument. The circles constructed must have two getters getArea() (PIr^2) and\n",
        "getPerimeter() (2PI*r) which give both respective areas and perimeter (circumference).\n",
        "\n",
        "For help with this class, I have provided you with a Rectangle constructor which you can use\n",
        "as a base example.\n",
        "\n",
        "Examples\n",
        "\n",
        "circy = Circle(11)\n",
        "\n",
        "circy.getArea()\n",
        "Should return 380.132711084365\n",
        "\n",
        "circy = Circle(4.44)\n",
        "\n",
        "circy.getPerimeter()\n",
        "Should return 27.897342763877365\n",
        "\n",
        "Notes\n",
        "Round results up to the nearest integer."
      ],
      "metadata": {
        "id": "64wDv_z7gAeI"
      }
    },
    {
      "cell_type": "code",
      "source": [
        "import math\n",
        "class Circle:\n",
        "  def __init__(self,r):\n",
        "    self.r = r\n",
        "    self.PI = math.pi\n",
        "  \n",
        "  def getArea(self):\n",
        "    return round(self.PI*self.r*self.r)\n",
        "  \n",
        "  def getPerimeter(self):\n",
        "    return round(2*self.PI*self.r)"
      ],
      "metadata": {
        "id": "dR-l0ew4MUyb"
      },
      "execution_count": 26,
      "outputs": []
    },
    {
      "cell_type": "code",
      "source": [
        "circy = Circle(11)\n",
        "circy.getArea()"
      ],
      "metadata": {
        "colab": {
          "base_uri": "https://localhost:8080/"
        },
        "id": "yc6ilLlwNVI8",
        "outputId": "42b73d0b-dc86-48dc-af18-fd47102e58c4"
      },
      "execution_count": 27,
      "outputs": [
        {
          "output_type": "execute_result",
          "data": {
            "text/plain": [
              "380"
            ]
          },
          "metadata": {},
          "execution_count": 27
        }
      ]
    },
    {
      "cell_type": "code",
      "source": [
        "circy = Circle(4.44)\n",
        "circy.getPerimeter()"
      ],
      "metadata": {
        "colab": {
          "base_uri": "https://localhost:8080/"
        },
        "id": "B86dV8o2Nevt",
        "outputId": "d1d633e2-63bf-4c81-c3e2-7f53eab6a8d3"
      },
      "execution_count": 28,
      "outputs": [
        {
          "output_type": "execute_result",
          "data": {
            "text/plain": [
              "28"
            ]
          },
          "metadata": {},
          "execution_count": 28
        }
      ]
    },
    {
      "cell_type": "markdown",
      "source": [
        "Question4\n",
        "\n",
        "Create a function that takes a list of strings and return a list, sorted from \n",
        "shortest to longest.\n",
        "\n",
        "Examples\n",
        "\n",
        "sort_by_length([&quot;Google&quot;, &quot;Apple&quot;, &quot;Microsoft&quot;])\n",
        "➞ [&quot;Apple&quot;, &quot;Google&quot;, &quot;Microsoft&quot;]\n",
        "\n",
        "sort_by_length([&quot;Leonardo&quot;, &quot;Michelangelo&quot;, &quot;Raphael&quot;, &quot;Donatello&quot;])\n",
        "➞ [&quot;Raphael&quot;, &quot;Leonardo&quot;, &quot;Donatello&quot;, &quot;Michelangelo&quot;]\n",
        "\n",
        "sort_by_length([&quot;Turing&quot;, &quot;Einstein&quot;, &quot;Jung&quot;])\n",
        "➞ [&quot;Jung&quot;, &quot;Turing&quot;, &quot;Einstein&quot;]\n",
        "\n",
        "Notes\n",
        "All test cases contain lists with strings of different lengths, so you won&#39;t have to deal with\n",
        "multiple strings of the same length.\n"
      ],
      "metadata": {
        "id": "H8r68c1Wf6lv"
      }
    },
    {
      "cell_type": "code",
      "source": [
        "def sort_by_length(li):\n",
        "    return sorted(li, key = len)"
      ],
      "metadata": {
        "id": "MnNlq-6qNwCA"
      },
      "execution_count": 29,
      "outputs": []
    },
    {
      "cell_type": "code",
      "source": [
        "sort_by_length([\"Google\", \"Apple\", \"Microsoft\"])"
      ],
      "metadata": {
        "colab": {
          "base_uri": "https://localhost:8080/"
        },
        "id": "4GgCTR6uOc9R",
        "outputId": "db607f99-aacd-4b12-b5eb-0e5e223bd8e2"
      },
      "execution_count": 30,
      "outputs": [
        {
          "output_type": "execute_result",
          "data": {
            "text/plain": [
              "['Apple', 'Google', 'Microsoft']"
            ]
          },
          "metadata": {},
          "execution_count": 30
        }
      ]
    },
    {
      "cell_type": "markdown",
      "source": [
        "Question5\n",
        "\n",
        "Create a function that validates whether three given integers form a Pythagorean triplet. The\n",
        "sum of the squares of the two smallest integers must equal the square of the largest number to\n",
        "be validated.\n",
        "\n",
        "Examples\n",
        "\n",
        "is_triplet(3, 4, 5) ➞ True\n",
        "3² + 4² = 25\n",
        "5² = 25\n",
        "\n",
        "is_triplet(13, 5, 12) ➞ True\n",
        "5² + 12² = 169\n",
        "13² = 169\n",
        "\n",
        "is_triplet(1, 2, 3) ➞ False\n",
        "1² + 2² = 5\n",
        "3² = 9\n",
        "\n",
        "Notes\n",
        "Numbers may not be given in a sorted order."
      ],
      "metadata": {
        "id": "BBHdqJu-fu6v"
      }
    },
    {
      "cell_type": "code",
      "source": [
        "def is_triplet(a,b,c):\n",
        "  li = []\n",
        "  li.extend((a,b,c))\n",
        "  li.sort()\n",
        "  return li[0]**2 + li[1]**2 == li[2]**2"
      ],
      "metadata": {
        "id": "u3umZ9tMOmA9"
      },
      "execution_count": 33,
      "outputs": []
    },
    {
      "cell_type": "code",
      "source": [
        "is_triplet(3, 4, 5)"
      ],
      "metadata": {
        "colab": {
          "base_uri": "https://localhost:8080/"
        },
        "id": "SVlldcpMPP62",
        "outputId": "b4afe85b-fc28-49c5-d6be-864005be9ee0"
      },
      "execution_count": 34,
      "outputs": [
        {
          "output_type": "execute_result",
          "data": {
            "text/plain": [
              "True"
            ]
          },
          "metadata": {},
          "execution_count": 34
        }
      ]
    },
    {
      "cell_type": "code",
      "source": [
        "is_triplet(13, 5, 12) "
      ],
      "metadata": {
        "colab": {
          "base_uri": "https://localhost:8080/"
        },
        "id": "97rNGpk_PaEP",
        "outputId": "fa14b47d-cd1c-484d-aac3-6fa10130f029"
      },
      "execution_count": 35,
      "outputs": [
        {
          "output_type": "execute_result",
          "data": {
            "text/plain": [
              "True"
            ]
          },
          "metadata": {},
          "execution_count": 35
        }
      ]
    },
    {
      "cell_type": "code",
      "source": [
        "is_triplet(1, 2, 3)"
      ],
      "metadata": {
        "id": "fBCfxvU5Pb90",
        "outputId": "e0e48042-cd22-499b-cca7-d3377aca0d60",
        "colab": {
          "base_uri": "https://localhost:8080/"
        }
      },
      "execution_count": 36,
      "outputs": [
        {
          "output_type": "execute_result",
          "data": {
            "text/plain": [
              "False"
            ]
          },
          "metadata": {},
          "execution_count": 36
        }
      ]
    }
  ]
}