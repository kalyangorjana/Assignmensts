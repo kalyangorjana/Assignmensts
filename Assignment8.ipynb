{
  "nbformat": 4,
  "nbformat_minor": 0,
  "metadata": {
    "colab": {
      "provenance": [],
      "authorship_tag": "ABX9TyMYbgw4Ri/kkQ4TFEsP3ORr",
      "include_colab_link": true
    },
    "kernelspec": {
      "name": "python3",
      "display_name": "Python 3"
    },
    "language_info": {
      "name": "python"
    }
  },
  "cells": [
    {
      "cell_type": "markdown",
      "metadata": {
        "id": "view-in-github",
        "colab_type": "text"
      },
      "source": [
        "<a href=\"https://colab.research.google.com/github/kalyangorjana/Assignmensts/blob/main/Assignment8.ipynb\" target=\"_parent\"><img src=\"https://colab.research.google.com/assets/colab-badge.svg\" alt=\"Open In Colab\"/></a>"
      ]
    },
    {
      "cell_type": "markdown",
      "source": [
        "1.Is the Python Standard Library included with PyInputPlus?\n",
        "\n",
        "\n",
        "```\n",
        "Answer:\n",
        "PyInputPlus is not a part of the Python Standard Library, we must install it separately using Pip\n",
        "```\n",
        "\n"
      ],
      "metadata": {
        "id": "VmCEYZtNYjGc"
      }
    },
    {
      "cell_type": "markdown",
      "source": [
        "2.Why is PyInputPlus commonly imported with import pyinputplus as pypi?\n",
        "\n",
        "\n",
        "```\n",
        "Answer:\n",
        "You can import the module with import pyinputplus as pyip so that you can enter a shorter name when calling the module's functions.\n",
        "```\n",
        "\n"
      ],
      "metadata": {
        "id": "q1Y21uJhY3wA"
      }
    },
    {
      "cell_type": "markdown",
      "source": [
        "3.How do you distinguish between inputInt() and inputFloat()?\n",
        "\n",
        "\n",
        "```\n",
        "Answer:\n",
        "inputInt() : Accepts an integer value, and returns an int.\n",
        "inputFloat() : Accepts a floating-point numeric value and returns an float.\n",
        "```\n",
        "\n"
      ],
      "metadata": {
        "id": "BQ1w2yzaY2G3"
      }
    },
    {
      "cell_type": "markdown",
      "source": [
        "4.Using PyInputPlus, how do you ensure that the user enters a whole number between 0 and 99?\n",
        "\n",
        "\n",
        "```\n",
        "Answer:\n",
        "We can use inputInt() function with min and max parameters\n",
        "Ex: inputInt(min = 0, max = 99)\n",
        "```\n",
        "\n"
      ],
      "metadata": {
        "id": "DXz-3GabYz0J"
      }
    },
    {
      "cell_type": "markdown",
      "source": [
        "5.What is transferred to the keyword arguments allowRegexes and blockRegexes?\n",
        "\n",
        "\n",
        "```\n",
        "Answer:\n",
        "The parameter's values transferred as regex pattern.\n",
        "```\n",
        "\n"
      ],
      "metadata": {
        "id": "dgh-XJrMYyWD"
      }
    },
    {
      "cell_type": "markdown",
      "source": [
        "6.If a blank input is entered three times, what does inputStr(limit=3) do?\n",
        "\n",
        "\n",
        "```\n",
        "Answer:\n",
        "It will rise the \"limitOrTimeoutException\"\n",
        "```\n",
        "\n"
      ],
      "metadata": {
        "id": "N-GXj-FtYwpq"
      }
    },
    {
      "cell_type": "markdown",
      "source": [
        "7.If blank input is entered three times, what does inputStr(limit=3, default=&#39;hello&#39;) do?\n",
        "\n",
        "\n",
        "```\n",
        "Answer:\n",
        "It will return the default value\n",
        "```\n",
        "\n"
      ],
      "metadata": {
        "id": "2w1pUeP1Yu6s"
      }
    }
  ]
}