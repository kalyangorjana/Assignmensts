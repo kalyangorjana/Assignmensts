{
  "nbformat": 4,
  "nbformat_minor": 0,
  "metadata": {
    "colab": {
      "provenance": [],
      "authorship_tag": "ABX9TyPtWRhu6jbc5g95RadCewIA",
      "include_colab_link": true
    },
    "kernelspec": {
      "name": "python3",
      "display_name": "Python 3"
    },
    "language_info": {
      "name": "python"
    }
  },
  "cells": [
    {
      "cell_type": "markdown",
      "metadata": {
        "id": "view-in-github",
        "colab_type": "text"
      },
      "source": [
        "<a href=\"https://colab.research.google.com/github/kalyangorjana/Assignmensts/blob/main/Assignment7.ipynb\" target=\"_parent\"><img src=\"https://colab.research.google.com/assets/colab-badge.svg\" alt=\"Open In Colab\"/></a>"
      ]
    },
    {
      "cell_type": "markdown",
      "source": [
        "1.What is the name of the feature responsible for generating Regex objects?\n",
        "\n",
        "\n",
        "```\n",
        "Answer:\n",
        "We will use the 're.compile' to generate the Regex objects\n",
        "```\n",
        "\n"
      ],
      "metadata": {
        "id": "wgHpHDTAHigV"
      }
    },
    {
      "cell_type": "markdown",
      "source": [
        "2.Why do raw strings often appear in Regex objects?\n",
        "\n",
        "\n",
        "```\n",
        "Answer:\n",
        "Raw strings help you get the \"source code\" of a RegEx safely to the RegEx \n",
        "parser, which will then assign meaning to character sequences like \\d , \\w , \\n , etc...\n",
        "```\n",
        "\n"
      ],
      "metadata": {
        "id": "HAjJH-v0HgHq"
      }
    },
    {
      "cell_type": "markdown",
      "source": [
        "3.What is the return value of the search() method?\n",
        "\n",
        "\n",
        "```\n",
        "Answer:\n",
        "search() method returns a Match object if there is a match anywhere in the string\n",
        "```\n",
        "\n"
      ],
      "metadata": {
        "id": "Rf3t08AoHeef"
      }
    },
    {
      "cell_type": "markdown",
      "source": [
        "4.From a Match item, how do you get the actual strings that match the pattern?\n",
        "\n",
        "\n",
        "```\n",
        "Answer:\n",
        "The group() method returns strings of the matched text.\n",
        "```\n",
        "\n"
      ],
      "metadata": {
        "id": "BbshsDS3HcnI"
      }
    },
    {
      "cell_type": "markdown",
      "source": [
        "5.In the regex which created from the r&#39;(\\d\\d\\d)-(\\d\\d\\d-\\d\\d\\d\\d)&#39;, what does group zero cover?\n",
        "Group 2? Group 1?\n",
        "\n",
        "\n",
        "```\n",
        "Answer:\n",
        "Group 0 is the entire match, group 1 covers the first set of parentheses, \n",
        "and group 2 covers the second set of parentheses\n",
        "```\n",
        "\n"
      ],
      "metadata": {
        "id": "ciHUO5c6HbUR"
      }
    },
    {
      "cell_type": "markdown",
      "source": [
        "6.In standard expression syntax, parentheses and intervals have distinct meanings. How can you tell\n",
        "a regex that you want it to fit real parentheses and periods?\n",
        "\n",
        "\n",
        "```\n",
        "Answer:\n",
        "Periods and parentheses can be escaped with a backslash: \\., \\(, and \\)\n",
        "```\n",
        "\n"
      ],
      "metadata": {
        "id": "_eGhnhybHaFP"
      }
    },
    {
      "cell_type": "markdown",
      "source": [
        "7.The findall() method returns a string list or a list of string tuples. What causes it to return one of\n",
        "the two options?\n",
        "\n",
        "\n",
        "```\n",
        "If the regex has no groups, a list of strings is returned. If the regex has groups, a list of tuples of strings is returned.\n",
        "```\n",
        "\n"
      ],
      "metadata": {
        "id": "I48lRbzXHYux"
      }
    },
    {
      "cell_type": "markdown",
      "source": [
        "8.In standard expressions, what does the | character mean?\n",
        "\n",
        "\n",
        "```\n",
        "Answer:\n",
        "The | character signifies matching \"either, or\" between two groups.\n",
        "```\n",
        "\n"
      ],
      "metadata": {
        "id": "jgOte4UcHXl1"
      }
    },
    {
      "cell_type": "markdown",
      "source": [
        "9.In regular expressions, what does the character stand for?\n",
        "\n",
        "\n",
        "```\n",
        "Answer:\n",
        "The ? character is stand for Zero or one occurrences\n",
        "```\n",
        "\n"
      ],
      "metadata": {
        "id": "vudIOP_AHWkG"
      }
    },
    {
      "cell_type": "markdown",
      "source": [
        "10.In regular expressions, what is the difference between the + and * characters?\n",
        "\n",
        "\n",
        "```\n",
        "Answer:\n",
        "'+' it is stand for One or more occurrances\n",
        "'*' it is stand for Zero or more occurrances\n",
        "```\n",
        "\n"
      ],
      "metadata": {
        "id": "gr0M9RtYHVBJ"
      }
    },
    {
      "cell_type": "markdown",
      "source": [
        "11.What is the difference between {4} and {4,5} in regular expression?\n",
        "\n",
        "\n",
        "```\n",
        "Answer:\n",
        "The {4} matches exactly three instances of the preceding group. The {4,5} matches between three and five instances.\n",
        "```\n",
        "\n"
      ],
      "metadata": {
        "id": "tDdFYNGXHTzl"
      }
    },
    {
      "cell_type": "markdown",
      "source": [
        "12.What do you mean by the \\d, \\w, and \\s shorthand character classes signify in regular\n",
        "expressions?\n",
        "\n",
        "\n",
        "```\n",
        "Answer:\n",
        "The \\d, \\w, and \\s shorthand character classes match a single digit, word, \n",
        "or space character, respectively.\n",
        "```\n",
        "\n"
      ],
      "metadata": {
        "id": "I9Xcvi6HHSsu"
      }
    },
    {
      "cell_type": "markdown",
      "source": [
        "13.What do means by \\D, \\W, and \\S shorthand character classes signify in regular expressions?\n",
        "\n",
        "\n",
        "```\n",
        "Answer:\n",
        "The \\D, \\W, and \\S shorthand character classes match a single character\n",
        " that is not a digit, word, or space character, respectively.\n",
        "```\n",
        "\n"
      ],
      "metadata": {
        "id": "vAx5pmtdHRBE"
      }
    },
    {
      "cell_type": "markdown",
      "source": [
        "14.What is the difference between .\\*? and .*?\n",
        "\n",
        "\n",
        "\n",
        "\n",
        "```\n",
        "Both characters are looking like same\n",
        "```\n",
        "\n",
        "\n",
        "\n"
      ],
      "metadata": {
        "id": "7GsrYQssHPtR"
      }
    },
    {
      "cell_type": "markdown",
      "source": [
        "15.What is the syntax for matching both numbers and lowercase letters with a character class?\n",
        "\n",
        "\n",
        "```\n",
        "Answer:\n",
        "Either [0-9a-z] or [a-z0-9]\n",
        "```\n",
        "\n"
      ],
      "metadata": {
        "id": "RKSRCxV0HOJ7"
      }
    },
    {
      "cell_type": "markdown",
      "source": [
        "16.What is the procedure for making a normal expression in regax case insensitive?\n",
        "\n",
        "\n",
        "```\n",
        "Answer:\n",
        "Passing re.I or re.IGNORECASE as the second argument to re.compile() \n",
        "will make the matching case insensitive.\n",
        "```\n",
        "\n"
      ],
      "metadata": {
        "id": "aSlrRxqdHMJk"
      }
    },
    {
      "cell_type": "markdown",
      "source": [
        "17.What does the . character normally match? What does it match if re.DOTALL is passed as 2nd\n",
        "argument in re.compile()?\n",
        "\n",
        "\n",
        "```\n",
        "Answer:\n",
        "The . character normally matches any character except the newline character. \n",
        "If re.DOTALL is passed as the second argument to re.compile(), then the dot will also match newline characters.\n",
        "```\n",
        "\n"
      ],
      "metadata": {
        "id": "lvrPOSz8HJhy"
      }
    },
    {
      "cell_type": "markdown",
      "source": [
        "18.If numReg = re.compile(r&#39;\\d+&#39;), what will numRegex.sub(&#39;X&#39;, &#39;11 drummers, 10 pipers, five rings, 4\n",
        "hen&#39;) return?\n",
        "\n",
        "\n",
        "```\n",
        "Answer:\n",
        "'X drummers, X pipers, five rings, X hen'\n",
        "```\n",
        "\n"
      ],
      "metadata": {
        "id": "h9XRMaSoHFYM"
      }
    },
    {
      "cell_type": "markdown",
      "source": [
        "19.What does passing re.VERBOSE as the 2nd argument to re.compile() allow to do?\n",
        "\n",
        "\n",
        "```\n",
        "Answer:\n",
        "The re.VERBOSE argument allows you to add whitespace and comments to the string passed to re.compile().\n",
        "```\n",
        "\n"
      ],
      "metadata": {
        "id": "ZlMWffOoHDpM"
      }
    },
    {
      "cell_type": "markdown",
      "source": [
        "20.How would you write a regex that match a number with comma for every three digits? \n",
        "It must match the given following:\n",
        "\n",
        "&#39;42&#39;\n",
        "\n",
        "&#39;1,234&#39;\n",
        "\n",
        "&#39;6,368,745&#39;\n",
        "\n",
        "but not the following:\n",
        "\n",
        "&#39;12,34,567&#39; (which has only two digits between the commas)\n",
        "\n",
        "&#39;1234&#39; (which lacks commas)\n",
        "\n",
        "\n",
        "```\n",
        "Answer:\n",
        "re.compile(r'^\\d{1,3}(,\\d{3})*$') will create this regex.\n",
        "```\n",
        "\n"
      ],
      "metadata": {
        "id": "NC4vk_QZGsmA"
      }
    },
    {
      "cell_type": "markdown",
      "source": [
        "21.How would you write a regex that matches the full name of someone whose last name is\n",
        "Watanabe? You can assume that the first name that comes before it will always be one word that\n",
        "begins with a capital letter. \n",
        "The regex must match the following:\n",
        "\n",
        "&#39;Haruto Watanabe&#39;\n",
        "\n",
        "&#39;Alice Watanabe&#39;\n",
        "\n",
        "&#39;RoboCop Watanabe&#39;\n",
        "\n",
        "but not the following:\n",
        "\n",
        "&#39;haruto Watanabe&#39; (where the first name is not capitalized)\n",
        "\n",
        "&#39;Mr. Watanabe&#39; (where the preceding word has a nonletter character)\n",
        "\n",
        "&#39;Watanabe&#39; (which has no first name)\n",
        "\n",
        "&#39;Haruto watanabe&#39; (where Watanabe is not capitalized)\n",
        "\n",
        "\n",
        "```\n",
        "Answer:\n",
        "re.compile(r'[A-Z][a-z]*\\sWatanabe')\n",
        "```\n",
        "\n"
      ],
      "metadata": {
        "id": "K3cS1uKdGcvZ"
      }
    },
    {
      "cell_type": "markdown",
      "source": [
        "22.How would you write a regex that matches a sentence where the first word is either Alice, Bob,\n",
        "or Carol; the second word is either eats, pets, or throws; the third word is apples, cats, or baseballs;\n",
        "and the sentence ends with a period? This regex should be case-insensitive. \n",
        "\n",
        "It must match the following:\n",
        "\n",
        "&#39;Alice eats apples.&#39;\n",
        "\n",
        "&#39;Bob pets cats.&#39;\n",
        "\n",
        "&#39;Carol throws baseballs.&#39;\n",
        "\n",
        "&#39;Alice throws Apples.&#39;\n",
        "\n",
        "&#39;BOB EATS CATS.&#39;\n",
        "\n",
        "but not the following:\n",
        "\n",
        "&#39;RoboCop eats apples.&#39;\n",
        "\n",
        "&#39;ALICE THROWS FOOTBALLS.&#39;\n",
        "\n",
        "&#39;Carol eats 7 cats.&#39;\n",
        "\n",
        "\n",
        "```\n",
        "Answer:\n",
        "re.compile(r'(Alice|Bob|Carol)\\s(eats|pets|throws)\\s(apples|cats|baseballs)\\.', re.IGNORECASE)\n",
        "```\n",
        "\n"
      ],
      "metadata": {
        "id": "y42I8zfqGTnC"
      }
    }
  ]
}