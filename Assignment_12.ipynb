{
  "nbformat": 4,
  "nbformat_minor": 0,
  "metadata": {
    "colab": {
      "provenance": [],
      "authorship_tag": "ABX9TyMexD2k3Rhq5hiucP0ry//v",
      "include_colab_link": true
    },
    "kernelspec": {
      "name": "python3",
      "display_name": "Python 3"
    },
    "language_info": {
      "name": "python"
    }
  },
  "cells": [
    {
      "cell_type": "markdown",
      "metadata": {
        "id": "view-in-github",
        "colab_type": "text"
      },
      "source": [
        "<a href=\"https://colab.research.google.com/github/kalyangorjana/Assignmensts/blob/main/Assignment_12.ipynb\" target=\"_parent\"><img src=\"https://colab.research.google.com/assets/colab-badge.svg\" alt=\"Open In Colab\"/></a>"
      ]
    },
    {
      "cell_type": "markdown",
      "source": [
        "1.In what modes should the PdfFileReader() and PdfFileWriter() File objects will be opened?\n",
        "\n",
        "\n",
        "```\n",
        "Answer:\n",
        "In \"PyPDF2\" we can open the PdfFileReader() and PdfFileWriter() File objects.\n",
        "These files will be opened in binary mode., read binary (rb) for PdfFileREader() and write binary (wb) PdfFileWriter()\n",
        "```\n",
        "\n"
      ],
      "metadata": {
        "id": "UogKEivHqr6b"
      }
    },
    {
      "cell_type": "markdown",
      "source": [
        "2.From a PdfFileReader object, how do you get a Page object for page 5?\n",
        "\n",
        "\n",
        "```\n",
        "Answer:\n",
        "we can create an object of PageObject class of PyPDF2 module. PDF reader object has function getPage() which takes page \n",
        "number (starting from index 0) as argument and returns the page object. \n",
        "\n",
        "To get the Page object for page 5 we use,\n",
        "pageObj = pdfReader.getPage(4)\n",
        "```\n",
        "\n"
      ],
      "metadata": {
        "id": "kN9gQCC0rgzi"
      }
    },
    {
      "cell_type": "markdown",
      "source": [
        "3.What PdfFileReader variable stores the number of pages in the PDF document?\n",
        "\n",
        "\n",
        "```\n",
        "Answer:\n",
        "numPages property gives the number of pages in the PDF file.\n",
        "Example:\n",
        "print(pdfReader.numPages)\n",
        "```\n",
        "\n"
      ],
      "metadata": {
        "id": "3l4jbkZtreVO"
      }
    },
    {
      "cell_type": "markdown",
      "source": [
        "4.If a PdfFileReader object’s PDF is encrypted with the password swordfish, what must you do\n",
        "before you can obtain Page objects from it?\n",
        "\n",
        "\n",
        "```\n",
        "Answer:\n",
        "Before we obtain the page object, the pdf has to be decrypted by calling .decrypt('swordfish')\n",
        "```\n",
        "\n",
        "\n",
        "\n"
      ],
      "metadata": {
        "id": "QbVtgpsXrcY5"
      }
    },
    {
      "cell_type": "markdown",
      "source": [
        "5.What methods do you use to rotate a page?\n",
        "\n",
        "\n",
        "```\n",
        "Answer:\n",
        "pageObj.rotateClockwise(180)\n",
        "The rotateClockwise() and rotateCounterClockwise() methods. The degrees to rotate is passed as an integer argument\n",
        "```\n",
        "\n"
      ],
      "metadata": {
        "id": "ACTUfq_XrZrn"
      }
    },
    {
      "cell_type": "markdown",
      "source": [
        "6.What is the difference between a Run object and a Paragraph object?\n",
        "\n",
        "\n",
        "```\n",
        "Answer:\n",
        "Paragraph Object :A document contains multiple paragraphs. A paragraph begins on a new line and contains multiple\n",
        "runs. The Document object contains a list of Paragraph objects for the paragraphs in the document. (A new paragraph \n",
        "begins whenever the user presses ENTER or RETURN while typing in a Word document.)\n",
        "\n",
        "Run Objects : Runs are contiguous groups of characters within a paragraph with the same style\n",
        "```\n",
        "\n"
      ],
      "metadata": {
        "id": "fQrcjhmJrAS9"
      }
    },
    {
      "cell_type": "markdown",
      "source": [
        "7.How do you obtain a list of Paragraph objects for a Document object that’s stored in a variable\n",
        "named doc?"
      ],
      "metadata": {
        "id": "KKRIggPwq-cO"
      }
    },
    {
      "cell_type": "code",
      "source": [
        "import docx\n",
        "doc = docx.Document('files/sample.docx')\n",
        "doc.paragraphs"
      ],
      "metadata": {
        "id": "RbriFLGGtyFn"
      },
      "execution_count": null,
      "outputs": []
    },
    {
      "cell_type": "markdown",
      "source": [
        "8.What type of object has bold, underline, italic, strike, and outline variables?\n",
        "\n",
        "\n",
        "```\n",
        "Answer:\n",
        "A Run object has bold, underline,italic,strike and outline variables\n",
        "```\n",
        "\n"
      ],
      "metadata": {
        "id": "KHgVg2f-q8Hy"
      }
    },
    {
      "cell_type": "markdown",
      "source": [
        "9.What is the difference between False, True, and None for the bold variable?\n",
        "\n",
        "\n",
        "```\n",
        "Answer:\n",
        "True (the attribute is always enabled, no matter what other styles are applied to the run)\n",
        "False (the attribute is always disabled)\n",
        "None (defaults to whatever the run’s style is set to)\n",
        "```\n",
        "\n"
      ],
      "metadata": {
        "id": "qcVLpnZCq6gk"
      }
    },
    {
      "cell_type": "markdown",
      "source": [
        "10.How do you create a Document object for a new Word document?\n",
        "\n",
        "\n",
        "```\n",
        "Answer:\n",
        "By Calling the docx.Document() function.\n",
        "```\n",
        "\n"
      ],
      "metadata": {
        "id": "vLwlZMIPq4Ww"
      }
    },
    {
      "cell_type": "markdown",
      "source": [
        "11.How do you add a paragraph with the text &#39;Hello, there!&#39; to a Document object stored in a\n",
        "variable named doc?"
      ],
      "metadata": {
        "id": "k3ApNCJWq2bH"
      }
    },
    {
      "cell_type": "code",
      "source": [
        "import docx\n",
        "doc = docx.Document()\n",
        "\n",
        "doc.add_paragraph('Hello there!')\n",
        "doc.save('files/sample1.docx')"
      ],
      "metadata": {
        "id": "2AkHCr-suxem"
      },
      "execution_count": null,
      "outputs": []
    },
    {
      "cell_type": "markdown",
      "source": [
        "12.What integers represent the levels of headings available in Word documents?\n",
        "\n",
        "\n",
        "```\n",
        "Answer:\n",
        "integer from 0 to 4\n",
        "The arguments to add_heading() are a string of the heading text and an integer from 0 to 4.\n",
        "```\n",
        "\n"
      ],
      "metadata": {
        "id": "jDxv_iM_qzSs"
      }
    }
  ]
}