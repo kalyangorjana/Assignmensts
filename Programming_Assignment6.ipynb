{
  "nbformat": 4,
  "nbformat_minor": 0,
  "metadata": {
    "colab": {
      "provenance": [],
      "collapsed_sections": [],
      "authorship_tag": "ABX9TyNI7P7dNcsagJC8kpVj2Mxl",
      "include_colab_link": true
    },
    "kernelspec": {
      "name": "python3",
      "display_name": "Python 3"
    },
    "language_info": {
      "name": "python"
    }
  },
  "cells": [
    {
      "cell_type": "markdown",
      "metadata": {
        "id": "view-in-github",
        "colab_type": "text"
      },
      "source": [
        "<a href=\"https://colab.research.google.com/github/kalyangorjana/Assignmensts/blob/main/Programming_Assignment6.ipynb\" target=\"_parent\"><img src=\"https://colab.research.google.com/assets/colab-badge.svg\" alt=\"Open In Colab\"/></a>"
      ]
    },
    {
      "cell_type": "markdown",
      "source": [
        "1.Write a Python Program to Display Fibonacci Sequence Using Recursion?\n",
        "\n",
        "\n",
        "```\n",
        "Answer:\n",
        "  nterms = int(input(\"How many terms: \"))  \n",
        "\n",
        "  def fib(n):\n",
        "    if n <= 1:\n",
        "      return n\n",
        "    else:\n",
        "      return fib(n-1) + fib(n-2)\n",
        "  for i in range(nterms):\n",
        "    print(fib(i))\n",
        "\n",
        "```\n",
        "\n"
      ],
      "metadata": {
        "id": "Ob8Q5969clxO"
      }
    },
    {
      "cell_type": "markdown",
      "source": [
        "2.Write a Python Program to Find Factorial of Number Using Recursion?\n",
        "\n",
        "\n",
        "```\n",
        "Answer:\n",
        "  def fact(n):\n",
        "    if n == 1 or n == 0:\n",
        "      return 1\n",
        "    else:\n",
        "      return n * fact(n-1)\n",
        "  n = int(input(\"Enter a Number : \"))\n",
        "  print(f\"Factorial of give number : {fact(n)}\")\n",
        "```\n",
        "\n"
      ],
      "metadata": {
        "id": "mL7eBVs0clsB"
      }
    },
    {
      "cell_type": "markdown",
      "source": [
        "3.Write a Python Program to calculate your Body Mass Index?\n",
        "\n",
        "\n",
        "```\n",
        "Answer:\n",
        "  weight = float(input(\"Enter you weight (In Kgs) :\"))\n",
        "  height = float(input(\"Enter you Height (In Meters) :\"))\n",
        "  print(f\"Your Body Mass Index is {weight/(height ** 2)}\")\n",
        "```\n",
        "\n"
      ],
      "metadata": {
        "id": "L5QlU_CPcliY"
      }
    },
    {
      "cell_type": "markdown",
      "source": [
        "4.Write a Python Program to calculate the natural logarithm of any number?\n",
        "\n",
        "\n",
        "```\n",
        "Answer:\n",
        "  import math\n",
        "  value = math.log(int(input(\"Enter a number: \")))\n",
        "  print(f\"log value of the given number : {value}\")\n",
        "```\n",
        "\n"
      ],
      "metadata": {
        "id": "N7TswPX-clbW"
      }
    },
    {
      "cell_type": "markdown",
      "source": [
        "5.Write a Python Program for cube sum of first n natural numbers?\n",
        "\n",
        "\n",
        "```\n",
        "Answer:\n",
        "  n = int(input(\"Enter the n value: \"))\n",
        "  sum = int(((n * (n+1))/2)**2)\n",
        "  print(f\"The cube sum of the {n} natual numbers is {sum}\")\n",
        "```\n",
        "\n"
      ],
      "metadata": {
        "id": "K1fYfSRXclTS"
      }
    }
  ]
}