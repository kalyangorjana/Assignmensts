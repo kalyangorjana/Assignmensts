{
  "nbformat": 4,
  "nbformat_minor": 0,
  "metadata": {
    "colab": {
      "provenance": [],
      "authorship_tag": "ABX9TyOrIHweDtBgrTuWmb13k/md",
      "include_colab_link": true
    },
    "kernelspec": {
      "name": "python3",
      "display_name": "Python 3"
    },
    "language_info": {
      "name": "python"
    }
  },
  "cells": [
    {
      "cell_type": "markdown",
      "metadata": {
        "id": "view-in-github",
        "colab_type": "text"
      },
      "source": [
        "<a href=\"https://colab.research.google.com/github/kalyangorjana/Assignmensts/blob/main/Assignment_5.ipynb\" target=\"_parent\"><img src=\"https://colab.research.google.com/assets/colab-badge.svg\" alt=\"Open In Colab\"/></a>"
      ]
    },
    {
      "cell_type": "markdown",
      "source": [
        "1.What does an empty dictionary&#39;s code look like?\n",
        "\n",
        "\n",
        "```\n",
        "Answer:\n",
        " The empty dictionary is code look like:\n",
        "  d = {}\n",
        "```\n",
        "\n"
      ],
      "metadata": {
        "id": "uYfwHc8Assaa"
      }
    },
    {
      "cell_type": "markdown",
      "source": [
        "2.What is the value of a dictionary value with the key &#39;foo&#39; and the value 42?\n",
        "\n",
        "\n",
        "```\n",
        "Answer:\n",
        "The dictionary:\n",
        "d = {'foo': 42}\n",
        "\n",
        "To get the all key values in the dictionary then we can use the values method.\n",
        "d.values()\n",
        "The output is dict_values([42])\n",
        "\n",
        "To get the value of the specific key then we can use the key.\n",
        "d['foo']\n",
        "```\n",
        "\n"
      ],
      "metadata": {
        "id": "Zj_9Z5z1ssTY"
      }
    },
    {
      "cell_type": "markdown",
      "source": [
        "3.What is the most significant distinction between a dictionary and a list?\n",
        "\n",
        "\n",
        "```\n",
        "Answer:\n",
        "1. List is a collection of index values pairs where Dictionary is a hashed structure of key and value pairs.\n",
        "2. List is created by placing elements in [ ] separated by commas “, “,\t\n",
        "   Dictionary is created by placing elements in { } as “key”:”value”, each key value pair is separated by commas “, “.\n",
        "3.The indices of list are integers starting from 0, the keys of dictionary can be of any data type.\n",
        "```\n",
        "\n"
      ],
      "metadata": {
        "id": "YcS4bkCqssLk"
      }
    },
    {
      "cell_type": "markdown",
      "source": [
        "4.What happens if you try to access spam[&#39;foo&#39;] if spam is {&#39;bar&#39;: 100}?\n",
        "\n",
        "\n",
        "```\n",
        "Answer:\n",
        "  It will give the \"KeyError\" error\n",
        "```\n",
        "\n"
      ],
      "metadata": {
        "id": "5oUJKn_XssDP"
      }
    },
    {
      "cell_type": "markdown",
      "source": [
        "5.If a dictionary is stored in spam, what is the difference between the expressions &#39;cat&#39; in spam and\n",
        "&#39;cat&#39; in spam.keys()?\n",
        "\n",
        "\n",
        "```\n",
        "Answer:\n",
        "There is no difference. The in operator checks whether a value exists as a key in the dictionary in both ways.\n",
        "```\n",
        "\n"
      ],
      "metadata": {
        "id": "stpCr8DNsr52"
      }
    },
    {
      "cell_type": "markdown",
      "source": [
        "6.If a dictionary is stored in spam, what is the difference between the expressions &#39;cat&#39; in spam and\n",
        "&#39;cat&#39; in spam.values()?\n",
        "\n",
        "\n",
        "```\n",
        "Answer:\n",
        "The 'cat' in spam checks whether a value exists as a key in the dictionary.\n",
        "The 'cat' in spam.values() check whether a value exists in the key values.\n",
        "```\n",
        "\n",
        "\n",
        "\n"
      ],
      "metadata": {
        "id": "1RqhKY-LsrwO"
      }
    },
    {
      "cell_type": "markdown",
      "source": [
        "7.What is a shortcut for the following code?\n",
        "\n",
        "  if &#39;color&#39; not in spam:\n",
        "\n",
        "  spam[&#39;color&#39;] = &#39;black&#39;\n",
        "\n",
        "\n",
        "```\n",
        "Answer:\n",
        "spam.setdefault('color':'black')\n",
        "```\n",
        "\n"
      ],
      "metadata": {
        "id": "xUFFqfpRsrnY"
      }
    },
    {
      "cell_type": "markdown",
      "source": [
        "8.How do you &quot;pretty print&quot; dictionary values using which module and function?\n",
        "\n",
        "\n",
        "```\n",
        "Answer:\n",
        "import pprint\n",
        "dct = [ {'Name': 'kalyan', 'Age': '23', 'Country': 'India'},\n",
        "  {'Name': 'sai', 'Age': '23', 'Country': 'UK'},\n",
        "  {'Name': 'gani', 'Age': '24', 'Country': 'UK'},\n",
        "  {'Name': 'puppy', 'Age': '35', 'Country': 'USA'}\n",
        "]\n",
        "\n",
        "# printing with pprint()\n",
        "pprint.pprint(dct)\n",
        "\n",
        "#Printing with print()\n",
        "print(dct_arr)\n",
        "```\n",
        "\n"
      ],
      "metadata": {
        "id": "mp8t9YMtsrd_"
      }
    }
  ]
}