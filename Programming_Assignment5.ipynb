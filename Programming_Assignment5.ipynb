{
  "nbformat": 4,
  "nbformat_minor": 0,
  "metadata": {
    "colab": {
      "provenance": [],
      "authorship_tag": "ABX9TyNh2Fgn7xYbO0VzeXLsQ87G",
      "include_colab_link": true
    },
    "kernelspec": {
      "name": "python3",
      "display_name": "Python 3"
    },
    "language_info": {
      "name": "python"
    }
  },
  "cells": [
    {
      "cell_type": "markdown",
      "metadata": {
        "id": "view-in-github",
        "colab_type": "text"
      },
      "source": [
        "<a href=\"https://colab.research.google.com/github/kalyangorjana/Assignmensts/blob/main/Programming_Assignment5.ipynb\" target=\"_parent\"><img src=\"https://colab.research.google.com/assets/colab-badge.svg\" alt=\"Open In Colab\"/></a>"
      ]
    },
    {
      "cell_type": "markdown",
      "source": [
        "1.Write a Python Program to Find LCM?\n",
        "\n",
        "\n",
        "```\n",
        "Answer:\n",
        "  num1 = 12\n",
        "  num2 = 14\n",
        "  grater = 0\n",
        "  if num1 > num2:\n",
        "    grater = num1\n",
        "  else:\n",
        "    grater = num2\n",
        "  lcm = 0\n",
        "  while(True):\n",
        "    if grater % num1 == 0 and grater % num2 == 0:\n",
        "      lcm = grater\n",
        "      break\n",
        "    grater +=1\n",
        "  print(f\"LCM of the give number {num1} and {num2} id {lcm}\")\n",
        "```\n",
        "\n"
      ],
      "metadata": {
        "id": "9Cev9QbmHgvU"
      }
    },
    {
      "cell_type": "markdown",
      "source": [
        "2.Write a Python Program to Find HCF?\n",
        "\n",
        "\n",
        "```\n",
        "Answer:\n",
        "  num1 = 45\n",
        "  num2 = 90\n",
        "  small = 0\n",
        "  if num1 < num2:\n",
        "    small = num1\n",
        "  else:\n",
        "    small = num2\n",
        "  hcf = 0\n",
        "  for i in range(1, small+1):\n",
        "    if num1 % i == 0 and num2 % i == 0:\n",
        "      hcf = i\n",
        "  print(f\"LCM of the give number {num1} and {num2} id {hcf}\")\n",
        "  \n",
        "```\n",
        "\n"
      ],
      "metadata": {
        "id": "eR2k3wa1Hgnh"
      }
    },
    {
      "cell_type": "markdown",
      "source": [
        "3.Write a Python Program to Convert Decimal to Binary, Octal and Hexadecimal?\n",
        "\n",
        "\n",
        "```\n",
        "Answer: \n",
        "num = 15\n",
        "print(f\"The given number in Binary number is {bin(num)[2:]}\")\n",
        "print(f\"The given number in Octal number is {oct(num)[2:]}\")\n",
        "print(f\"The given number in Hexadecimal number is {hex(num)[2:]}\")\n",
        "```\n",
        "\n",
        "\n"
      ],
      "metadata": {
        "id": "V-Af1B-_Hgb-"
      }
    },
    {
      "cell_type": "markdown",
      "source": [
        "4.Write a Python Program To Find ASCII value of a character?\n",
        "\n",
        "\n",
        "```\n",
        "Answer: \n",
        "user_input = input(\"Enter the character: \")\n",
        "print(f\"ASCII value of the given character : {ord(user_input)}\")\n",
        "```\n",
        "\n"
      ],
      "metadata": {
        "id": "2nusqpOzHgUK"
      }
    },
    {
      "cell_type": "markdown",
      "source": [
        "5.Write a Python Program to Make a Simple Calculator with 4 basic mathematical operations?\n",
        "\n",
        "\n",
        "```\n",
        "Answer:\n",
        "def add(P, Q):    \n",
        "   # This function is used for adding two numbers   \n",
        "   return P + Q   \n",
        "def subtract(P, Q):   \n",
        "   # This function is used for subtracting two numbers   \n",
        "   return P - Q   \n",
        "def multiply(P, Q):   \n",
        "   # This function is used for multiplying two numbers   \n",
        "   return P * Q   \n",
        "def divide(P, Q):   \n",
        "   # This function is used for dividing two numbers    \n",
        "   return P / Q    \n",
        "# Now we will take inputs from the user    \n",
        "print (\"Please select the operation.\")    \n",
        "print (\"a. Add\")    \n",
        "print (\"b. Subtract\")    \n",
        "print (\"c. Multiply\")    \n",
        "print (\"d. Divide\")    \n",
        "    \n",
        "choice = input(\"Please enter choice (a/ b/ c/ d): \")    \n",
        "    \n",
        "num_1 = int (input (\"Please enter the first number: \"))    \n",
        "num_2 = int (input (\"Please enter the second number: \"))    \n",
        "    \n",
        "if choice == 'a':    \n",
        "   print (num_1, \" + \", num_2, \" = \", add(num_1, num_2))    \n",
        "    \n",
        "elif choice == 'b':    \n",
        "   print (num_1, \" - \", num_2, \" = \", subtract(num_1, num_2))    \n",
        "    \n",
        "elif choice == 'c':    \n",
        "   print (num_1, \" * \", num_2, \" = \", multiply(num_1, num_2))    \n",
        "elif choice == 'd':    \n",
        "   print (num_1, \" / \", num_2, \" = \", divide(num_1, num_2))    \n",
        "else:    \n",
        "   print (\"This is an invalid input\")  \n",
        "```\n",
        "\n"
      ],
      "metadata": {
        "id": "6MY8tR4sHgIH"
      }
    }
  ]
}