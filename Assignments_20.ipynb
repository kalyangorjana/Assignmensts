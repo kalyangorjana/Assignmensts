{
  "nbformat": 4,
  "nbformat_minor": 0,
  "metadata": {
    "colab": {
      "provenance": [],
      "authorship_tag": "ABX9TyMuC4T3kkrfQiXHpdbHM1Q0",
      "include_colab_link": true
    },
    "kernelspec": {
      "name": "python3",
      "display_name": "Python 3"
    },
    "language_info": {
      "name": "python"
    }
  },
  "cells": [
    {
      "cell_type": "markdown",
      "metadata": {
        "id": "view-in-github",
        "colab_type": "text"
      },
      "source": [
        "<a href=\"https://colab.research.google.com/github/kalyangorjana/Assignmensts/blob/main/Assignments_20.ipynb\" target=\"_parent\"><img src=\"https://colab.research.google.com/assets/colab-badge.svg\" alt=\"Open In Colab\"/></a>"
      ]
    },
    {
      "cell_type": "markdown",
      "source": [
        "1.Set the variable test1 to the string &#39;This is a test of the emergency text system,&#39; and save test1 to a\n",
        "file named test.txt."
      ],
      "metadata": {
        "id": "UHmXW1oWqz6-"
      }
    },
    {
      "cell_type": "code",
      "source": [
        "test1 = 'This is a test of the emergency text system'\n",
        "with open('test.txt','w') as f:\n",
        "  f.write(test1)"
      ],
      "metadata": {
        "id": "kJttm5JbrnRx"
      },
      "execution_count": null,
      "outputs": []
    },
    {
      "cell_type": "markdown",
      "source": [
        "2.Read the contents of the file test.txt into the variable test2. Is there a difference between test 1\n",
        "and test 2?"
      ],
      "metadata": {
        "id": "nxj8Dn2IrZN6"
      }
    },
    {
      "cell_type": "code",
      "source": [
        "test2 = \"\"\n",
        "with open('test.txt') as f:\n",
        "  test2 = f.read()\n",
        "  print(test2)\n",
        "\n",
        "# There is no difference between test1 and test2"
      ],
      "metadata": {
        "colab": {
          "base_uri": "https://localhost:8080/"
        },
        "id": "WslYI4tJt0qX",
        "outputId": "eb2d1228-a541-499d-a1ff-93384185edf2"
      },
      "execution_count": null,
      "outputs": [
        {
          "output_type": "stream",
          "name": "stdout",
          "text": [
            "This is a test of the emergency text system\n"
          ]
        }
      ]
    },
    {
      "cell_type": "markdown",
      "source": [
        "3.Create a CSV file called books.csv by using these lines:\n",
        "\n",
        "title,author,year\n",
        "\n",
        "The Weirdstone of Brisingamen,Alan Garner,1960\n",
        "\n",
        "Perdido Street Station,China Miéville,2000\n",
        "\n",
        "Thud!,Terry Pratchett,2005\n",
        "\n",
        "The Spellman Files,Lisa Lutz,2007\n",
        "\n",
        "Small Gods,Terry Pratchett,1992\n"
      ],
      "metadata": {
        "id": "cwaaGqS7rXHP"
      }
    },
    {
      "cell_type": "code",
      "source": [
        "data = \"\"\"title,author,year\n",
        "The Weirdstone of Brisingamen,Alan Garner,1960\n",
        "Perdido Street Station,China Miéville,2000\n",
        "Thud!,Terry Pratchett,2005\n",
        "The Spellman Files,Lisa Lutz,2007\n",
        "Small Gods,Terry Pratchett,1992\"\"\"\n",
        "with open('books.csv','w') as f:\n",
        "  f.write(data)"
      ],
      "metadata": {
        "id": "Ple651wUvYfB"
      },
      "execution_count": null,
      "outputs": []
    },
    {
      "cell_type": "markdown",
      "source": [
        "4.Use the sqlite3 module to create a SQLite database called books.db, and a table called books with\n",
        "these fields: title (text), author (text), and year (integer)."
      ],
      "metadata": {
        "id": "DZ0SwW38rUBE"
      }
    },
    {
      "cell_type": "code",
      "source": [
        "import sqlite3\n",
        "conn = sqlite3.connect('books.db')\n",
        "cursor = conn.cursor()\n",
        "table = \"\"\"CREATE TABLE books(title TEXT, author TEXT,\n",
        "year INTEGER);\"\"\"\n",
        "\n",
        "cursor.execute(table)"
      ],
      "metadata": {
        "colab": {
          "base_uri": "https://localhost:8080/"
        },
        "id": "577B1TVXymub",
        "outputId": "c7afbbc1-23c2-428d-e903-78fc22208e64"
      },
      "execution_count": null,
      "outputs": [
        {
          "output_type": "execute_result",
          "data": {
            "text/plain": [
              "<sqlite3.Cursor at 0x7f8bffa08f80>"
            ]
          },
          "metadata": {},
          "execution_count": 5
        }
      ]
    },
    {
      "cell_type": "markdown",
      "source": [
        "5.Read books.csv and insert its data into the book table."
      ],
      "metadata": {
        "id": "2DpB58u-rRGJ"
      }
    },
    {
      "cell_type": "code",
      "source": [
        "import csv\n",
        "\n",
        "file = open('books.csv')\n",
        "contents = csv.DictReader(file)\n",
        "to_db = [(i['title'], i['author'],i['year']) for i in contents]\n",
        "insert_records = \"INSERT INTO books (title, author,year) VALUES(?, ?, ?)\"\n",
        "cursor.executemany(insert_records, to_db)\n",
        "file.close()"
      ],
      "metadata": {
        "id": "KlBEa0MD113m"
      },
      "execution_count": null,
      "outputs": []
    },
    {
      "cell_type": "markdown",
      "source": [
        "6.Select and print the title column from the book table in alphabetical order."
      ],
      "metadata": {
        "id": "UR7S144KrOuQ"
      }
    },
    {
      "cell_type": "code",
      "source": [
        "query = \"SELECT title FROM books ORDER BY title\"\n",
        "row = cursor.execute(query)\n",
        "for i in row:\n",
        "  print(i)"
      ],
      "metadata": {
        "colab": {
          "base_uri": "https://localhost:8080/"
        },
        "id": "94bdlmur6m1U",
        "outputId": "d1c1d8c3-a4a9-4f76-f762-ec7911caa305"
      },
      "execution_count": null,
      "outputs": [
        {
          "output_type": "stream",
          "name": "stdout",
          "text": [
            "('Perdido Street Station',)\n",
            "('Small Gods',)\n",
            "('The Spellman Files',)\n",
            "('The Weirdstone of Brisingamen',)\n",
            "('Thud!',)\n"
          ]
        }
      ]
    },
    {
      "cell_type": "markdown",
      "source": [
        "7.From the book table, select and print all columns in the order of publication."
      ],
      "metadata": {
        "id": "eGB4QcymrMfE"
      }
    },
    {
      "cell_type": "code",
      "source": [
        "query = \"SELECT * FROM books ORDER BY year\"\n",
        "row = cursor.execute(query)\n",
        "for i in row:\n",
        "  print(i)"
      ],
      "metadata": {
        "colab": {
          "base_uri": "https://localhost:8080/"
        },
        "id": "vSmlKPv47pI5",
        "outputId": "c3b1c559-5721-4e5e-d45c-e20ceb866ff4"
      },
      "execution_count": null,
      "outputs": [
        {
          "output_type": "stream",
          "name": "stdout",
          "text": [
            "('The Weirdstone of Brisingamen', 'Alan Garner', 1960)\n",
            "('Small Gods', 'Terry Pratchett', 1992)\n",
            "('Perdido Street Station', 'China Miéville', 2000)\n",
            "('Thud!', 'Terry Pratchett', 2005)\n",
            "('The Spellman Files', 'Lisa Lutz', 2007)\n"
          ]
        }
      ]
    },
    {
      "cell_type": "markdown",
      "source": [
        "8.Use the sqlalchemy module to connect to the sqlite3 database books.db that you just made in\n",
        "exercise 6."
      ],
      "metadata": {
        "id": "czWMSXE1rD-F"
      }
    },
    {
      "cell_type": "code",
      "source": [
        "import sqlalchemy\n",
        "engine = sqlalchemy.create_engine(\"sqlite:///books.db\")\n",
        "rows = engine.execute('select * from books')\n",
        "for i in rows:\n",
        "    print(i)"
      ],
      "metadata": {
        "id": "mvJfryd-gy_w"
      },
      "execution_count": null,
      "outputs": []
    },
    {
      "cell_type": "markdown",
      "source": [
        "9.Install the Redis server and the Python redis library (pip install redis) on your computer. Create a\n",
        "Redis hash called test with the fields count (1) and name (&#39;Fester Bestertester&#39;). Print all the fields for\n",
        "test."
      ],
      "metadata": {
        "id": "9W4uage8rAPx"
      }
    },
    {
      "cell_type": "code",
      "source": [
        "!pip install redis"
      ],
      "metadata": {
        "colab": {
          "base_uri": "https://localhost:8080/"
        },
        "id": "ADpCIWUyi2a8",
        "outputId": "805451bd-1733-420c-b329-5bbe48956cf0"
      },
      "execution_count": null,
      "outputs": [
        {
          "output_type": "stream",
          "name": "stdout",
          "text": [
            "Looking in indexes: https://pypi.org/simple, https://us-python.pkg.dev/colab-wheels/public/simple/\n",
            "Requirement already satisfied: redis in /usr/local/lib/python3.8/dist-packages (4.4.0)\n",
            "Requirement already satisfied: async-timeout>=4.0.2 in /usr/local/lib/python3.8/dist-packages (from redis) (4.0.2)\n"
          ]
        }
      ]
    },
    {
      "cell_type": "code",
      "source": [
        "import redis\n",
        "conn = redis.Redis()\n",
        "conn.delete('test')\n",
        "conn.hmset('test', {'count': 1, 'name': 'Fester Bestertester'})\n",
        "conn.hgetall('test')"
      ],
      "metadata": {
        "id": "2DydMpIxi8_j"
      },
      "execution_count": null,
      "outputs": []
    },
    {
      "cell_type": "markdown",
      "source": [
        "10.Increment the count field of test and print it."
      ],
      "metadata": {
        "id": "b6y0h2Nvq9MX"
      }
    },
    {
      "cell_type": "code",
      "source": [
        "conn.hincrby('test','count', 3)"
      ],
      "metadata": {
        "id": "QMTEaT0TkdLP"
      },
      "execution_count": null,
      "outputs": []
    }
  ]
}