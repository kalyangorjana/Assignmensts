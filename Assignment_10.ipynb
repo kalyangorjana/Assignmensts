{
  "nbformat": 4,
  "nbformat_minor": 0,
  "metadata": {
    "colab": {
      "provenance": [],
      "authorship_tag": "ABX9TyMtL1r09Cdg+OMugElpc74B",
      "include_colab_link": true
    },
    "kernelspec": {
      "name": "python3",
      "display_name": "Python 3"
    },
    "language_info": {
      "name": "python"
    }
  },
  "cells": [
    {
      "cell_type": "markdown",
      "metadata": {
        "id": "view-in-github",
        "colab_type": "text"
      },
      "source": [
        "<a href=\"https://colab.research.google.com/github/kalyangorjana/Assignmensts/blob/main/Assignment_10.ipynb\" target=\"_parent\"><img src=\"https://colab.research.google.com/assets/colab-badge.svg\" alt=\"Open In Colab\"/></a>"
      ]
    },
    {
      "cell_type": "markdown",
      "source": [
        "1.How do you distinguish between shutil.copy() and shutil.copytree()?\n",
        "\n",
        "\n",
        "```\n",
        "Answer:\n",
        "shutil.copy() method in Python is used to copy the content of the source file to the destination file or directory. \n",
        "It also preserves the file’s permission mode but other metadata of the file like the file’s creation and modification \n",
        "times is not preserved.\n",
        "shutil.copytree() method recursively copies an entire directory tree rooted at source (src) to the destination directory. \n",
        "The destination directory, named by (dst) must not already exist.\n",
        "```\n",
        "\n"
      ],
      "metadata": {
        "id": "dBoz7g69Nxk6"
      }
    },
    {
      "cell_type": "markdown",
      "source": [
        "2.What function is used to rename files??\n",
        "\n",
        "\n",
        "```\n",
        "Answer:\n",
        "We use os.rename(source, dest) to rename files\n",
        "```\n",
        "\n"
      ],
      "metadata": {
        "id": "bR9x20vON8ew"
      }
    },
    {
      "cell_type": "markdown",
      "source": [
        "3.What is the difference between the delete functions in the send2trash and shutil modules?\n",
        "\n",
        "\n",
        "```\n",
        "Answer:\n",
        "The send2trash functions will move a file or folder to the recycle bin, while shutil functions will \n",
        "permanently delete files and folders.\n",
        "```\n",
        "\n"
      ],
      "metadata": {
        "id": "xMKGZn63N7F4"
      }
    },
    {
      "cell_type": "markdown",
      "source": [
        "4.ZipFile objects have a close() method just like File objects’ close() method. What ZipFile method is\n",
        "equivalent to File objects’ open() method?\n",
        "\n",
        "\n",
        "```\n",
        "Answer:\n",
        "ZipFile() function is equivalent to the open() function; the first argument is the filename, and the second argument is \n",
        "the mode to open the ZIP file in (read, write, or append).\n",
        "```\n",
        "\n",
        "\n"
      ],
      "metadata": {
        "id": "rvOC449DN3cK"
      }
    },
    {
      "cell_type": "markdown",
      "source": [
        "5.Create a programme that searches a folder tree for files with a certain file extension (such as .pdf\n",
        "or .jpg). Copy these files from whatever location they are in to a new folder.\n",
        "\n",
        "\n",
        "```\n",
        "Answer:\n",
        "  source = \"Temp_1\"\n",
        "  destination = \"Temp_3\"\n",
        "  dest = shutil.copytree(source, destination)\n",
        "  print(f\"Destination Directory: {dest}\")\n",
        "```\n",
        "\n"
      ],
      "metadata": {
        "id": "Qb_Cm0YmN1mN"
      }
    }
  ]
}