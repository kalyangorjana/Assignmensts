{
  "nbformat": 4,
  "nbformat_minor": 0,
  "metadata": {
    "colab": {
      "provenance": [],
      "authorship_tag": "ABX9TyM5+M9nDmjFhh1UgbMuRCM+",
      "include_colab_link": true
    },
    "kernelspec": {
      "name": "python3",
      "display_name": "Python 3"
    },
    "language_info": {
      "name": "python"
    }
  },
  "cells": [
    {
      "cell_type": "markdown",
      "metadata": {
        "id": "view-in-github",
        "colab_type": "text"
      },
      "source": [
        "<a href=\"https://colab.research.google.com/github/kalyangorjana/Assignmensts/blob/main/Assignemnt_24.ipynb\" target=\"_parent\"><img src=\"https://colab.research.google.com/assets/colab-badge.svg\" alt=\"Open In Colab\"/></a>"
      ]
    },
    {
      "cell_type": "markdown",
      "source": [
        "1.What is the relationship between def statements and lambda expressions ?\n",
        "\n",
        "\n",
        "```\n",
        "Answer:\n",
        "def statement:Keyword def that marks the start of the function header. A function name to uniquely identify the function.\n",
        "Function naming follows the same rules of writing identifiers in Python\n",
        "\n",
        "Lambdas:Lambdas are one-line methods without a name or we can say anonymous Function.\n",
        "They work practically the same as any other method in Python Lambdas differ from normal Python methods because \n",
        "they can have only one expression, can't contain any statements and their return type is a function object\n",
        "```\n",
        "\n"
      ],
      "metadata": {
        "id": "ljUI3JvGtpt3"
      }
    },
    {
      "cell_type": "markdown",
      "source": [
        "2.What is the benefit of lambda?\n",
        "\n",
        "\n",
        "```\n",
        "Answer:\n",
        "Lambda functions are inline functions and thus execute comparatively faster Many times. \n",
        "lambda functions make code much more readable by avoiding the logical jumps caused by function calls\n",
        "```\n",
        "\n"
      ],
      "metadata": {
        "id": "pUhzNfrdt5gi"
      }
    },
    {
      "cell_type": "markdown",
      "source": [
        "3.Compare and contrast map, filter, and reduce.\n",
        "\n",
        "\n",
        "```\n",
        "Map:map applies as a transformation to an element.\n",
        "The map() function iterates through all items in the given iterable and executes the function we passed as an argument on \n",
        "each of them. Syntax : map(function, iterable(s))\n",
        "\n",
        "filter:filter accumulates only elements matching a condition.\n",
        "filter() forms a new list that contains only elements that satisfy a certain condition, i.e. the function we passed returns \n",
        "True Syntax : filter(function, iterable(s))\n",
        "\n",
        "reduce:reduce accumulates all elements to a single value, by using immutable values\n",
        "reduce() works by calling the function we passed for the first two items in the sequence. The result returned by the function is \n",
        "used in another call to function alongside with the next (third in this case), element Syntax : reduce(function, sequence[, initial])\n",
        "```\n",
        "\n"
      ],
      "metadata": {
        "id": "N1oy4U_it37t"
      }
    },
    {
      "cell_type": "code",
      "source": [
        "## Map\n",
        "num = [23,45,72,66,49,66]\n",
        "map_1 = map(lambda i:i<50,num)\n",
        "for i in map_1:\n",
        "  print(i)"
      ],
      "metadata": {
        "colab": {
          "base_uri": "https://localhost:8080/"
        },
        "id": "d2DaJldRv1sT",
        "outputId": "8d67f3f1-a8c6-46c5-f7b0-e4e3765a0ed2"
      },
      "execution_count": 3,
      "outputs": [
        {
          "output_type": "stream",
          "name": "stdout",
          "text": [
            "True\n",
            "True\n",
            "False\n",
            "False\n",
            "True\n",
            "False\n"
          ]
        }
      ]
    },
    {
      "cell_type": "code",
      "source": [
        "## filter\n",
        "num = [23,45,72,66,49,66]\n",
        "fil = filter(lambda i:i<50,num)\n",
        "for i in fil:\n",
        "  print(i)"
      ],
      "metadata": {
        "colab": {
          "base_uri": "https://localhost:8080/"
        },
        "id": "iAyy6-pLxG_b",
        "outputId": "3db18545-42e4-4796-fd93-245f60c9fb4b"
      },
      "execution_count": 4,
      "outputs": [
        {
          "output_type": "stream",
          "name": "stdout",
          "text": [
            "23\n",
            "45\n",
            "49\n"
          ]
        }
      ]
    },
    {
      "cell_type": "code",
      "source": [
        "### Reduce function\n",
        "from functools import reduce\n",
        "\n",
        "list = [4, 3, 8, 3]\n",
        "print(reduce(lambda x, y: x + y, list))\n",
        "print(\"With an initial value: \" + str(reduce(lambda x, y: x + y, list, 10)))"
      ],
      "metadata": {
        "colab": {
          "base_uri": "https://localhost:8080/"
        },
        "id": "_dmqolZnxZE4",
        "outputId": "00ffb96c-be95-4bf1-ee5d-b6389fc756be"
      },
      "execution_count": 6,
      "outputs": [
        {
          "output_type": "stream",
          "name": "stdout",
          "text": [
            "18\n",
            "With an initial value: 28\n"
          ]
        }
      ]
    },
    {
      "cell_type": "markdown",
      "source": [
        "4.What are function annotations, and how are they used?\n",
        "\n",
        "\n",
        "```\n",
        "Answer:\n",
        "Function annotation is the standard way to access the metadata with the arguments and the return value of the function.\n",
        "These are nothing but some random and optional Python expressions that get allied to different parts of the function. \n",
        "They get evaluated only during the compile-time and have no significance during the run-time of the code. \n",
        "They do not have any significance or meaning associated with them until accessed by some third-party libraries. \n",
        "They are used to type check the functions by declaring the type of the parameters and the return value for the functions. \n",
        "The string-based annotations help us to improve the help messages.\n",
        "\n",
        "Syntax :\n",
        "\n",
        "def func(a: 'int') -> 'int':\n",
        "pass\n",
        "Annotations for simple parameters:\n",
        "\n",
        "def func(x: 'float'=10.8, y: 'argument2'):\n",
        "In the above code the argument, ‘x’ of the function func, has been annotated to float data type and the argument ‘y’ has a \n",
        "string-based annotation. \n",
        "The argument can also be assigned to a default value using a ‘=’ symbol followed by the default value. \n",
        "These default values are optional to the code.\n",
        "Annotations for return values:\n",
        "\n",
        "def func(a: expression) -> 'int':\n",
        "The annotations for the return value is written after the ‘->’ symbol.\n",
        "```\n",
        "\n"
      ],
      "metadata": {
        "id": "xojALbc4t2gw"
      }
    },
    {
      "cell_type": "markdown",
      "source": [
        "5.What are recursive functions, and how are they used?\n",
        "\n",
        "\n",
        "```\n",
        "Answer:\n",
        "A recursive function is a function that calls itself during its execution.\n",
        "This means that the function will continue to call itself and repeat its behavior until some condition is met to return a result\n",
        "```\n",
        "\n"
      ],
      "metadata": {
        "id": "JZu5-WrNt1JJ"
      }
    },
    {
      "cell_type": "markdown",
      "source": [
        "6.What are some general design guidelines for coding functions?\n",
        "\n",
        "\n",
        "```\n",
        "Answer:\n",
        "Use 4-space indentation and no tabs.\n",
        "Use docstrings\n",
        "Wrap linethat they don’t exceed 79 characters\n",
        "Use of regular and updated comments are valuable to both the coders and users\n",
        "Use of trailing commas : in case of tuple -> ('good',)\n",
        "Use Python’s default UTF-8 or ASCII encodings and not any fancy encodings\n",
        "Naming Conventions\n",
        "```\n",
        "\n"
      ],
      "metadata": {
        "id": "XUQNWGAVtzyQ"
      }
    },
    {
      "cell_type": "markdown",
      "source": [
        "7.Name three or more ways that functions can communicate results to a caller.\n",
        "\n",
        "\n",
        "```\n",
        "Answer:\n",
        "1.Function can return single value\n",
        "2.Can return multiple values, tuple\n",
        "3.can return list,dictionary\n",
        "4.can return function object\n",
        "5.can return class object\n",
        "```\n",
        "\n"
      ],
      "metadata": {
        "id": "w0WQVTe9tyLe"
      }
    }
  ]
}