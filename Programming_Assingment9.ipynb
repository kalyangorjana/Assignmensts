{
  "nbformat": 4,
  "nbformat_minor": 0,
  "metadata": {
    "colab": {
      "provenance": [],
      "collapsed_sections": [],
      "authorship_tag": "ABX9TyNaOO0SgIX60DC3LCxr/2A6",
      "include_colab_link": true
    },
    "kernelspec": {
      "name": "python3",
      "display_name": "Python 3"
    },
    "language_info": {
      "name": "python"
    }
  },
  "cells": [
    {
      "cell_type": "markdown",
      "metadata": {
        "id": "view-in-github",
        "colab_type": "text"
      },
      "source": [
        "<a href=\"https://colab.research.google.com/github/kalyangorjana/Assignmensts/blob/main/Programming_Assingment9.ipynb\" target=\"_parent\"><img src=\"https://colab.research.google.com/assets/colab-badge.svg\" alt=\"Open In Colab\"/></a>"
      ]
    },
    {
      "cell_type": "markdown",
      "source": [
        "1.Write a Python program to check if the given number is a Disarium Number?\n",
        "\n",
        "\n",
        "```\n",
        "Answer:\n",
        "  number = input(\"Enter a number :\")\n",
        "  sum = 0\n",
        "  for i in number:\n",
        "    sum += int(i) ** (number.index(i)+1)\n",
        "  if sum == int(number):\n",
        "    print(\"Given number is a Disarium Number\")\n",
        "  else:\n",
        "    print(\"Given number is not a Disarium Number\")\n",
        "```\n",
        "\n",
        "\n"
      ],
      "metadata": {
        "id": "DWm80Pz9ef8g"
      }
    },
    {
      "cell_type": "markdown",
      "source": [
        "2.Write a Python program to print all disarium numbers between 1 to 100?\n",
        "\n",
        "\n",
        "```\n",
        "Answer:\n",
        "  sum = 0\n",
        "  for i in range(1,101):\n",
        "    for j in str(i):\n",
        "      sum += int(j) ** (str(i).index(j)+1)\n",
        "    if sum == i:\n",
        "      print(i)\n",
        "    sum = 0\n",
        "```\n",
        "\n"
      ],
      "metadata": {
        "id": "GvXzzg1oegDB"
      }
    },
    {
      "cell_type": "markdown",
      "source": [
        "3.Write a Python program to check if the given number is Happy Number?\n",
        "\n",
        "\n",
        "```\n",
        "Answer:\n",
        "  def numSquareSum(number):\n",
        "    sum = 0\n",
        "    for i in str(number):\n",
        "      sum += int(i) ** 2\n",
        "    return sum\n",
        "\n",
        "  value = int(input(\"Enter a number: \"))\n",
        "  n = True\n",
        "\n",
        "  while(n):\n",
        "    if value == 1:\n",
        "      print(\"The given number is happy number\")\n",
        "      n = False\n",
        "    else:\n",
        "      value = numSquareSum(value)\n",
        "```\n",
        "\n",
        "\n"
      ],
      "metadata": {
        "id": "DhxUDPLtegFo"
      }
    },
    {
      "cell_type": "markdown",
      "source": [
        "4.Write a Python program to print all happy numbers between 1 and 100?\n",
        "\n",
        "\n",
        "```\n",
        "Answer:\n",
        "def numSquareSum(number):\n",
        "    sum = 0\n",
        "    for i in str(number):\n",
        "        sum += int(i) ** 2\n",
        "    return sum\n",
        "\n",
        "for i in range(1, 101):\n",
        "    value = i\n",
        "    n = True\n",
        "    while n:\n",
        "        if value == 1:\n",
        "            print(i)\n",
        "            n = False\n",
        "        elif value == 4:\n",
        "            n = False\n",
        "        else:\n",
        "            value = numSquareSum(value)\n",
        "```\n",
        "\n",
        "\n"
      ],
      "metadata": {
        "id": "YqZGhGVyegIf"
      }
    },
    {
      "cell_type": "markdown",
      "source": [
        "5.Write a Python program to determine whether the given number is a Harshad Number?\n",
        "\n",
        "\n",
        "```\n",
        "Answer:\n",
        "  def harNum(number):\n",
        "      sum = 0\n",
        "      for i in str(number):\n",
        "        sum = sum + int(i)\n",
        "      return int(number%sum)\n",
        "\n",
        "  value = int(input(\"Enter a number: \"))\n",
        "  n = True\n",
        "  while n:\n",
        "      if value == 0:\n",
        "        print(\"The given number is harshad number\")\n",
        "        n = False\n",
        "      elif value == 1:\n",
        "        print(\"The given number is not harshad number\")\n",
        "        n = False\n",
        "      else:\n",
        "          value = harNum(value)\n",
        "```\n",
        "\n"
      ],
      "metadata": {
        "id": "cnF7jkC-egRm"
      }
    },
    {
      "cell_type": "markdown",
      "source": [
        "\n",
        "6.Write a Python program to print all pronic numbers between 1 and 100?\n",
        "\n",
        "\n",
        "```\n",
        "Answer:\n",
        "for num in range(1,101):\n",
        "  for i in range(1,num+1):\n",
        "    if i * (i+1) == num:\n",
        "      print(num)\n",
        "```\n",
        "\n"
      ],
      "metadata": {
        "id": "zho6Bxe5flHP"
      }
    }
  ]
}