{
  "nbformat": 4,
  "nbformat_minor": 0,
  "metadata": {
    "colab": {
      "provenance": [],
      "authorship_tag": "ABX9TyNB7Xq4dXIAy8aizAlwpaSZ",
      "include_colab_link": true
    },
    "kernelspec": {
      "name": "python3",
      "display_name": "Python 3"
    },
    "language_info": {
      "name": "python"
    }
  },
  "cells": [
    {
      "cell_type": "markdown",
      "metadata": {
        "id": "view-in-github",
        "colab_type": "text"
      },
      "source": [
        "<a href=\"https://colab.research.google.com/github/kalyangorjana/Assignmensts/blob/main/Assignment_11.ipynb\" target=\"_parent\"><img src=\"https://colab.research.google.com/assets/colab-badge.svg\" alt=\"Open In Colab\"/></a>"
      ]
    },
    {
      "cell_type": "markdown",
      "source": [
        "1.Create an assert statement that throws an AssertionError if the variable spam is a negative\n",
        "integer."
      ],
      "metadata": {
        "id": "pjhuJc4IxmRN"
      }
    },
    {
      "cell_type": "code",
      "source": [
        "spam = int(input(\"Enter the number:\"))\n",
        "assert spam > 0 , \"You have entered negative integer\"\n",
        "print(f\"Entered number is : {spam}\")"
      ],
      "metadata": {
        "id": "e4CXFcRNki9i"
      },
      "execution_count": null,
      "outputs": []
    },
    {
      "cell_type": "markdown",
      "source": [
        "2.Write an assert statement that triggers an AssertionError if the variables eggs and bacon contain\n",
        "strings that are the same as each other, even if their cases are different (that is, &#39;hello&#39; and &#39;hello&#39; are\n",
        "considered the same, and &#39;goodbye&#39; and &#39;GOODbye&#39; are also considered the same).\n"
      ],
      "metadata": {
        "id": "DvVL6njFyAhw"
      }
    },
    {
      "cell_type": "code",
      "source": [
        "var_1 = \"egG4\"\n",
        "var_2 = \"egg\"\n",
        "try:\n",
        "  assert var_1.lower() == var_2.lower(), \"The two variales are not equal\"\n",
        "  print(\"The two variales are equal\")\n",
        "except AssertionError as msg:\n",
        "  print(msg)\n"
      ],
      "metadata": {
        "id": "nr8r0WSDp7oi"
      },
      "execution_count": null,
      "outputs": []
    },
    {
      "cell_type": "markdown",
      "source": [
        "3.Create an assert statement that throws an AssertionError every time."
      ],
      "metadata": {
        "id": "hVRwwaoBx_Ex"
      }
    },
    {
      "cell_type": "code",
      "source": [
        "batch = [34,45,22,54,15,22,33]\n",
        "cut = 26\n",
        "for i in batch:\n",
        "    try:\n",
        "        assert i >=26, \"Batch is Rejected\"\n",
        "        print(str(i) + \"is O.K\")\n",
        "    except AssertionError as msg:\n",
        "      print(msg)"
      ],
      "metadata": {
        "id": "kBXDCqJrubXM"
      },
      "execution_count": null,
      "outputs": []
    },
    {
      "cell_type": "markdown",
      "source": [
        "4.What are the two lines that must be present in your software in order to call logging.debug()?\n",
        "\n",
        "\n",
        "```\n",
        "Answer:\n",
        "import logging\n",
        "logging.basicConfig(level = logging.DEBUG)\n",
        "```\n",
        "\n"
      ],
      "metadata": {
        "id": "doJoL78sx9EE"
      }
    },
    {
      "cell_type": "markdown",
      "source": [
        "5.What are the two lines that your program must have in order to have logging.debug() send a\n",
        "logging message to a file named programLog.txt?\n",
        "\n",
        "\n",
        "```\n",
        "Answer:\n",
        "improt logging\n",
        "logging.basicConfig(filename='programLog.txt', filemode='w', format='%(name)s - %(levelname)s - %(message)s')\n",
        "logging.warning('This will get logged to a file')\n",
        "```\n",
        "\n",
        "\n"
      ],
      "metadata": {
        "id": "ezttYo9tx7rU"
      }
    },
    {
      "cell_type": "markdown",
      "source": [
        "6.What are the five levels of logging?\n",
        "\n",
        "\n",
        "```\n",
        "Answer:\n",
        "The defined levels, in order of increasing severity, are the following:\n",
        "    --DEBUG\n",
        "    --INFO\n",
        "    --WARNING\n",
        "    --ERROR\n",
        "    --CRITICAL\n",
        "```\n",
        "\n"
      ],
      "metadata": {
        "id": "fv-Cbe9Gx6OW"
      }
    },
    {
      "cell_type": "markdown",
      "source": [
        "7.What line of code would you add to your software to disable all logging messages?\n",
        "\n",
        "\n",
        "```\n",
        "Answer:\n",
        "logging.disable(logging.DEBUG)\n",
        "```\n",
        "\n"
      ],
      "metadata": {
        "id": "zK9rgfMBx4JZ"
      }
    },
    {
      "cell_type": "markdown",
      "source": [
        "8.Why is using logging messages better than using print() to display the same message?\n",
        "\n",
        "\n",
        "```\n",
        "Answer:\n",
        "Printing is not a good idea. It may solve your issues for simple scripts but for complex scripts, the printing approach will fail.\n",
        "Python has a built-in module logging which allows writing status messages to a file or any other output streams. \n",
        "The file can contain the information on which part of the code is executed and what problems have been arisen.  \n",
        "```\n",
        "\n"
      ],
      "metadata": {
        "id": "iifoec2ex2gk"
      }
    },
    {
      "cell_type": "markdown",
      "source": [
        "9.What are the differences between the Step Over, Step, and Step Out buttons in the debugger?\n",
        "\n",
        "\n",
        "```\n",
        "Answer:\n",
        "Step - one line execution at a time\n",
        "Over - excecute the next line of code, but if it is a program, it will\n",
        "       complete the entire function call.\n",
        "out  - execute the lines of code unti it returns from the current function.\n",
        "        (out is useful when you stepped into a function call).\n",
        "```\n",
        "\n"
      ],
      "metadata": {
        "id": "yyDWGXpyx09V"
      }
    },
    {
      "cell_type": "markdown",
      "source": [
        "10.After you click Continue, when will the debugger stop ?\n",
        "\n",
        "\n",
        "```\n",
        "Answer:\n",
        "Go runs until the program terminate or reaches a breakpoint set.\n",
        "```\n",
        "\n"
      ],
      "metadata": {
        "id": "XhZnHNa4xzMF"
      }
    },
    {
      "cell_type": "markdown",
      "source": [
        "11.What is the concept of a breakpoint?\n",
        "\n",
        "\n",
        "```\n",
        "Answer:\n",
        "When you have Debugger enabled and you can right click on any lines to create a breakpoint. \n",
        "During Go - it will stop there and await your next command.\n",
        "```\n",
        "\n"
      ],
      "metadata": {
        "id": "cy2Hj3Zhxxp5"
      }
    }
  ]
}