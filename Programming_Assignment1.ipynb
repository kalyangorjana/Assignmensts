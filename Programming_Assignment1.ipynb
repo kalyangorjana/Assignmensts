{
  "nbformat": 4,
  "nbformat_minor": 0,
  "metadata": {
    "colab": {
      "provenance": [],
      "authorship_tag": "ABX9TyMplqA4bEa8EpkVYbGPZBa/",
      "include_colab_link": true
    },
    "kernelspec": {
      "name": "python3",
      "display_name": "Python 3"
    },
    "language_info": {
      "name": "python"
    }
  },
  "cells": [
    {
      "cell_type": "markdown",
      "metadata": {
        "id": "view-in-github",
        "colab_type": "text"
      },
      "source": [
        "<a href=\"https://colab.research.google.com/github/kalyangorjana/Assignmensts/blob/main/Programming_Assignment1.ipynb\" target=\"_parent\"><img src=\"https://colab.research.google.com/assets/colab-badge.svg\" alt=\"Open In Colab\"/></a>"
      ]
    },
    {
      "cell_type": "markdown",
      "source": [
        "1.Write a Python program to print &quot;Hello Python&quot;?\n",
        "\n",
        "\n",
        "```\n",
        "Answer: print(\"Hello Python\")\n",
        "```\n",
        "\n"
      ],
      "metadata": {
        "id": "mN_j_HrEkznB"
      }
    },
    {
      "cell_type": "markdown",
      "source": [
        "2.Write a Python program to do arithmetical operations addition and division.?\n",
        "\n",
        "\n",
        "```\n",
        "Answer:\n",
        "  a = 10 \n",
        "  b = 5\n",
        "  # addition\n",
        "  print(a + b)\n",
        "  # dividsion\n",
        "  print(a/b)\n",
        "```\n",
        "\n"
      ],
      "metadata": {
        "id": "3Oaik4Akkze8"
      }
    },
    {
      "cell_type": "markdown",
      "source": [
        "3.Write a Python program to find the area of a triangle?\n",
        "\n",
        "\n",
        "```\n",
        "Answer:\n",
        "  base = 10 \n",
        "  height = 5\n",
        "  # area of the triange b * h /2\n",
        "  print(base * height / 2)\n",
        "```\n",
        "\n"
      ],
      "metadata": {
        "id": "5WqVaN5EkzT7"
      }
    },
    {
      "cell_type": "markdown",
      "source": [
        "4.Write a Python program to swap two variables?\n",
        "\n",
        "\n",
        "```\n",
        "Answer:\n",
        "  a = 10 \n",
        "  b = 5\n",
        "  # before swap\n",
        "  print(f\"Before swap {a, b}\")\n",
        "\n",
        "  temp = a\n",
        "  a = b \n",
        "  b = temp\n",
        "  # after swaping\n",
        "\n",
        "  print(f\"After swap {a, b}\")\n",
        "```\n",
        "\n"
      ],
      "metadata": {
        "id": "84AmEg2ZkzK0"
      }
    },
    {
      "cell_type": "markdown",
      "source": [
        "5.Write a Python program to generate a random number?\n",
        "\n",
        "\n",
        "```\n",
        "Answer:\n",
        "  import random\n",
        "  number = random.randint(1, 200)\n",
        "  print(number)\n",
        "```\n",
        "\n"
      ],
      "metadata": {
        "id": "gsJKMHxWkyvV"
      }
    }
  ]
}