{
  "nbformat": 4,
  "nbformat_minor": 0,
  "metadata": {
    "colab": {
      "provenance": [],
      "authorship_tag": "ABX9TyPMCujDrfYn76mMHLSFQYlw",
      "include_colab_link": true
    },
    "kernelspec": {
      "name": "python3",
      "display_name": "Python 3"
    },
    "language_info": {
      "name": "python"
    }
  },
  "cells": [
    {
      "cell_type": "markdown",
      "metadata": {
        "id": "view-in-github",
        "colab_type": "text"
      },
      "source": [
        "<a href=\"https://colab.research.google.com/github/kalyangorjana/Assignmensts/blob/main/Programming_Assignment3.ipynb\" target=\"_parent\"><img src=\"https://colab.research.google.com/assets/colab-badge.svg\" alt=\"Open In Colab\"/></a>"
      ]
    },
    {
      "cell_type": "markdown",
      "source": [
        "1.Write a Python Program to Check if a Number is Positive, Negative or Zero?\n",
        "\n",
        "\n",
        "```\n",
        "Answer:\n",
        "  # Taking input form the user\n",
        "  number = int(input(\"Enter a number: \"))\n",
        "  if number < 0:\n",
        "    print(f\"{number} is a negative number\")\n",
        "  elif number > 0:\n",
        "    print(f\"{number} is a Positive number\")\n",
        "  else:\n",
        "    print(f\"{number} is Zero\")\n",
        "```\n",
        "\n"
      ],
      "metadata": {
        "id": "hxTO1JL3wVyA"
      }
    },
    {
      "cell_type": "code",
      "source": [],
      "metadata": {
        "id": "9bhcyXR4xg20"
      },
      "execution_count": null,
      "outputs": []
    },
    {
      "cell_type": "markdown",
      "source": [
        "2.Write a Python Program to Check if a Number is Odd or Even?\n",
        "\n",
        "\n",
        "```\n",
        "Answer:\n",
        "  # Taking input form the user\n",
        "  number = int(input(\"Enter a number: \"))\n",
        "  if number % 2 == 0:\n",
        "    print(f\"{number} is a Even number\")\n",
        "  else:\n",
        "    print(f\"{number} is a Odd number\")\n",
        "```\n",
        "\n"
      ],
      "metadata": {
        "id": "LmYC2V-fwV4z"
      }
    },
    {
      "cell_type": "markdown",
      "source": [
        "3.Write a Python Program to Check Leap Year?\n",
        "\n",
        "\n",
        "```\n",
        "Answer:\n",
        "  # Taking input form the user\n",
        "  year = int(input(\"Enter a year: \"))\n",
        "\n",
        "  if year % 4 == 0:\n",
        "    if year % 100 == 0:\n",
        "      if year % 400 == 0:\n",
        "        print(f\"{year} is a Leap Year\")\n",
        "      else:\n",
        "        print(f\"{year} is a not Leap Year\")\n",
        "    else:\n",
        "      print(f\"{year} is a Leap Year\")\n",
        "  else:\n",
        "    print(f\"{year} is a not Leap Year\")\n",
        "```\n",
        "\n"
      ],
      "metadata": {
        "id": "0AQHCYEKwWBq"
      }
    },
    {
      "cell_type": "markdown",
      "source": [
        "4.Write a Python Program to Check Prime Number?\n",
        "\n",
        "\n",
        "```\n",
        "Answer:\n",
        "  # Taking input form the user\n",
        "  number = int(input(\"Enter a number: \"))\n",
        "\n",
        "  count = 0\n",
        "  for i in range(1,number+1):\n",
        "    if number % i == 0:\n",
        "      count += 1\n",
        "\n",
        "  if count == 2:\n",
        "      print(f\"{number} is a Prime number\")\n",
        "  else:\n",
        "    print(f\"{number} is not a Prime number\")\n",
        "```\n",
        "\n"
      ],
      "metadata": {
        "id": "4s3EJS1dwWIi"
      }
    },
    {
      "cell_type": "markdown",
      "source": [
        "5.Write a Python Program to Print all Prime Numbers in an Interval of 1-10000?\n",
        "\n",
        "\n",
        "```\n",
        "Answer:\n",
        "  for number in range(1,10000):\n",
        "    count = 0\n",
        "    for i in range(1,number+1):\n",
        "      if number % i == 0:\n",
        "        count += 1\n",
        "    if count == 2:\n",
        "        print(number)\n",
        "```\n",
        "\n"
      ],
      "metadata": {
        "id": "WL-PYsXHwWXf"
      }
    }
  ]
}