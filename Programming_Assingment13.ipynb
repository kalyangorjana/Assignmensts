{
  "nbformat": 4,
  "nbformat_minor": 0,
  "metadata": {
    "colab": {
      "provenance": [],
      "authorship_tag": "ABX9TyOx0MB2OYUWyPAjJ4GwbHKq",
      "include_colab_link": true
    },
    "kernelspec": {
      "name": "python3",
      "display_name": "Python 3"
    },
    "language_info": {
      "name": "python"
    }
  },
  "cells": [
    {
      "cell_type": "markdown",
      "metadata": {
        "id": "view-in-github",
        "colab_type": "text"
      },
      "source": [
        "<a href=\"https://colab.research.google.com/github/kalyangorjana/Assignmensts/blob/main/Programming_Assingment13.ipynb\" target=\"_parent\"><img src=\"https://colab.research.google.com/assets/colab-badge.svg\" alt=\"Open In Colab\"/></a>"
      ]
    },
    {
      "cell_type": "markdown",
      "source": [
        "Question 1:\n",
        "\n",
        "Write a program that calculates and prints the value according to the given formula:\n",
        "\n",
        "Q = Square root of [(2 * C * D)/H]\n",
        "\n",
        "Following are the fixed values of C and H:\n",
        "\n",
        "C is 50. H is 30.\n",
        "\n",
        "D is the variable whose values should be input to your program in a comma-separated\n",
        "sequence.\n",
        "\n",
        "Example\n",
        "\n",
        "Let us assume the following comma separated input sequence is given to the program:\n",
        "\n",
        "100,150,180\n",
        "\n",
        "The output of the program should be:\n",
        "\n",
        "18,22,24"
      ],
      "metadata": {
        "id": "WqVta6RxmUe7"
      }
    },
    {
      "cell_type": "code",
      "source": [
        "d_values = input(\"Enter the values: \").split(\",\")\n",
        "c = 50\n",
        "h = 30\n",
        "final_values = []\n",
        "for d in d_values:\n",
        "  formula = ((2 * c * int(d))/h)**(1/2)\n",
        "  final_values.append(int(formula))\n",
        "print(f\"The final values: {final_values}\")"
      ],
      "metadata": {
        "id": "ojq1QYICtp_z"
      },
      "execution_count": null,
      "outputs": []
    },
    {
      "cell_type": "markdown",
      "source": [
        "Question 2:\n",
        "\n",
        "Write a program which takes 2 digits, X,Y as input and generates a 2-dimensional array. \n",
        "\n",
        "The\n",
        "element value in the i-th row and j-th column of the array should be i*j.\n",
        "\n",
        "Note: i=0,1.., X-1; j=0,1,¡Y-1.\n",
        "\n",
        "Example\n",
        "\n",
        "Suppose the following inputs are given to the program:\n",
        "3,5\n",
        "\n",
        "Then, the output of the program should be:\n",
        "\n",
        "[[0, 0, 0, 0, 0], [0, 1, 2, 3, 4], [0, 2, 4, 6, 8]]"
      ],
      "metadata": {
        "id": "uqt4O4i4mY0C"
      }
    },
    {
      "cell_type": "code",
      "source": [
        "x = int(input(\"Enter the x value: \"))\n",
        "y = int(input(\"Enter the y value: \"))\n",
        "arr = [[0 for m in range(y)] for n in range(x)]\n",
        "for i in range(x):\n",
        "  for j in range(y):\n",
        "    arr[i][j] = i * j\n",
        "print(arr)"
      ],
      "metadata": {
        "id": "D0r6-2BxAWIm"
      },
      "execution_count": null,
      "outputs": []
    },
    {
      "cell_type": "markdown",
      "source": [
        "Question 3:\n",
        "\n",
        "Write a program that accepts a comma separated sequence of words as input and prints the\n",
        "words in a comma-separated sequence after sorting them alphabetically.\n",
        "\n",
        "Suppose the following input is supplied to the program:\n",
        "\n",
        "without,hello,bag,world\n",
        "\n",
        "Then, the output should be:\n",
        "\n",
        "bag,hello,without,world"
      ],
      "metadata": {
        "id": "Uf9GxkgB1Rgz"
      }
    },
    {
      "cell_type": "code",
      "source": [
        "words = input(\"Enter the words:\").split(\",\")\n",
        "words.sort()\n",
        "result = \",\".join(words)\n",
        "print(result)"
      ],
      "metadata": {
        "id": "sR_Duc5lCMXg"
      },
      "execution_count": null,
      "outputs": []
    },
    {
      "cell_type": "markdown",
      "source": [
        "Question 4:\n",
        "\n",
        "Write a program that accepts a sequence of whitespace separated words as input and prints\n",
        "the words after removing all duplicate words and sorting them alphanumerically.\n",
        "\n",
        "Suppose the following input is supplied to the program:\n",
        "\n",
        "hello world and practice makes perfect and hello world again\n",
        "\n",
        "Then, the output should be:\n",
        "\n",
        "again and hello makes perfect practice world"
      ],
      "metadata": {
        "id": "Clz56Xhg1YeY"
      }
    },
    {
      "cell_type": "code",
      "source": [
        "words = input(\"Enter the words:\").split(\" \")\n",
        "result = list(set(words))\n",
        "result.sort()\n",
        "result = \" \".join(result)\n",
        "print(result)"
      ],
      "metadata": {
        "id": "H4s4O-qmDmJ8"
      },
      "execution_count": null,
      "outputs": []
    },
    {
      "cell_type": "markdown",
      "source": [
        "Question 5:\n",
        "\n",
        "Write a program that accepts a sentence and calculate the number of letters and digits.\n",
        "\n",
        "Suppose the following input is supplied to the program:\n",
        "\n",
        "hello world! 123\n",
        "\n",
        "Then, the output should be:\n",
        "\n",
        "LETTERS 10\n",
        "\n",
        "DIGITS 3"
      ],
      "metadata": {
        "id": "qGSLT4nP1kyb"
      }
    },
    {
      "cell_type": "code",
      "source": [
        "sen = input(\"Enter the sen:\")\n",
        "letters = 0\n",
        "digits = 0\n",
        "for i in sen:\n",
        "  if i.isalpha():\n",
        "    letters += 1\n",
        "  if i.isnumeric():\n",
        "    digits += 1\n",
        "print(f\"LETTERS {letters}\")\n",
        "print(f\"DIGITS {digits}\")"
      ],
      "metadata": {
        "id": "TpZzOBcHEv4F"
      },
      "execution_count": null,
      "outputs": []
    },
    {
      "cell_type": "markdown",
      "source": [
        "Question 6:\n",
        "\n",
        "A website requires the users to input username and password to register. Write a program to\n",
        "check the validity of password input by users.\n",
        "\n",
        "Following are the criteria for checking the password:\n",
        "\n",
        "1. At least 1 letter between [a-z]\n",
        "\n",
        "2. At least 1 number between [0-9]\n",
        "\n",
        "1. At least 1 letter between [A-Z]\n",
        "\n",
        "3. At least 1 character from [$#@]\n",
        "\n",
        "4. Minimum length of transaction password: 6\n",
        "\n",
        "5. Maximum length of transaction password: 12\n",
        "\n",
        "Your program should accept a sequence of comma separated passwords and will check them\n",
        "\n",
        "according to the above criteria. Passwords that match the criteria are to be printed, each\n",
        "separated by a comma.\n",
        "\n",
        "Example\n",
        "\n",
        "If the following passwords are given as input to the program:\n",
        "\n",
        "ABd1234@1,a F1#,2w3E*,2We3345\n",
        "\n",
        "Then, the output of the program should be:\n",
        "\n",
        "ABd1234@1"
      ],
      "metadata": {
        "id": "KuJlT_yy1s3Y"
      }
    },
    {
      "cell_type": "code",
      "source": [
        "passwords = input(\"Enter the passwords: \").split(\",\")\n",
        "l , u, n, s = 0, 0, 0, 0\n",
        "valid_passwords = []\n",
        "\n",
        "for j in passwords:\n",
        "  if len(j) > 6 and len(j) < 12:\n",
        "    for i in j:\n",
        "        if (i.islower()):\n",
        "          l+=1           \n",
        "        if (i.isupper()):\n",
        "          u+=1           \n",
        "        if (i.isdigit()):\n",
        "          n+=1           \n",
        "        if(i=='@'or i=='$' or i=='_'):\n",
        "            s+=1   \n",
        "  if (l>=1 and u>=1 and n>=1 and s>=1 and l+s+u+n==len(j)):\n",
        "    valid_passwords.append(j)\n",
        "\n",
        "print(f\"Valid passwords are: {','.join(valid_passwords)}\")"
      ],
      "metadata": {
        "id": "iRWB6mZfGSFB"
      },
      "execution_count": null,
      "outputs": []
    }
  ]
}