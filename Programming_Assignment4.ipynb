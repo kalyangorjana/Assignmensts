{
  "nbformat": 4,
  "nbformat_minor": 0,
  "metadata": {
    "colab": {
      "provenance": [],
      "authorship_tag": "ABX9TyMOvVaVrJ4msSx9PKM7XOQm",
      "include_colab_link": true
    },
    "kernelspec": {
      "name": "python3",
      "display_name": "Python 3"
    },
    "language_info": {
      "name": "python"
    }
  },
  "cells": [
    {
      "cell_type": "markdown",
      "metadata": {
        "id": "view-in-github",
        "colab_type": "text"
      },
      "source": [
        "<a href=\"https://colab.research.google.com/github/kalyangorjana/Assignmensts/blob/main/Programming_Assignment4.ipynb\" target=\"_parent\"><img src=\"https://colab.research.google.com/assets/colab-badge.svg\" alt=\"Open In Colab\"/></a>"
      ]
    },
    {
      "cell_type": "markdown",
      "source": [
        "1.Write a Python Program to Find the Factorial of a Number?\n",
        "\n",
        "\n",
        "```\n",
        "Answer:\n",
        "  n = int(input(\"Enter a Number\"))\n",
        "  fact = 1\n",
        "  for i in range(1,n+1):\n",
        "    fact *= i\n",
        "  print(f\"Factorial of the {n} is {fact}\")\n",
        "```\n",
        "\n"
      ],
      "metadata": {
        "id": "PXldzMSV0gkN"
      }
    },
    {
      "cell_type": "markdown",
      "source": [
        "2.Write a Python Program to Display the multiplication Table?\n",
        "\n",
        "\n",
        "```\n",
        "Answer:\n",
        "  n = int(input(\"Enter a number : \"))\n",
        "  for i in range(1, 11):\n",
        "    print(f\"{n} * {i}  =  {n*i}\")\n",
        "```\n",
        "\n"
      ],
      "metadata": {
        "id": "xdOWhmkk0gtq"
      }
    },
    {
      "cell_type": "markdown",
      "source": [
        "3.Write a Python Program to Print the Fibonacci sequence?\n",
        "\n",
        "\n",
        "```\n",
        "Answer:\n",
        "  n = int(input(\"Enter a number : \"))\n",
        "  first = 0\n",
        "  second = 1\n",
        "  print(first)\n",
        "  print(second)\n",
        "\n",
        "  n -=2\n",
        "  while n > 0:\n",
        "    print(first + second)\n",
        "\n",
        "    temp = second\n",
        "    second = first + second\n",
        "    first = temp\n",
        "\n",
        "    n -=1\n",
        "```\n",
        "\n"
      ],
      "metadata": {
        "id": "4RiDR78A0g3p"
      }
    },
    {
      "cell_type": "markdown",
      "source": [
        "4.Write a Python Program to Check Armstrong Number?\n",
        "\n",
        "\n",
        "```\n",
        "Answer:\n",
        "  n = input(\"Enter the number\")\n",
        "  sum = 0\n",
        "  for i in n:\n",
        "    sum += int(i)**len(n)\n",
        "  if int(n) == sum:\n",
        "    print(\"The given number is amstrong number\")\n",
        "  else:\n",
        "    print(\"The given number is not amstrong number\")\n",
        "```\n",
        "\n"
      ],
      "metadata": {
        "id": "K-1_sv_S0hCJ"
      }
    }
  ]
}