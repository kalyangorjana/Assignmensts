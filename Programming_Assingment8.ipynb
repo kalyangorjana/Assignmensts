{
  "nbformat": 4,
  "nbformat_minor": 0,
  "metadata": {
    "colab": {
      "provenance": [],
      "authorship_tag": "ABX9TyMgX0dquNXASZJjYeY5qvop",
      "include_colab_link": true
    },
    "kernelspec": {
      "name": "python3",
      "display_name": "Python 3"
    },
    "language_info": {
      "name": "python"
    }
  },
  "cells": [
    {
      "cell_type": "markdown",
      "metadata": {
        "id": "view-in-github",
        "colab_type": "text"
      },
      "source": [
        "<a href=\"https://colab.research.google.com/github/kalyangorjana/Assignmensts/blob/main/Programming_Assingment8.ipynb\" target=\"_parent\"><img src=\"https://colab.research.google.com/assets/colab-badge.svg\" alt=\"Open In Colab\"/></a>"
      ]
    },
    {
      "cell_type": "markdown",
      "source": [
        "1.Write a Python Program to Add Two Matrices?\n",
        "\n",
        "\n",
        "```\n",
        "Answer:\n",
        "  arr1 = [[1,2,4],[3,4,5],[1,2,4]]\n",
        "  arr2 = [[2,4,6],[4,5,6],[2,4,6]]\n",
        "  add = [[0,0,0],[0,0,0],[0,0,0]]\n",
        "  for i in range(len(arr1)):\n",
        "    for j in range(len(arr1[0])):\n",
        "      add[i][j] = arr1[i][j] + arr2[i][j]\n",
        "\n",
        "  print(f\"Addition of the given matrices {add}\")\n",
        "```\n",
        "\n"
      ],
      "metadata": {
        "id": "-GnKYFsFdyqA"
      }
    },
    {
      "cell_type": "markdown",
      "source": [
        "2.Write a Python Program to Multiply Two Matrices?\n",
        "\n",
        "\n",
        "```\n",
        "Answer: \n",
        "  arr1 = [[12,7,3],\n",
        "      [4 ,5,6],\n",
        "      [7 ,8,9]]\n",
        "  arr2 = [[5,8,1,2],\n",
        "      [6,7,3,0],\n",
        "      [4,5,9,1]]\n",
        "  mul = [[0,0,0,0],[0,0,0,0],[0,0,0,0]]\n",
        "  for i in range(len(arr1)):\n",
        "    for j in range(len(arr2[0])):\n",
        "      for k in range(len(arr2)):\n",
        "        mul[i][j] += arr1[i][k] * arr2[k][j]\n",
        "\n",
        "  print(f\"Multiplication of the given matrix {mul}\")\n",
        "```\n",
        "\n"
      ],
      "metadata": {
        "id": "IIDw0eq9d0wo"
      }
    },
    {
      "cell_type": "markdown",
      "source": [
        "3.Write a Python Program to Transpose a Matrix?\n",
        "\n",
        "\n",
        "\n",
        "```\n",
        "Answer:\n",
        "  arr1 = [[12,7,3],\n",
        "      [4 ,5,6],\n",
        "      [7 ,8,9]]\n",
        "  tran = [[0,0,0],[0,0,0],[0,0,0]]\n",
        "  for i in range(len(arr1)):\n",
        "    for j in range(len(arr1)):\n",
        "        tran[i][j] = arr1[j][i]\n",
        "\n",
        "  print(f\"Transpose of the given matrix {tran}\")\n",
        "```\n",
        "\n"
      ],
      "metadata": {
        "id": "ZdTO_zIvdysm"
      }
    },
    {
      "cell_type": "markdown",
      "source": [
        "4.Write a Python Program to Sort Words in Alphabetic Order?\n",
        "\n",
        "\n",
        "```\n",
        "Answer:\n",
        "  arr = ['strawberry','oranges','bananas','mangoes','grapes','apples']\n",
        "  arr.sort()\n",
        "  print(f\"Fruits names in alphabetic order {arr}\")\n",
        "```\n",
        "\n"
      ],
      "metadata": {
        "id": "67Ogtwlwdyu7"
      }
    },
    {
      "cell_type": "markdown",
      "source": [
        "5.Write a Python Program to Remove Punctuation From a String?\n",
        "\n",
        "\n",
        "```\n",
        "Answer:\n",
        "  string1 = input(\"Enter a String: \")\n",
        "  string2 = \"\"\n",
        "  for i in string1:\n",
        "    if i.isalpha():\n",
        "      string2 += i\n",
        "\n",
        "  print(f\"The string after removing the punctuation: {string2}\")\n",
        "```\n",
        "\n"
      ],
      "metadata": {
        "id": "WInQy0Fidyxi"
      }
    }
  ]
}