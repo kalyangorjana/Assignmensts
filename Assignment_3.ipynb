{
  "nbformat": 4,
  "nbformat_minor": 0,
  "metadata": {
    "colab": {
      "provenance": [],
      "authorship_tag": "ABX9TyOMWXSKQwA/MAwEmtA1gFNl",
      "include_colab_link": true
    },
    "kernelspec": {
      "name": "python3",
      "display_name": "Python 3"
    },
    "language_info": {
      "name": "python"
    }
  },
  "cells": [
    {
      "cell_type": "markdown",
      "metadata": {
        "id": "view-in-github",
        "colab_type": "text"
      },
      "source": [
        "<a href=\"https://colab.research.google.com/github/kalyangorjana/Assignmensts/blob/main/Assignment_3.ipynb\" target=\"_parent\"><img src=\"https://colab.research.google.com/assets/colab-badge.svg\" alt=\"Open In Colab\"/></a>"
      ]
    },
    {
      "cell_type": "markdown",
      "source": [
        "1.Why are functions advantageous to have in your programs?\n",
        "\n",
        "\n",
        "```\n",
        "Answer:\n",
        "By using functions, we can avoid rewriting same logic/code again and again in a program. We can call python functions any number \n",
        "of times in a program and from any place in a program. We can track a large python program easily when it is divided into \n",
        "multiple functions. Reusability is the main achievement of python functions.\n",
        "```\n",
        "\n"
      ],
      "metadata": {
        "id": "vSW_mwfoXJvF"
      }
    },
    {
      "cell_type": "markdown",
      "source": [
        "2.When does the code in a function run: when it&#39;s specified or when it&#39;s called?\n",
        "\n",
        "\n",
        "```\n",
        "Answer:\n",
        "When the function called then only the code in the function run.\n",
        "```\n",
        "\n"
      ],
      "metadata": {
        "id": "qW6XVVRpXLg1"
      }
    },
    {
      "cell_type": "markdown",
      "source": [
        "3.What statement creates a function?\n",
        "\n",
        "\n",
        "```\n",
        "Answer:\n",
        "\"def\" keyword we used to create a function\n",
        "```\n",
        "\n"
      ],
      "metadata": {
        "id": "zD6wZMRZXL91"
      }
    },
    {
      "cell_type": "markdown",
      "source": [
        "4.What is the difference between a function and a function call?\n",
        "\n",
        "\n",
        "```\n",
        "Answer:\n",
        "A function is a block of code that does a particular operation and returns a result. It usually accepts inputs as parameters \n",
        "and returns a result. The parameters are not mandatory. A function call is the code used to pass control to a function.\n",
        "```\n",
        "\n"
      ],
      "metadata": {
        "id": "DREd2v8KXMPq"
      }
    },
    {
      "cell_type": "markdown",
      "source": [
        "5.How many global scopes are there in a Python program? How many local scopes?\n",
        "\n",
        "\n",
        "```\n",
        "Answer:\n",
        "There is one global and local scope.\n",
        "```\n",
        "\n"
      ],
      "metadata": {
        "id": "zGea9f_1XMhJ"
      }
    },
    {
      "cell_type": "markdown",
      "source": [
        "6.What happens to variables in a local scope when the function call returns?\n",
        "\n",
        "\n",
        "```\n",
        "Answer:\n",
        "The variable in the local scope get destroyed after function exectuion is completed.\n",
        "```\n",
        "\n"
      ],
      "metadata": {
        "id": "s9DeUtUlXMyN"
      }
    },
    {
      "cell_type": "code",
      "source": [
        "def test():\n",
        "  x = 5\n",
        "  return x\n",
        "\n",
        "print(5 + test())"
      ],
      "metadata": {
        "colab": {
          "base_uri": "https://localhost:8080/"
        },
        "id": "T9kK1MQoVOxo",
        "outputId": "a6f3d5fe-7361-4996-d1a5-722ca538db70"
      },
      "execution_count": 2,
      "outputs": [
        {
          "output_type": "stream",
          "name": "stdout",
          "text": [
            "10\n"
          ]
        }
      ]
    },
    {
      "cell_type": "markdown",
      "source": [
        "7.What is the concept of a return value? Is it possible to have a return value in an expression?\n",
        "\n",
        "\n",
        "```\n",
        "Answer:\n",
        "A return is a value that a function returns to the calling script or function when it completes its task and it is \n",
        "possible to have a return value in an expression\n",
        "```\n",
        "\n"
      ],
      "metadata": {
        "id": "jsC1dQifXNFy"
      }
    },
    {
      "cell_type": "markdown",
      "source": [
        "8.If a function does not have a return statement, what is the return value of a call to that function?\n",
        "\n",
        "\n",
        "```\n",
        "Answer:\n",
        "If no return statement appears in a function definition, control automatically returns to the calling function after the last statement of the called function is executed\n",
        "```\n",
        "\n"
      ],
      "metadata": {
        "id": "VQECfcZ7XNcR"
      }
    },
    {
      "cell_type": "markdown",
      "source": [
        "9.How do you make a function variable refer to the global variable?\n",
        "\n",
        "\n",
        "```\n",
        "Answer:\n",
        "You can use the \"global\" keyword to make the function variable to global variable\n",
        "```\n",
        "\n"
      ],
      "metadata": {
        "id": "uDQFvfapXN1p"
      }
    },
    {
      "cell_type": "markdown",
      "source": [
        "10.What is the data type of None?\n",
        "\n",
        "\n",
        "```\n",
        "Answer:\n",
        "The None keyword is used to define a null value, or no value at all. None is not the same as 0, False, or an empty string. \n",
        "None is a data type of its own (NoneType) and only None can be None.\n",
        "```\n",
        "\n"
      ],
      "metadata": {
        "id": "fqn3eDn8XOR0"
      }
    },
    {
      "cell_type": "markdown",
      "source": [
        "11.What does the sentence import areallyourpetsnamederic do?\n",
        "\n",
        "\n",
        "```\n",
        "Answer:\n",
        "The given statement allows you to import one or more modules into your Python\n",
        "program, letting you make use of the definitions constructed in those modules.\n",
        "```\n",
        "\n"
      ],
      "metadata": {
        "id": "NUJzvMr_Xoe4"
      }
    },
    {
      "cell_type": "markdown",
      "source": [
        "12.If you had a bacon() feature in a spam module, what would you call it after importing spam?\n",
        "\n",
        "\n",
        "```\n",
        "Answer:\n",
        "We will use \"spam.bacon()\" statement to call the feature.\n",
        "```\n",
        "\n"
      ],
      "metadata": {
        "id": "mMqf5CtjXpuD"
      }
    },
    {
      "cell_type": "markdown",
      "source": [
        "13.What can you do to save a programme from crashing if it encounters an error?\n",
        "\n",
        "\n",
        "```\n",
        "Answer:\n",
        "When it encounters an error, the control is passed to the except block, skipping the code in between. \n",
        "As seen in the above code, we have moved our code inside a try and except statement. \n",
        "Try running the program and it should throw an error message instead of crashing the program.\n",
        "```\n",
        "\n"
      ],
      "metadata": {
        "id": "3zWgbT9qXpkE"
      }
    },
    {
      "cell_type": "markdown",
      "source": [
        "14.What is the purpose of the try clause? What is the purpose of the except clause?\n",
        "\n",
        "\n",
        "```\n",
        "Answer:\n",
        "The try block lets you test a block of code for errors. The except block lets you handle the error.\n",
        "```\n",
        "\n"
      ],
      "metadata": {
        "id": "r2TT2fHjXpZD"
      }
    }
  ]
}