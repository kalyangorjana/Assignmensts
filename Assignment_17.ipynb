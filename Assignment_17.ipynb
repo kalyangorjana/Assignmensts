{
  "nbformat": 4,
  "nbformat_minor": 0,
  "metadata": {
    "colab": {
      "provenance": [],
      "authorship_tag": "ABX9TyMNgp7cagu1g6vreQkkong5",
      "include_colab_link": true
    },
    "kernelspec": {
      "name": "python3",
      "display_name": "Python 3"
    },
    "language_info": {
      "name": "python"
    }
  },
  "cells": [
    {
      "cell_type": "markdown",
      "metadata": {
        "id": "view-in-github",
        "colab_type": "text"
      },
      "source": [
        "<a href=\"https://colab.research.google.com/github/kalyangorjana/Assignmensts/blob/main/Assignment_17.ipynb\" target=\"_parent\"><img src=\"https://colab.research.google.com/assets/colab-badge.svg\" alt=\"Open In Colab\"/></a>"
      ]
    },
    {
      "cell_type": "markdown",
      "source": [
        "1.Assign the value 7 to the variable guess_me. Then, write the conditional tests (if, else, and elif) to\n",
        "print the string &#39;too low&#39; if guess_me is less than 7, &#39;too high&#39; if greater than 7, and &#39;just right&#39; if equal\n",
        "to 7."
      ],
      "metadata": {
        "id": "tDeZDP_FeUqS"
      }
    },
    {
      "cell_type": "code",
      "source": [
        "guess_me = 7\n",
        "if guess_me < 7:\n",
        "  print(\"too low\")\n",
        "elif guess_me > 7:\n",
        "  print(\"too high\")\n",
        "else:\n",
        "  print(\"just right\")"
      ],
      "metadata": {
        "id": "_-AwmRBS_PIg"
      },
      "execution_count": null,
      "outputs": []
    },
    {
      "cell_type": "markdown",
      "source": [
        "2.Assign the value 7 to the variable guess_me and the value 1 to the variable start. Write a while\n",
        "loop that compares start with guess_me. Print too low if start is less than guess me. If start equals\n",
        "guess_me, print &#39;found it!&#39; and exit the loop. If start is greater than guess_me, print &#39;oops&#39; and exit\n",
        "the loop. Increment start at the end of the loop.\n"
      ],
      "metadata": {
        "id": "YqnpCUj5eymb"
      }
    },
    {
      "cell_type": "code",
      "source": [
        "guess_me = 7\n",
        "start = 1\n",
        "while(True):\n",
        "  if start < guess_me:\n",
        "    print(\"too low\")\n",
        "  elif guess_me < start:\n",
        "    print(\"opps\")\n",
        "    break\n",
        "  else:\n",
        "    print(\"found it!\")\n",
        "    break\n",
        "  start += 1"
      ],
      "metadata": {
        "id": "STU_Dl6U_6Pt"
      },
      "execution_count": null,
      "outputs": []
    },
    {
      "cell_type": "markdown",
      "source": [
        "3.Print the following values of the list [3, 2, 1, 0] using a for loop."
      ],
      "metadata": {
        "id": "7vZkssWQevuz"
      }
    },
    {
      "cell_type": "code",
      "source": [
        "li = [3,2,1,0]\n",
        "for i in li:\n",
        "  print(i)"
      ],
      "metadata": {
        "id": "mUgatHqJBHZ7"
      },
      "execution_count": null,
      "outputs": []
    },
    {
      "cell_type": "markdown",
      "source": [
        "4.Use a list comprehension to make a list of the even numbers in range(10)"
      ],
      "metadata": {
        "id": "O8UAPgTxeuBt"
      }
    },
    {
      "cell_type": "code",
      "source": [
        "li = [i for i in range(10) if i%2 == 0]\n",
        "print(li)"
      ],
      "metadata": {
        "id": "dCKwk2SBBZP8"
      },
      "execution_count": null,
      "outputs": []
    },
    {
      "cell_type": "markdown",
      "source": [
        "5.Use a dictionary comprehension to create the dictionary squares. Use range(10) to return the\n",
        "keys, and use the square of each key as its value."
      ],
      "metadata": {
        "id": "0LasytArer7U"
      }
    },
    {
      "cell_type": "code",
      "source": [
        "di = {i:i**2 for i in range(10)}\n",
        "print(di)"
      ],
      "metadata": {
        "id": "qHQkHn45Bur6"
      },
      "execution_count": null,
      "outputs": []
    },
    {
      "cell_type": "markdown",
      "source": [
        "6.Construct the set odd from the odd numbers in the range using a set comprehension (10)."
      ],
      "metadata": {
        "id": "IvRf4JCUep_Y"
      }
    },
    {
      "cell_type": "code",
      "source": [
        "s = {i for i in range(10) if i%2 != 0}\n",
        "print(s)"
      ],
      "metadata": {
        "id": "9czEAUIHCdAj"
      },
      "execution_count": null,
      "outputs": []
    },
    {
      "cell_type": "markdown",
      "source": [
        "7.Use a generator comprehension to return the string &#39;Got &#39; and a number for the numbers in\n",
        "range(10). Iterate through this by using a for loop."
      ],
      "metadata": {
        "id": "cuiX6_VSen_g"
      }
    },
    {
      "cell_type": "code",
      "source": [
        "gen = ['got'+str(i) for i in range(10)]\n",
        "for i in gen:\n",
        "  print(i)"
      ],
      "metadata": {
        "id": "rHOh_UDZEM0S"
      },
      "execution_count": null,
      "outputs": []
    },
    {
      "cell_type": "markdown",
      "source": [
        "8.Define a function called good that returns the list [&#39;Harry&#39;, &#39;Ron&#39;, &#39;Hermione&#39;]."
      ],
      "metadata": {
        "id": "d2jiHc_Jeiqo"
      }
    },
    {
      "cell_type": "code",
      "source": [
        "def name_list():\n",
        "  return ['Harry', 'Ron', 'Hermione']\n",
        "print(name_list())"
      ],
      "metadata": {
        "id": "yXXlImPcFJYj"
      },
      "execution_count": null,
      "outputs": []
    },
    {
      "cell_type": "markdown",
      "source": [
        "9.Define a generator function called get_odds that returns the odd numbers from range(10). Use a\n",
        "for loop to find and print the third value returned."
      ],
      "metadata": {
        "id": "xjbQ-5zdeglj"
      }
    },
    {
      "cell_type": "code",
      "source": [
        "def get_odds():\n",
        "    for i in range(10):\n",
        "      if i%2 != 0:\n",
        "        yield i\n",
        "count = 0\n",
        "for i in get_odds():\n",
        "  if count == 2:\n",
        "    print(i)\n",
        "  count +=1"
      ],
      "metadata": {
        "colab": {
          "base_uri": "https://localhost:8080/"
        },
        "id": "gwGHJRNKFc66",
        "outputId": "3fbbbdb2-2640-4edb-f708-6724135a9f03"
      },
      "execution_count": 33,
      "outputs": [
        {
          "output_type": "stream",
          "name": "stdout",
          "text": [
            "5\n"
          ]
        }
      ]
    },
    {
      "cell_type": "markdown",
      "source": [
        "10.Define an exception called OopsException. Raise this exception to see what happens. Then write\n",
        "the code to catch this exception and print &#39;Caught an oops&#39;."
      ],
      "metadata": {
        "id": "cq5y2Io5edqD"
      }
    },
    {
      "cell_type": "code",
      "source": [
        "class OopsException(Exception):\n",
        "  pass\n",
        "\n",
        "def with_exception(a):\n",
        "  if a < 0:\n",
        "      raise OopsException(a)\n",
        "try:\n",
        "  with_exception(-1)\n",
        "except OopsException as err:\n",
        "  print('Caught an oops')"
      ],
      "metadata": {
        "id": "BH37mYWXG-a1"
      },
      "execution_count": null,
      "outputs": []
    },
    {
      "cell_type": "markdown",
      "source": [
        "11.Use zip() to make a dictionary called movies that pairs these lists: titles = [&#39;Creature of Habit&#39;,\n",
        "&#39;Crewel Fate&#39;] and plots = [&#39;A nun turns into a monster&#39;, &#39;A haunted yarn shop&#39;]."
      ],
      "metadata": {
        "id": "SxA7hWK5ebbn"
      }
    },
    {
      "cell_type": "code",
      "source": [
        "titles = ['Creature of Habit', 'Crewel Fate']\n",
        "plots = ['A nun turns into a monster', 'A haunted yarn shop']\n",
        "myDict = { title:plot for (title,plot) in zip(titles,plots)} \n",
        "myDict"
      ],
      "metadata": {
        "id": "gysmU1l8H6Oe"
      },
      "execution_count": null,
      "outputs": []
    }
  ]
}